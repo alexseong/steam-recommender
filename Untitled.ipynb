{
 "cells": [
  {
   "cell_type": "code",
   "execution_count": 311,
   "metadata": {
    "collapsed": true
   },
   "outputs": [],
   "source": [
    "import json\n",
    "import pandas as pd\n",
    "import numpy as np\n",
    "from pandas.io.json import json_normalize\n",
    "from ast import literal_eval\n",
    "import os\n",
    "from glob2 import glob, iglob\n",
    "from math import ceil"
   ]
  },
  {
   "cell_type": "code",
   "execution_count": 365,
   "metadata": {
    "collapsed": true
   },
   "outputs": [],
   "source": [
    "def conv_json_to_df(filepath):\n",
    "    # json_dir_name = \"s3://steam-recommender/Data/json_batch1\"\n",
    "    json_pattern = os.path.join(filepath) + '*.json'\n",
    "    fileslist = glob(json_pattern)\n",
    "    i = 0\n",
    "    num_json = len(fileslist)\n",
    "    df = pd.DataFrame()\n",
    "    for files in fileslist:\n",
    "        with open(files) as f:\n",
    "            data = literal_eval(f.read())\n",
    "            i += 1\n",
    "            if data['response'] == {}:\n",
    "                continue\n",
    "            else:\n",
    "                df_temp = json_normalize(data['response'], 'games')\n",
    "                df_temp['userid'] = data['userid']\n",
    "                df_temp.rename(columns={'playtime_forever' : 'playhrs'}, inplace=True)\n",
    "                df_temp['playhrs'] = df_temp['playhrs'] / 60.0\n",
    "                df_temp = df_temp[['userid','appid','playhrs']]\n",
    "                if df.empty:\n",
    "                    df = pd.DataFrame(columns = df_temp.columns)\n",
    "                df = df.append(df_temp)\n",
    "        if i % 100000 == 0 or i == num_json:\n",
    "            df.to_csv(filepath + 'users_owned_games_{}.csv'.format(int(ceil(i/100000.0))), \\\n",
    "            index=False)\n",
    "            df = df[0:0]\n",
    "    return df"
   ]
  },
  {
   "cell_type": "code",
   "execution_count": 366,
   "metadata": {
    "collapsed": false
   },
   "outputs": [],
   "source": [
    "def pivot_data(filepath, df):\n",
    "    json_pattern = os.path.join(filepath) + '*.csv'\n",
    "    fileslist = glob(json_pattern)\n",
    "    df = pd.DataFrame()\n",
    "    for files in fileslist:\n",
    "        df_temp = pd.read_csv(files)\n",
    "        if df.empty:\n",
    "            df = pd.DataFrame(columns = df_temp.columns)\n",
    "        df = df.append(df_temp)\n",
    "\n",
    "    df['has'] = 1\n",
    "    df['userid'] = df['userid'].apply(lambda x: str(int(x)))\n",
    "    df['userid'] = df['userid'].apply(lambda x: int(x))\n",
    "    df = df[['userid','appid','has','playhrs']]\n",
    "    df = pd.pivot_table(df,index=['userid'], columns = ['appid'], \\\n",
    "         values=['playhrs','has'],aggfunc=np.sum)\n",
    "    df.columns =[s1 + '_' + str(int(s2)) for (s1,s2) in df.columns.tolist()]\n",
    "    df.fillna(0, inplace=True)\n",
    "    df[filter(lambda x: x.startswith(\"has\"),df.columns)] = df[filter(lambda x: x.startswith(\"has\"),df.columns)].astype(int)\n",
    "    df.reset_index('userid', inplace=True)\n",
    "    return df"
   ]
  },
  {
   "cell_type": "code",
   "execution_count": 367,
   "metadata": {
    "collapsed": false
   },
   "outputs": [],
   "source": [
    "df = conv_json_to_df('sample_json/')"
   ]
  },
  {
   "cell_type": "code",
   "execution_count": 371,
   "metadata": {
    "collapsed": false,
    "scrolled": true
   },
   "outputs": [
    {
     "data": {
      "text/html": [
       "<div>\n",
       "<table border=\"1\" class=\"dataframe\">\n",
       "  <thead>\n",
       "    <tr style=\"text-align: right;\">\n",
       "      <th></th>\n",
       "      <th>userid</th>\n",
       "      <th>appid</th>\n",
       "      <th>playhrs</th>\n",
       "    </tr>\n",
       "  </thead>\n",
       "  <tbody>\n",
       "    <tr>\n",
       "      <th>0</th>\n",
       "      <td>76561197960272283</td>\n",
       "      <td>10.0</td>\n",
       "      <td>0.716667</td>\n",
       "    </tr>\n",
       "    <tr>\n",
       "      <th>1</th>\n",
       "      <td>76561197960272283</td>\n",
       "      <td>20.0</td>\n",
       "      <td>0.000000</td>\n",
       "    </tr>\n",
       "    <tr>\n",
       "      <th>2</th>\n",
       "      <td>76561197960272283</td>\n",
       "      <td>30.0</td>\n",
       "      <td>0.000000</td>\n",
       "    </tr>\n",
       "    <tr>\n",
       "      <th>3</th>\n",
       "      <td>76561197960272283</td>\n",
       "      <td>40.0</td>\n",
       "      <td>0.000000</td>\n",
       "    </tr>\n",
       "    <tr>\n",
       "      <th>4</th>\n",
       "      <td>76561197960272283</td>\n",
       "      <td>50.0</td>\n",
       "      <td>1.433333</td>\n",
       "    </tr>\n",
       "    <tr>\n",
       "      <th>5</th>\n",
       "      <td>76561197960272283</td>\n",
       "      <td>60.0</td>\n",
       "      <td>0.000000</td>\n",
       "    </tr>\n",
       "    <tr>\n",
       "      <th>6</th>\n",
       "      <td>76561197960272283</td>\n",
       "      <td>70.0</td>\n",
       "      <td>0.950000</td>\n",
       "    </tr>\n",
       "    <tr>\n",
       "      <th>7</th>\n",
       "      <td>76561197960272283</td>\n",
       "      <td>130.0</td>\n",
       "      <td>2.116667</td>\n",
       "    </tr>\n",
       "    <tr>\n",
       "      <th>8</th>\n",
       "      <td>76561197960272283</td>\n",
       "      <td>80.0</td>\n",
       "      <td>0.000000</td>\n",
       "    </tr>\n",
       "    <tr>\n",
       "      <th>9</th>\n",
       "      <td>76561197960272283</td>\n",
       "      <td>100.0</td>\n",
       "      <td>0.000000</td>\n",
       "    </tr>\n",
       "    <tr>\n",
       "      <th>10</th>\n",
       "      <td>76561197960272283</td>\n",
       "      <td>220.0</td>\n",
       "      <td>0.066667</td>\n",
       "    </tr>\n",
       "    <tr>\n",
       "      <th>11</th>\n",
       "      <td>76561197960272283</td>\n",
       "      <td>240.0</td>\n",
       "      <td>55.350000</td>\n",
       "    </tr>\n",
       "    <tr>\n",
       "      <th>12</th>\n",
       "      <td>76561197960272283</td>\n",
       "      <td>280.0</td>\n",
       "      <td>0.000000</td>\n",
       "    </tr>\n",
       "    <tr>\n",
       "      <th>13</th>\n",
       "      <td>76561197960272283</td>\n",
       "      <td>300.0</td>\n",
       "      <td>0.083333</td>\n",
       "    </tr>\n",
       "    <tr>\n",
       "      <th>14</th>\n",
       "      <td>76561197960272283</td>\n",
       "      <td>320.0</td>\n",
       "      <td>0.000000</td>\n",
       "    </tr>\n",
       "    <tr>\n",
       "      <th>15</th>\n",
       "      <td>76561197960272283</td>\n",
       "      <td>340.0</td>\n",
       "      <td>0.000000</td>\n",
       "    </tr>\n",
       "    <tr>\n",
       "      <th>16</th>\n",
       "      <td>76561197960272283</td>\n",
       "      <td>360.0</td>\n",
       "      <td>0.000000</td>\n",
       "    </tr>\n",
       "    <tr>\n",
       "      <th>17</th>\n",
       "      <td>76561197960272283</td>\n",
       "      <td>1002.0</td>\n",
       "      <td>0.000000</td>\n",
       "    </tr>\n",
       "    <tr>\n",
       "      <th>18</th>\n",
       "      <td>76561197960272283</td>\n",
       "      <td>1300.0</td>\n",
       "      <td>0.000000</td>\n",
       "    </tr>\n",
       "    <tr>\n",
       "      <th>19</th>\n",
       "      <td>76561197960272283</td>\n",
       "      <td>1309.0</td>\n",
       "      <td>0.000000</td>\n",
       "    </tr>\n",
       "  </tbody>\n",
       "</table>\n",
       "</div>"
      ],
      "text/plain": [
       "               userid   appid    playhrs\n",
       "0   76561197960272283    10.0   0.716667\n",
       "1   76561197960272283    20.0   0.000000\n",
       "2   76561197960272283    30.0   0.000000\n",
       "3   76561197960272283    40.0   0.000000\n",
       "4   76561197960272283    50.0   1.433333\n",
       "5   76561197960272283    60.0   0.000000\n",
       "6   76561197960272283    70.0   0.950000\n",
       "7   76561197960272283   130.0   2.116667\n",
       "8   76561197960272283    80.0   0.000000\n",
       "9   76561197960272283   100.0   0.000000\n",
       "10  76561197960272283   220.0   0.066667\n",
       "11  76561197960272283   240.0  55.350000\n",
       "12  76561197960272283   280.0   0.000000\n",
       "13  76561197960272283   300.0   0.083333\n",
       "14  76561197960272283   320.0   0.000000\n",
       "15  76561197960272283   340.0   0.000000\n",
       "16  76561197960272283   360.0   0.000000\n",
       "17  76561197960272283  1002.0   0.000000\n",
       "18  76561197960272283  1300.0   0.000000\n",
       "19  76561197960272283  1309.0   0.000000"
      ]
     },
     "execution_count": 371,
     "metadata": {},
     "output_type": "execute_result"
    }
   ],
   "source": [
    "df.head(20)"
   ]
  },
  {
   "cell_type": "code",
   "execution_count": null,
   "metadata": {
    "collapsed": false
   },
   "outputs": [],
   "source": []
  },
  {
   "cell_type": "code",
   "execution_count": 376,
   "metadata": {
    "collapsed": false
   },
   "outputs": [],
   "source": [
    "df_T = pivot_data('sample_json/', df)"
   ]
  },
  {
   "cell_type": "code",
   "execution_count": 387,
   "metadata": {
    "collapsed": false
   },
   "outputs": [
    {
     "data": {
      "text/html": [
       "<div>\n",
       "<table border=\"1\" class=\"dataframe\">\n",
       "  <thead>\n",
       "    <tr style=\"text-align: right;\">\n",
       "      <th></th>\n",
       "      <th>userid</th>\n",
       "      <th>has_10</th>\n",
       "      <th>has_20</th>\n",
       "      <th>has_30</th>\n",
       "      <th>has_40</th>\n",
       "      <th>has_50</th>\n",
       "      <th>has_60</th>\n",
       "      <th>has_70</th>\n",
       "      <th>has_80</th>\n",
       "      <th>has_100</th>\n",
       "      <th>...</th>\n",
       "      <th>playhrs_497810</th>\n",
       "      <th>playhrs_497811</th>\n",
       "      <th>playhrs_497812</th>\n",
       "      <th>playhrs_497813</th>\n",
       "      <th>playhrs_500500</th>\n",
       "      <th>playhrs_515040</th>\n",
       "      <th>playhrs_524440</th>\n",
       "      <th>playhrs_539640</th>\n",
       "      <th>playhrs_550040</th>\n",
       "      <th>playhrs_585280</th>\n",
       "    </tr>\n",
       "  </thead>\n",
       "  <tbody>\n",
       "    <tr>\n",
       "      <th>0</th>\n",
       "      <td>76561197960272288</td>\n",
       "      <td>1</td>\n",
       "      <td>1</td>\n",
       "      <td>1</td>\n",
       "      <td>1</td>\n",
       "      <td>1</td>\n",
       "      <td>1</td>\n",
       "      <td>1</td>\n",
       "      <td>1</td>\n",
       "      <td>1</td>\n",
       "      <td>...</td>\n",
       "      <td>0.0</td>\n",
       "      <td>0.0</td>\n",
       "      <td>0.0</td>\n",
       "      <td>0.0</td>\n",
       "      <td>0.00</td>\n",
       "      <td>0.00</td>\n",
       "      <td>0.0</td>\n",
       "      <td>0.000000</td>\n",
       "      <td>0.0</td>\n",
       "      <td>0.0</td>\n",
       "    </tr>\n",
       "    <tr>\n",
       "      <th>1</th>\n",
       "      <td>76561197960272736</td>\n",
       "      <td>1</td>\n",
       "      <td>1</td>\n",
       "      <td>1</td>\n",
       "      <td>1</td>\n",
       "      <td>1</td>\n",
       "      <td>1</td>\n",
       "      <td>1</td>\n",
       "      <td>1</td>\n",
       "      <td>1</td>\n",
       "      <td>...</td>\n",
       "      <td>0.0</td>\n",
       "      <td>0.0</td>\n",
       "      <td>0.0</td>\n",
       "      <td>0.0</td>\n",
       "      <td>0.00</td>\n",
       "      <td>0.15</td>\n",
       "      <td>0.0</td>\n",
       "      <td>0.016667</td>\n",
       "      <td>0.0</td>\n",
       "      <td>0.0</td>\n",
       "    </tr>\n",
       "    <tr>\n",
       "      <th>2</th>\n",
       "      <td>76561197960273728</td>\n",
       "      <td>1</td>\n",
       "      <td>1</td>\n",
       "      <td>1</td>\n",
       "      <td>1</td>\n",
       "      <td>1</td>\n",
       "      <td>1</td>\n",
       "      <td>1</td>\n",
       "      <td>0</td>\n",
       "      <td>0</td>\n",
       "      <td>...</td>\n",
       "      <td>0.0</td>\n",
       "      <td>0.0</td>\n",
       "      <td>0.0</td>\n",
       "      <td>0.0</td>\n",
       "      <td>0.00</td>\n",
       "      <td>0.00</td>\n",
       "      <td>0.0</td>\n",
       "      <td>0.000000</td>\n",
       "      <td>0.0</td>\n",
       "      <td>0.0</td>\n",
       "    </tr>\n",
       "    <tr>\n",
       "      <th>3</th>\n",
       "      <td>76561197960274912</td>\n",
       "      <td>1</td>\n",
       "      <td>1</td>\n",
       "      <td>1</td>\n",
       "      <td>1</td>\n",
       "      <td>1</td>\n",
       "      <td>1</td>\n",
       "      <td>1</td>\n",
       "      <td>0</td>\n",
       "      <td>0</td>\n",
       "      <td>...</td>\n",
       "      <td>0.0</td>\n",
       "      <td>0.0</td>\n",
       "      <td>0.0</td>\n",
       "      <td>0.0</td>\n",
       "      <td>8.65</td>\n",
       "      <td>0.00</td>\n",
       "      <td>0.0</td>\n",
       "      <td>0.000000</td>\n",
       "      <td>0.0</td>\n",
       "      <td>0.0</td>\n",
       "    </tr>\n",
       "    <tr>\n",
       "      <th>4</th>\n",
       "      <td>76561197960277744</td>\n",
       "      <td>1</td>\n",
       "      <td>1</td>\n",
       "      <td>1</td>\n",
       "      <td>1</td>\n",
       "      <td>1</td>\n",
       "      <td>1</td>\n",
       "      <td>1</td>\n",
       "      <td>1</td>\n",
       "      <td>1</td>\n",
       "      <td>...</td>\n",
       "      <td>0.0</td>\n",
       "      <td>0.0</td>\n",
       "      <td>0.0</td>\n",
       "      <td>0.0</td>\n",
       "      <td>0.00</td>\n",
       "      <td>0.00</td>\n",
       "      <td>0.0</td>\n",
       "      <td>0.000000</td>\n",
       "      <td>0.0</td>\n",
       "      <td>0.0</td>\n",
       "    </tr>\n",
       "  </tbody>\n",
       "</table>\n",
       "<p>5 rows × 1203 columns</p>\n",
       "</div>"
      ],
      "text/plain": [
       "              userid  has_10  has_20  has_30  has_40  has_50  has_60  has_70  \\\n",
       "0  76561197960272288       1       1       1       1       1       1       1   \n",
       "1  76561197960272736       1       1       1       1       1       1       1   \n",
       "2  76561197960273728       1       1       1       1       1       1       1   \n",
       "3  76561197960274912       1       1       1       1       1       1       1   \n",
       "4  76561197960277744       1       1       1       1       1       1       1   \n",
       "\n",
       "   has_80  has_100       ...        playhrs_497810  playhrs_497811  \\\n",
       "0       1        1       ...                   0.0             0.0   \n",
       "1       1        1       ...                   0.0             0.0   \n",
       "2       0        0       ...                   0.0             0.0   \n",
       "3       0        0       ...                   0.0             0.0   \n",
       "4       1        1       ...                   0.0             0.0   \n",
       "\n",
       "   playhrs_497812  playhrs_497813  playhrs_500500  playhrs_515040  \\\n",
       "0             0.0             0.0            0.00            0.00   \n",
       "1             0.0             0.0            0.00            0.15   \n",
       "2             0.0             0.0            0.00            0.00   \n",
       "3             0.0             0.0            8.65            0.00   \n",
       "4             0.0             0.0            0.00            0.00   \n",
       "\n",
       "   playhrs_524440  playhrs_539640  playhrs_550040  playhrs_585280  \n",
       "0             0.0        0.000000             0.0             0.0  \n",
       "1             0.0        0.016667             0.0             0.0  \n",
       "2             0.0        0.000000             0.0             0.0  \n",
       "3             0.0        0.000000             0.0             0.0  \n",
       "4             0.0        0.000000             0.0             0.0  \n",
       "\n",
       "[5 rows x 1203 columns]"
      ]
     },
     "execution_count": 387,
     "metadata": {},
     "output_type": "execute_result"
    }
   ],
   "source": [
    "df_T"
   ]
  },
  {
   "cell_type": "code",
   "execution_count": 385,
   "metadata": {
    "collapsed": false,
    "scrolled": false
   },
   "outputs": [
    {
     "data": {
      "text/html": [
       "<div>\n",
       "<table border=\"1\" class=\"dataframe\">\n",
       "  <thead>\n",
       "    <tr style=\"text-align: right;\">\n",
       "      <th></th>\n",
       "      <th>userid</th>\n",
       "      <th>has_10</th>\n",
       "      <th>playhrs_10</th>\n",
       "      <th>has_20</th>\n",
       "      <th>playhrs_20</th>\n",
       "      <th>has_30</th>\n",
       "      <th>playhrs_30</th>\n",
       "      <th>has_730</th>\n",
       "      <th>playhrs_730</th>\n",
       "    </tr>\n",
       "  </thead>\n",
       "  <tbody>\n",
       "    <tr>\n",
       "      <th>0</th>\n",
       "      <td>76561197960272288</td>\n",
       "      <td>1</td>\n",
       "      <td>0.716667</td>\n",
       "      <td>1</td>\n",
       "      <td>0.0</td>\n",
       "      <td>1</td>\n",
       "      <td>0.000000</td>\n",
       "      <td>1</td>\n",
       "      <td>967.783333</td>\n",
       "    </tr>\n",
       "    <tr>\n",
       "      <th>1</th>\n",
       "      <td>76561197960272736</td>\n",
       "      <td>1</td>\n",
       "      <td>486.116667</td>\n",
       "      <td>1</td>\n",
       "      <td>0.0</td>\n",
       "      <td>1</td>\n",
       "      <td>0.000000</td>\n",
       "      <td>1</td>\n",
       "      <td>2712.583333</td>\n",
       "    </tr>\n",
       "    <tr>\n",
       "      <th>2</th>\n",
       "      <td>76561197960273728</td>\n",
       "      <td>1</td>\n",
       "      <td>2025.883333</td>\n",
       "      <td>1</td>\n",
       "      <td>0.0</td>\n",
       "      <td>1</td>\n",
       "      <td>0.000000</td>\n",
       "      <td>1</td>\n",
       "      <td>2099.933333</td>\n",
       "    </tr>\n",
       "    <tr>\n",
       "      <th>3</th>\n",
       "      <td>76561197960274912</td>\n",
       "      <td>1</td>\n",
       "      <td>0.050000</td>\n",
       "      <td>1</td>\n",
       "      <td>0.0</td>\n",
       "      <td>1</td>\n",
       "      <td>0.000000</td>\n",
       "      <td>1</td>\n",
       "      <td>3892.983333</td>\n",
       "    </tr>\n",
       "    <tr>\n",
       "      <th>4</th>\n",
       "      <td>76561197960277744</td>\n",
       "      <td>1</td>\n",
       "      <td>297.300000</td>\n",
       "      <td>1</td>\n",
       "      <td>0.0</td>\n",
       "      <td>1</td>\n",
       "      <td>1051.866667</td>\n",
       "      <td>1</td>\n",
       "      <td>1986.316667</td>\n",
       "    </tr>\n",
       "  </tbody>\n",
       "</table>\n",
       "</div>"
      ],
      "text/plain": [
       "              userid  has_10   playhrs_10  has_20  playhrs_20  has_30  \\\n",
       "0  76561197960272288       1     0.716667       1         0.0       1   \n",
       "1  76561197960272736       1   486.116667       1         0.0       1   \n",
       "2  76561197960273728       1  2025.883333       1         0.0       1   \n",
       "3  76561197960274912       1     0.050000       1         0.0       1   \n",
       "4  76561197960277744       1   297.300000       1         0.0       1   \n",
       "\n",
       "    playhrs_30  has_730  playhrs_730  \n",
       "0     0.000000        1   967.783333  \n",
       "1     0.000000        1  2712.583333  \n",
       "2     0.000000        1  2099.933333  \n",
       "3     0.000000        1  3892.983333  \n",
       "4  1051.866667        1  1986.316667  "
      ]
     },
     "execution_count": 385,
     "metadata": {},
     "output_type": "execute_result"
    }
   ],
   "source": [
    "df_T[['userid','has_10','playhrs_10','has_20','playhrs_20','has_30','playhrs_30','has_730','playhrs_730']]"
   ]
  },
  {
   "cell_type": "code",
   "execution_count": null,
   "metadata": {
    "collapsed": true
   },
   "outputs": [],
   "source": [
    "76561197960274912"
   ]
  },
  {
   "cell_type": "code",
   "execution_count": 386,
   "metadata": {
    "collapsed": false
   },
   "outputs": [
    {
     "data": {
      "text/plain": [
       "233520"
      ]
     },
     "execution_count": 386,
     "metadata": {},
     "output_type": "execute_result"
    }
   ],
   "source": [
    "3892*60"
   ]
  },
  {
   "cell_type": "code",
   "execution_count": 354,
   "metadata": {
    "collapsed": false
   },
   "outputs": [
    {
     "data": {
      "text/plain": [
       "Index([u'userid', u'has_10', u'has_20', u'has_30', u'has_40', u'has_50',\n",
       "       u'has_60', u'has_70', u'has_80', u'has_100',\n",
       "       ...\n",
       "       u'playhrs_497810', u'playhrs_497811', u'playhrs_497812',\n",
       "       u'playhrs_497813', u'playhrs_500500', u'playhrs_515040',\n",
       "       u'playhrs_524440', u'playhrs_539640', u'playhrs_550040',\n",
       "       u'playhrs_585280'],\n",
       "      dtype='object', length=1203)"
      ]
     },
     "execution_count": 354,
     "metadata": {},
     "output_type": "execute_result"
    }
   ],
   "source": [
    "df_T.columns"
   ]
  },
  {
   "cell_type": "code",
   "execution_count": 358,
   "metadata": {
    "collapsed": false
   },
   "outputs": [
    {
     "data": {
      "text/plain": [
       "Index([u'has_10', u'has_20', u'has_30', u'has_40', u'has_50', u'has_60',\n",
       "       u'has_70', u'has_80', u'has_100', u'has_130',\n",
       "       ...\n",
       "       u'has_497810', u'has_497811', u'has_497812', u'has_497813',\n",
       "       u'has_500500', u'has_515040', u'has_524440', u'has_539640',\n",
       "       u'has_550040', u'has_585280'],\n",
       "      dtype='object', length=601)"
      ]
     },
     "execution_count": 358,
     "metadata": {},
     "output_type": "execute_result"
    }
   ],
   "source": [
    "df_T[filter(lambda x: x.startswith(\"has\"),df_T.columns)].columns"
   ]
  },
  {
   "cell_type": "code",
   "execution_count": 353,
   "metadata": {
    "collapsed": false
   },
   "outputs": [
    {
     "data": {
      "text/plain": [
       "0    1\n",
       "1    1\n",
       "2    1\n",
       "3    1\n",
       "4    1\n",
       "Name: has_10, dtype: int64"
      ]
     },
     "execution_count": 353,
     "metadata": {},
     "output_type": "execute_result"
    }
   ],
   "source": [
    "df_T['has_10']"
   ]
  },
  {
   "cell_type": "code",
   "execution_count": null,
   "metadata": {
    "collapsed": true
   },
   "outputs": [],
   "source": []
  },
  {
   "cell_type": "code",
   "execution_count": null,
   "metadata": {
    "collapsed": true
   },
   "outputs": [],
   "source": []
  }
 ],
 "metadata": {
  "anaconda-cloud": {},
  "kernelspec": {
   "display_name": "Python [conda root]",
   "language": "python",
   "name": "conda-root-py"
  },
  "language_info": {
   "codemirror_mode": {
    "name": "ipython",
    "version": 2
   },
   "file_extension": ".py",
   "mimetype": "text/x-python",
   "name": "python",
   "nbconvert_exporter": "python",
   "pygments_lexer": "ipython2",
   "version": "2.7.12"
  }
 },
 "nbformat": 4,
 "nbformat_minor": 1
}

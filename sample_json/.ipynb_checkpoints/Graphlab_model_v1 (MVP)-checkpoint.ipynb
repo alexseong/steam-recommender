{
 "cells": [
  {
   "cell_type": "code",
   "execution_count": 20,
   "metadata": {
    "collapsed": false
   },
   "outputs": [],
   "source": [
    "import pandas as pd\n",
    "import graphlab\n",
    "pd.set_option('max_colwidth',100)\n",
    "from pandas.io.json import json_normalize\n",
    "from ast import literal_eval"
   ]
  },
  {
   "cell_type": "code",
   "execution_count": 6,
   "metadata": {
    "collapsed": true
   },
   "outputs": [],
   "source": [
    "df = pd.read_csv('sample_json/users_owned_games_1.csv')"
   ]
  },
  {
   "cell_type": "code",
   "execution_count": 10,
   "metadata": {
    "collapsed": false
   },
   "outputs": [
    {
     "data": {
      "text/html": [
       "<div style=\"max-height:1000px;max-width:1500px;overflow:auto;\"><table frame=\"box\" rules=\"cols\">\n",
       "    <tr>\n",
       "        <th style=\"padding-left: 1em; padding-right: 1em; text-align: center\">userid</th>\n",
       "        <th style=\"padding-left: 1em; padding-right: 1em; text-align: center\">appid</th>\n",
       "        <th style=\"padding-left: 1em; padding-right: 1em; text-align: center\">playhrs</th>\n",
       "    </tr>\n",
       "    <tr>\n",
       "        <td style=\"padding-left: 1em; padding-right: 1em; text-align: center; vertical-align: top\">76561197960272378</td>\n",
       "        <td style=\"padding-left: 1em; padding-right: 1em; text-align: center; vertical-align: top\">10</td>\n",
       "        <td style=\"padding-left: 1em; padding-right: 1em; text-align: center; vertical-align: top\">252.916666667</td>\n",
       "    </tr>\n",
       "    <tr>\n",
       "        <td style=\"padding-left: 1em; padding-right: 1em; text-align: center; vertical-align: top\">76561197960272378</td>\n",
       "        <td style=\"padding-left: 1em; padding-right: 1em; text-align: center; vertical-align: top\">20</td>\n",
       "        <td style=\"padding-left: 1em; padding-right: 1em; text-align: center; vertical-align: top\">0.0</td>\n",
       "    </tr>\n",
       "    <tr>\n",
       "        <td style=\"padding-left: 1em; padding-right: 1em; text-align: center; vertical-align: top\">76561197960272378</td>\n",
       "        <td style=\"padding-left: 1em; padding-right: 1em; text-align: center; vertical-align: top\">30</td>\n",
       "        <td style=\"padding-left: 1em; padding-right: 1em; text-align: center; vertical-align: top\">0.0</td>\n",
       "    </tr>\n",
       "    <tr>\n",
       "        <td style=\"padding-left: 1em; padding-right: 1em; text-align: center; vertical-align: top\">76561197960272378</td>\n",
       "        <td style=\"padding-left: 1em; padding-right: 1em; text-align: center; vertical-align: top\">40</td>\n",
       "        <td style=\"padding-left: 1em; padding-right: 1em; text-align: center; vertical-align: top\">0.0</td>\n",
       "    </tr>\n",
       "    <tr>\n",
       "        <td style=\"padding-left: 1em; padding-right: 1em; text-align: center; vertical-align: top\">76561197960272378</td>\n",
       "        <td style=\"padding-left: 1em; padding-right: 1em; text-align: center; vertical-align: top\">50</td>\n",
       "        <td style=\"padding-left: 1em; padding-right: 1em; text-align: center; vertical-align: top\">0.0</td>\n",
       "    </tr>\n",
       "    <tr>\n",
       "        <td style=\"padding-left: 1em; padding-right: 1em; text-align: center; vertical-align: top\">76561197960272378</td>\n",
       "        <td style=\"padding-left: 1em; padding-right: 1em; text-align: center; vertical-align: top\">60</td>\n",
       "        <td style=\"padding-left: 1em; padding-right: 1em; text-align: center; vertical-align: top\">0.0</td>\n",
       "    </tr>\n",
       "    <tr>\n",
       "        <td style=\"padding-left: 1em; padding-right: 1em; text-align: center; vertical-align: top\">76561197960272378</td>\n",
       "        <td style=\"padding-left: 1em; padding-right: 1em; text-align: center; vertical-align: top\">70</td>\n",
       "        <td style=\"padding-left: 1em; padding-right: 1em; text-align: center; vertical-align: top\">0.0</td>\n",
       "    </tr>\n",
       "    <tr>\n",
       "        <td style=\"padding-left: 1em; padding-right: 1em; text-align: center; vertical-align: top\">76561197960272378</td>\n",
       "        <td style=\"padding-left: 1em; padding-right: 1em; text-align: center; vertical-align: top\">130</td>\n",
       "        <td style=\"padding-left: 1em; padding-right: 1em; text-align: center; vertical-align: top\">0.2</td>\n",
       "    </tr>\n",
       "    <tr>\n",
       "        <td style=\"padding-left: 1em; padding-right: 1em; text-align: center; vertical-align: top\">76561197960272378</td>\n",
       "        <td style=\"padding-left: 1em; padding-right: 1em; text-align: center; vertical-align: top\">4000</td>\n",
       "        <td style=\"padding-left: 1em; padding-right: 1em; text-align: center; vertical-align: top\">374.266666667</td>\n",
       "    </tr>\n",
       "    <tr>\n",
       "        <td style=\"padding-left: 1em; padding-right: 1em; text-align: center; vertical-align: top\">76561197960272378</td>\n",
       "        <td style=\"padding-left: 1em; padding-right: 1em; text-align: center; vertical-align: top\">220</td>\n",
       "        <td style=\"padding-left: 1em; padding-right: 1em; text-align: center; vertical-align: top\">7.93333333333</td>\n",
       "    </tr>\n",
       "</table>\n",
       "[161262 rows x 3 columns]<br/>Note: Only the head of the SFrame is printed.<br/>You can use print_rows(num_rows=m, num_columns=n) to print more rows and columns.\n",
       "</div>"
      ],
      "text/plain": [
       "Columns:\n",
       "\tuserid\tint\n",
       "\tappid\tint\n",
       "\tplayhrs\tfloat\n",
       "\n",
       "Rows: 161262\n",
       "\n",
       "Data:\n",
       "+-------------------+-------+---------------+\n",
       "|       userid      | appid |    playhrs    |\n",
       "+-------------------+-------+---------------+\n",
       "| 76561197960272378 |   10  | 252.916666667 |\n",
       "| 76561197960272378 |   20  |      0.0      |\n",
       "| 76561197960272378 |   30  |      0.0      |\n",
       "| 76561197960272378 |   40  |      0.0      |\n",
       "| 76561197960272378 |   50  |      0.0      |\n",
       "| 76561197960272378 |   60  |      0.0      |\n",
       "| 76561197960272378 |   70  |      0.0      |\n",
       "| 76561197960272378 |  130  |      0.2      |\n",
       "| 76561197960272378 |  4000 | 374.266666667 |\n",
       "| 76561197960272378 |  220  | 7.93333333333 |\n",
       "+-------------------+-------+---------------+\n",
       "[161262 rows x 3 columns]\n",
       "Note: Only the head of the SFrame is printed.\n",
       "You can use print_rows(num_rows=m, num_columns=n) to print more rows and columns."
      ]
     },
     "execution_count": 10,
     "metadata": {},
     "output_type": "execute_result"
    }
   ],
   "source": [
    "df = graphlab.SFrame(df)\n",
    "df"
   ]
  },
  {
   "cell_type": "code",
   "execution_count": 18,
   "metadata": {
    "collapsed": false,
    "scrolled": true
   },
   "outputs": [
    {
     "data": {
      "text/html": [
       "<div style=\"max-height:1000px;max-width:1500px;overflow:auto;\"><table frame=\"box\" rules=\"cols\">\n",
       "    <tr>\n",
       "        <th style=\"padding-left: 1em; padding-right: 1em; text-align: center\">userid</th>\n",
       "        <th style=\"padding-left: 1em; padding-right: 1em; text-align: center\">appid</th>\n",
       "        <th style=\"padding-left: 1em; padding-right: 1em; text-align: center\">playhrs</th>\n",
       "    </tr>\n",
       "    <tr>\n",
       "        <td style=\"padding-left: 1em; padding-right: 1em; text-align: center; vertical-align: top\">76561197960272378</td>\n",
       "        <td style=\"padding-left: 1em; padding-right: 1em; text-align: center; vertical-align: top\">10</td>\n",
       "        <td style=\"padding-left: 1em; padding-right: 1em; text-align: center; vertical-align: top\">252.916666667</td>\n",
       "    </tr>\n",
       "    <tr>\n",
       "        <td style=\"padding-left: 1em; padding-right: 1em; text-align: center; vertical-align: top\">76561197960272378</td>\n",
       "        <td style=\"padding-left: 1em; padding-right: 1em; text-align: center; vertical-align: top\">20</td>\n",
       "        <td style=\"padding-left: 1em; padding-right: 1em; text-align: center; vertical-align: top\">0.0</td>\n",
       "    </tr>\n",
       "    <tr>\n",
       "        <td style=\"padding-left: 1em; padding-right: 1em; text-align: center; vertical-align: top\">76561197960272378</td>\n",
       "        <td style=\"padding-left: 1em; padding-right: 1em; text-align: center; vertical-align: top\">30</td>\n",
       "        <td style=\"padding-left: 1em; padding-right: 1em; text-align: center; vertical-align: top\">0.0</td>\n",
       "    </tr>\n",
       "    <tr>\n",
       "        <td style=\"padding-left: 1em; padding-right: 1em; text-align: center; vertical-align: top\">76561197960272378</td>\n",
       "        <td style=\"padding-left: 1em; padding-right: 1em; text-align: center; vertical-align: top\">40</td>\n",
       "        <td style=\"padding-left: 1em; padding-right: 1em; text-align: center; vertical-align: top\">0.0</td>\n",
       "    </tr>\n",
       "    <tr>\n",
       "        <td style=\"padding-left: 1em; padding-right: 1em; text-align: center; vertical-align: top\">76561197960272378</td>\n",
       "        <td style=\"padding-left: 1em; padding-right: 1em; text-align: center; vertical-align: top\">50</td>\n",
       "        <td style=\"padding-left: 1em; padding-right: 1em; text-align: center; vertical-align: top\">0.0</td>\n",
       "    </tr>\n",
       "    <tr>\n",
       "        <td style=\"padding-left: 1em; padding-right: 1em; text-align: center; vertical-align: top\">76561197960272378</td>\n",
       "        <td style=\"padding-left: 1em; padding-right: 1em; text-align: center; vertical-align: top\">60</td>\n",
       "        <td style=\"padding-left: 1em; padding-right: 1em; text-align: center; vertical-align: top\">0.0</td>\n",
       "    </tr>\n",
       "    <tr>\n",
       "        <td style=\"padding-left: 1em; padding-right: 1em; text-align: center; vertical-align: top\">76561197960272378</td>\n",
       "        <td style=\"padding-left: 1em; padding-right: 1em; text-align: center; vertical-align: top\">70</td>\n",
       "        <td style=\"padding-left: 1em; padding-right: 1em; text-align: center; vertical-align: top\">0.0</td>\n",
       "    </tr>\n",
       "    <tr>\n",
       "        <td style=\"padding-left: 1em; padding-right: 1em; text-align: center; vertical-align: top\">76561197960272378</td>\n",
       "        <td style=\"padding-left: 1em; padding-right: 1em; text-align: center; vertical-align: top\">130</td>\n",
       "        <td style=\"padding-left: 1em; padding-right: 1em; text-align: center; vertical-align: top\">0.2</td>\n",
       "    </tr>\n",
       "    <tr>\n",
       "        <td style=\"padding-left: 1em; padding-right: 1em; text-align: center; vertical-align: top\">76561197960272378</td>\n",
       "        <td style=\"padding-left: 1em; padding-right: 1em; text-align: center; vertical-align: top\">4000</td>\n",
       "        <td style=\"padding-left: 1em; padding-right: 1em; text-align: center; vertical-align: top\">374.266666667</td>\n",
       "    </tr>\n",
       "    <tr>\n",
       "        <td style=\"padding-left: 1em; padding-right: 1em; text-align: center; vertical-align: top\">76561197960272378</td>\n",
       "        <td style=\"padding-left: 1em; padding-right: 1em; text-align: center; vertical-align: top\">220</td>\n",
       "        <td style=\"padding-left: 1em; padding-right: 1em; text-align: center; vertical-align: top\">7.93333333333</td>\n",
       "    </tr>\n",
       "</table>\n",
       "[? rows x 3 columns]<br/>Note: Only the head of the SFrame is printed. This SFrame is lazily evaluated.<br/>You can use sf.materialize() to force materialization.\n",
       "</div>"
      ],
      "text/plain": [
       "Columns:\n",
       "\tuserid\tint\n",
       "\tappid\tint\n",
       "\tplayhrs\tfloat\n",
       "\n",
       "Rows: Unknown\n",
       "\n",
       "Data:\n",
       "+-------------------+-------+---------------+\n",
       "|       userid      | appid |    playhrs    |\n",
       "+-------------------+-------+---------------+\n",
       "| 76561197960272378 |   10  | 252.916666667 |\n",
       "| 76561197960272378 |   20  |      0.0      |\n",
       "| 76561197960272378 |   30  |      0.0      |\n",
       "| 76561197960272378 |   40  |      0.0      |\n",
       "| 76561197960272378 |   50  |      0.0      |\n",
       "| 76561197960272378 |   60  |      0.0      |\n",
       "| 76561197960272378 |   70  |      0.0      |\n",
       "| 76561197960272378 |  130  |      0.2      |\n",
       "| 76561197960272378 |  4000 | 374.266666667 |\n",
       "| 76561197960272378 |  220  | 7.93333333333 |\n",
       "+-------------------+-------+---------------+\n",
       "[? rows x 3 columns]\n",
       "Note: Only the head of the SFrame is printed. This SFrame is lazily evaluated.\n",
       "You can use sf.materialize() to force materialization."
      ]
     },
     "execution_count": 18,
     "metadata": {},
     "output_type": "execute_result"
    }
   ],
   "source": [
    "df[df['userid']==76561197960272378]"
   ]
  },
  {
   "cell_type": "code",
   "execution_count": 36,
   "metadata": {
    "collapsed": false,
    "scrolled": false
   },
   "outputs": [
    {
     "data": {
      "text/html": [
       "<pre>Recsys training: model = factorization_recommender</pre>"
      ],
      "text/plain": [
       "Recsys training: model = factorization_recommender"
      ]
     },
     "metadata": {},
     "output_type": "display_data"
    },
    {
     "data": {
      "text/html": [
       "<pre>Preparing data set.</pre>"
      ],
      "text/plain": [
       "Preparing data set."
      ]
     },
     "metadata": {},
     "output_type": "display_data"
    },
    {
     "data": {
      "text/html": [
       "<pre>    Data has 161262 observations with 500 users and 10566 items.</pre>"
      ],
      "text/plain": [
       "    Data has 161262 observations with 500 users and 10566 items."
      ]
     },
     "metadata": {},
     "output_type": "display_data"
    },
    {
     "data": {
      "text/html": [
       "<pre>    Data prepared in: 0.212546s</pre>"
      ],
      "text/plain": [
       "    Data prepared in: 0.212546s"
      ]
     },
     "metadata": {},
     "output_type": "display_data"
    },
    {
     "data": {
      "text/html": [
       "<pre>Training factorization_recommender for recommendations.</pre>"
      ],
      "text/plain": [
       "Training factorization_recommender for recommendations."
      ]
     },
     "metadata": {},
     "output_type": "display_data"
    },
    {
     "data": {
      "text/html": [
       "<pre>+------------------------------+--------------------------------------------------+----------+</pre>"
      ],
      "text/plain": [
       "+------------------------------+--------------------------------------------------+----------+"
      ]
     },
     "metadata": {},
     "output_type": "display_data"
    },
    {
     "data": {
      "text/html": [
       "<pre>| Parameter                    | Description                                      | Value    |</pre>"
      ],
      "text/plain": [
       "| Parameter                    | Description                                      | Value    |"
      ]
     },
     "metadata": {},
     "output_type": "display_data"
    },
    {
     "data": {
      "text/html": [
       "<pre>+------------------------------+--------------------------------------------------+----------+</pre>"
      ],
      "text/plain": [
       "+------------------------------+--------------------------------------------------+----------+"
      ]
     },
     "metadata": {},
     "output_type": "display_data"
    },
    {
     "data": {
      "text/html": [
       "<pre>| num_factors                  | Factor Dimension                                 | 8        |</pre>"
      ],
      "text/plain": [
       "| num_factors                  | Factor Dimension                                 | 8        |"
      ]
     },
     "metadata": {},
     "output_type": "display_data"
    },
    {
     "data": {
      "text/html": [
       "<pre>| regularization               | L2 Regularization on Factors                     | 1e-08    |</pre>"
      ],
      "text/plain": [
       "| regularization               | L2 Regularization on Factors                     | 1e-08    |"
      ]
     },
     "metadata": {},
     "output_type": "display_data"
    },
    {
     "data": {
      "text/html": [
       "<pre>| max_iterations               | Maximum Number of Iterations                     | 50       |</pre>"
      ],
      "text/plain": [
       "| max_iterations               | Maximum Number of Iterations                     | 50       |"
      ]
     },
     "metadata": {},
     "output_type": "display_data"
    },
    {
     "data": {
      "text/html": [
       "<pre>| solver                       | Solver used for training                         | als      |</pre>"
      ],
      "text/plain": [
       "| solver                       | Solver used for training                         | als      |"
      ]
     },
     "metadata": {},
     "output_type": "display_data"
    },
    {
     "data": {
      "text/html": [
       "<pre>+------------------------------+--------------------------------------------------+----------+</pre>"
      ],
      "text/plain": [
       "+------------------------------+--------------------------------------------------+----------+"
      ]
     },
     "metadata": {},
     "output_type": "display_data"
    },
    {
     "data": {
      "text/html": [
       "<pre>+---------+--------------+------------------------+</pre>"
      ],
      "text/plain": [
       "+---------+--------------+------------------------+"
      ]
     },
     "metadata": {},
     "output_type": "display_data"
    },
    {
     "data": {
      "text/html": [
       "<pre>| Iter.   | Elapsed time | RMSE                   |</pre>"
      ],
      "text/plain": [
       "| Iter.   | Elapsed time | RMSE                   |"
      ]
     },
     "metadata": {},
     "output_type": "display_data"
    },
    {
     "data": {
      "text/html": [
       "<pre>+---------+--------------+------------------------+</pre>"
      ],
      "text/plain": [
       "+---------+--------------+------------------------+"
      ]
     },
     "metadata": {},
     "output_type": "display_data"
    },
    {
     "data": {
      "text/html": [
       "<pre>| Initial | 65us         | NA                     |</pre>"
      ],
      "text/plain": [
       "| Initial | 65us         | NA                     |"
      ]
     },
     "metadata": {},
     "output_type": "display_data"
    },
    {
     "data": {
      "text/html": [
       "<pre>+---------+--------------+------------------------+</pre>"
      ],
      "text/plain": [
       "+---------+--------------+------------------------+"
      ]
     },
     "metadata": {},
     "output_type": "display_data"
    },
    {
     "data": {
      "text/html": [
       "<pre>| 0       | 235.191ms    | 92.8532                |</pre>"
      ],
      "text/plain": [
       "| 0       | 235.191ms    | 92.8532                |"
      ]
     },
     "metadata": {},
     "output_type": "display_data"
    },
    {
     "data": {
      "text/html": [
       "<pre>| 1       | 433.813ms    | 48.0535                |</pre>"
      ],
      "text/plain": [
       "| 1       | 433.813ms    | 48.0535                |"
      ]
     },
     "metadata": {},
     "output_type": "display_data"
    },
    {
     "data": {
      "text/html": [
       "<pre>| 2       | 593.992ms    | 42.1072                |</pre>"
      ],
      "text/plain": [
       "| 2       | 593.992ms    | 42.1072                |"
      ]
     },
     "metadata": {},
     "output_type": "display_data"
    },
    {
     "data": {
      "text/html": [
       "<pre>| 3       | 770.159ms    | 39.2166                |</pre>"
      ],
      "text/plain": [
       "| 3       | 770.159ms    | 39.2166                |"
      ]
     },
     "metadata": {},
     "output_type": "display_data"
    },
    {
     "data": {
      "text/html": [
       "<pre>| 4       | 956.323ms    | 37.397                 |</pre>"
      ],
      "text/plain": [
       "| 4       | 956.323ms    | 37.397                 |"
      ]
     },
     "metadata": {},
     "output_type": "display_data"
    },
    {
     "data": {
      "text/html": [
       "<pre>| 5       | 1.11s        | 36.2642                |</pre>"
      ],
      "text/plain": [
       "| 5       | 1.11s        | 36.2642                |"
      ]
     },
     "metadata": {},
     "output_type": "display_data"
    },
    {
     "data": {
      "text/html": [
       "<pre>| 6       | 1.26s        | 4.98006e+14            |</pre>"
      ],
      "text/plain": [
       "| 6       | 1.26s        | 4.98006e+14            |"
      ]
     },
     "metadata": {},
     "output_type": "display_data"
    },
    {
     "data": {
      "text/html": [
       "<pre>| 7       | 1.40s        | nan                    |</pre>"
      ],
      "text/plain": [
       "| 7       | 1.40s        | nan                    |"
      ]
     },
     "metadata": {},
     "output_type": "display_data"
    },
    {
     "data": {
      "text/html": [
       "<pre>Resetting model.</pre>"
      ],
      "text/plain": [
       "Resetting model."
      ]
     },
     "metadata": {},
     "output_type": "display_data"
    },
    {
     "data": {
      "text/html": [
       "<pre>| 8       | 1.57s        | 66.2879                |</pre>"
      ],
      "text/plain": [
       "| 8       | 1.57s        | 66.2879                |"
      ]
     },
     "metadata": {},
     "output_type": "display_data"
    },
    {
     "data": {
      "text/html": [
       "<pre>| 9       | 1.74s        | 39.9698                |</pre>"
      ],
      "text/plain": [
       "| 9       | 1.74s        | 39.9698                |"
      ]
     },
     "metadata": {},
     "output_type": "display_data"
    },
    {
     "data": {
      "text/html": [
       "<pre>| 10      | 1.90s        | 36.6902                |</pre>"
      ],
      "text/plain": [
       "| 10      | 1.90s        | 36.6902                |"
      ]
     },
     "metadata": {},
     "output_type": "display_data"
    },
    {
     "data": {
      "text/html": [
       "<pre>| 11      | 2.05s        | 35.2347                |</pre>"
      ],
      "text/plain": [
       "| 11      | 2.05s        | 35.2347                |"
      ]
     },
     "metadata": {},
     "output_type": "display_data"
    },
    {
     "data": {
      "text/html": [
       "<pre>| 12      | 2.22s        | 34.5802                |</pre>"
      ],
      "text/plain": [
       "| 12      | 2.22s        | 34.5802                |"
      ]
     },
     "metadata": {},
     "output_type": "display_data"
    },
    {
     "data": {
      "text/html": [
       "<pre>| 13      | 2.41s        | 33.5689                |</pre>"
      ],
      "text/plain": [
       "| 13      | 2.41s        | 33.5689                |"
      ]
     },
     "metadata": {},
     "output_type": "display_data"
    },
    {
     "data": {
      "text/html": [
       "<pre>| 14      | 2.62s        | 32.9633                |</pre>"
      ],
      "text/plain": [
       "| 14      | 2.62s        | 32.9633                |"
      ]
     },
     "metadata": {},
     "output_type": "display_data"
    },
    {
     "data": {
      "text/html": [
       "<pre>| 15      | 2.79s        | 32.6111                |</pre>"
      ],
      "text/plain": [
       "| 15      | 2.79s        | 32.6111                |"
      ]
     },
     "metadata": {},
     "output_type": "display_data"
    },
    {
     "data": {
      "text/html": [
       "<pre>| 16      | 2.94s        | 32.0488                |</pre>"
      ],
      "text/plain": [
       "| 16      | 2.94s        | 32.0488                |"
      ]
     },
     "metadata": {},
     "output_type": "display_data"
    },
    {
     "data": {
      "text/html": [
       "<pre>| 17      | 3.14s        | 31.7643                |</pre>"
      ],
      "text/plain": [
       "| 17      | 3.14s        | 31.7643                |"
      ]
     },
     "metadata": {},
     "output_type": "display_data"
    },
    {
     "data": {
      "text/html": [
       "<pre>| 18      | 3.30s        | 31.7722                |</pre>"
      ],
      "text/plain": [
       "| 18      | 3.30s        | 31.7722                |"
      ]
     },
     "metadata": {},
     "output_type": "display_data"
    },
    {
     "data": {
      "text/html": [
       "<pre>| 19      | 3.46s        | 31.3007                |</pre>"
      ],
      "text/plain": [
       "| 19      | 3.46s        | 31.3007                |"
      ]
     },
     "metadata": {},
     "output_type": "display_data"
    },
    {
     "data": {
      "text/html": [
       "<pre>| 20      | 3.64s        | 32.0335                |</pre>"
      ],
      "text/plain": [
       "| 20      | 3.64s        | 32.0335                |"
      ]
     },
     "metadata": {},
     "output_type": "display_data"
    },
    {
     "data": {
      "text/html": [
       "<pre>| 21      | 3.80s        | 30.9931                |</pre>"
      ],
      "text/plain": [
       "| 21      | 3.80s        | 30.9931                |"
      ]
     },
     "metadata": {},
     "output_type": "display_data"
    },
    {
     "data": {
      "text/html": [
       "<pre>| 22      | 4.05s        | 30.8726                |</pre>"
      ],
      "text/plain": [
       "| 22      | 4.05s        | 30.8726                |"
      ]
     },
     "metadata": {},
     "output_type": "display_data"
    },
    {
     "data": {
      "text/html": [
       "<pre>| 23      | 4.21s        | 30.755                 |</pre>"
      ],
      "text/plain": [
       "| 23      | 4.21s        | 30.755                 |"
      ]
     },
     "metadata": {},
     "output_type": "display_data"
    },
    {
     "data": {
      "text/html": [
       "<pre>| 24      | 4.37s        | 31.2532                |</pre>"
      ],
      "text/plain": [
       "| 24      | 4.37s        | 31.2532                |"
      ]
     },
     "metadata": {},
     "output_type": "display_data"
    },
    {
     "data": {
      "text/html": [
       "<pre>| 25      | 4.51s        | 52.835                 |</pre>"
      ],
      "text/plain": [
       "| 25      | 4.51s        | 52.835                 |"
      ]
     },
     "metadata": {},
     "output_type": "display_data"
    },
    {
     "data": {
      "text/html": [
       "<pre>| 26      | 4.67s        | 32.1263                |</pre>"
      ],
      "text/plain": [
       "| 26      | 4.67s        | 32.1263                |"
      ]
     },
     "metadata": {},
     "output_type": "display_data"
    },
    {
     "data": {
      "text/html": [
       "<pre>| 27      | 4.84s        | 30.8115                |</pre>"
      ],
      "text/plain": [
       "| 27      | 4.84s        | 30.8115                |"
      ]
     },
     "metadata": {},
     "output_type": "display_data"
    },
    {
     "data": {
      "text/html": [
       "<pre>| 28      | 5.03s        | 30.5344                |</pre>"
      ],
      "text/plain": [
       "| 28      | 5.03s        | 30.5344                |"
      ]
     },
     "metadata": {},
     "output_type": "display_data"
    },
    {
     "data": {
      "text/html": [
       "<pre>| 29      | 5.20s        | 30.4147                |</pre>"
      ],
      "text/plain": [
       "| 29      | 5.20s        | 30.4147                |"
      ]
     },
     "metadata": {},
     "output_type": "display_data"
    },
    {
     "data": {
      "text/html": [
       "<pre>| 30      | 5.35s        | 30.8605                |</pre>"
      ],
      "text/plain": [
       "| 30      | 5.35s        | 30.8605                |"
      ]
     },
     "metadata": {},
     "output_type": "display_data"
    },
    {
     "data": {
      "text/html": [
       "<pre>| 31      | 5.51s        | 896.478                |</pre>"
      ],
      "text/plain": [
       "| 31      | 5.51s        | 896.478                |"
      ]
     },
     "metadata": {},
     "output_type": "display_data"
    },
    {
     "data": {
      "text/html": [
       "<pre>| 32      | 5.66s        | 42.177                 |</pre>"
      ],
      "text/plain": [
       "| 32      | 5.66s        | 42.177                 |"
      ]
     },
     "metadata": {},
     "output_type": "display_data"
    },
    {
     "data": {
      "text/html": [
       "<pre>| 33      | 5.81s        | 40.987                 |</pre>"
      ],
      "text/plain": [
       "| 33      | 5.81s        | 40.987                 |"
      ]
     },
     "metadata": {},
     "output_type": "display_data"
    },
    {
     "data": {
      "text/html": [
       "<pre>| 34      | 5.95s        | 44.653                 |</pre>"
      ],
      "text/plain": [
       "| 34      | 5.95s        | 44.653                 |"
      ]
     },
     "metadata": {},
     "output_type": "display_data"
    },
    {
     "data": {
      "text/html": [
       "<pre>| 35      | 6.11s        | 47.8915                |</pre>"
      ],
      "text/plain": [
       "| 35      | 6.11s        | 47.8915                |"
      ]
     },
     "metadata": {},
     "output_type": "display_data"
    },
    {
     "data": {
      "text/html": [
       "<pre>| 36      | 6.25s        | 540.185                |</pre>"
      ],
      "text/plain": [
       "| 36      | 6.25s        | 540.185                |"
      ]
     },
     "metadata": {},
     "output_type": "display_data"
    },
    {
     "data": {
      "text/html": [
       "<pre>| 37      | 6.44s        | 144.156                |</pre>"
      ],
      "text/plain": [
       "| 37      | 6.44s        | 144.156                |"
      ]
     },
     "metadata": {},
     "output_type": "display_data"
    },
    {
     "data": {
      "text/html": [
       "<pre>| 38      | 6.59s        | 85647.7                |</pre>"
      ],
      "text/plain": [
       "| 38      | 6.59s        | 85647.7                |"
      ]
     },
     "metadata": {},
     "output_type": "display_data"
    },
    {
     "data": {
      "text/html": [
       "<pre>| 39      | 6.73s        | 4.0374e+13             |</pre>"
      ],
      "text/plain": [
       "| 39      | 6.73s        | 4.0374e+13             |"
      ]
     },
     "metadata": {},
     "output_type": "display_data"
    },
    {
     "data": {
      "text/html": [
       "<pre>| 40      | 6.88s        | 1443.36                |</pre>"
      ],
      "text/plain": [
       "| 40      | 6.88s        | 1443.36                |"
      ]
     },
     "metadata": {},
     "output_type": "display_data"
    },
    {
     "data": {
      "text/html": [
       "<pre>| 41      | 7.02s        | 134.713                |</pre>"
      ],
      "text/plain": [
       "| 41      | 7.02s        | 134.713                |"
      ]
     },
     "metadata": {},
     "output_type": "display_data"
    },
    {
     "data": {
      "text/html": [
       "<pre>| 42      | 7.19s        | 125.686                |</pre>"
      ],
      "text/plain": [
       "| 42      | 7.19s        | 125.686                |"
      ]
     },
     "metadata": {},
     "output_type": "display_data"
    },
    {
     "data": {
      "text/html": [
       "<pre>| 43      | 7.32s        | 101.753                |</pre>"
      ],
      "text/plain": [
       "| 43      | 7.32s        | 101.753                |"
      ]
     },
     "metadata": {},
     "output_type": "display_data"
    },
    {
     "data": {
      "text/html": [
       "<pre>| 44      | 7.48s        | 125.277                |</pre>"
      ],
      "text/plain": [
       "| 44      | 7.48s        | 125.277                |"
      ]
     },
     "metadata": {},
     "output_type": "display_data"
    },
    {
     "data": {
      "text/html": [
       "<pre>| 45      | 7.62s        | 128.101                |</pre>"
      ],
      "text/plain": [
       "| 45      | 7.62s        | 128.101                |"
      ]
     },
     "metadata": {},
     "output_type": "display_data"
    },
    {
     "data": {
      "text/html": [
       "<pre>| 46      | 7.81s        | 705.585                |</pre>"
      ],
      "text/plain": [
       "| 46      | 7.81s        | 705.585                |"
      ]
     },
     "metadata": {},
     "output_type": "display_data"
    },
    {
     "data": {
      "text/html": [
       "<pre>| 47      | 7.95s        | 3.74641e+09            |</pre>"
      ],
      "text/plain": [
       "| 47      | 7.95s        | 3.74641e+09            |"
      ]
     },
     "metadata": {},
     "output_type": "display_data"
    },
    {
     "data": {
      "text/html": [
       "<pre>| 48      | 8.09s        | nan                    |</pre>"
      ],
      "text/plain": [
       "| 48      | 8.09s        | nan                    |"
      ]
     },
     "metadata": {},
     "output_type": "display_data"
    },
    {
     "data": {
      "text/html": [
       "<pre>Resetting model.</pre>"
      ],
      "text/plain": [
       "Resetting model."
      ]
     },
     "metadata": {},
     "output_type": "display_data"
    },
    {
     "data": {
      "text/html": [
       "<pre>| 49      | 8.24s        | 97.3463                |</pre>"
      ],
      "text/plain": [
       "| 49      | 8.24s        | 97.3463                |"
      ]
     },
     "metadata": {},
     "output_type": "display_data"
    },
    {
     "data": {
      "text/html": [
       "<pre>| FINAL   | 8.24s        | 97.3463                |</pre>"
      ],
      "text/plain": [
       "| FINAL   | 8.24s        | 97.3463                |"
      ]
     },
     "metadata": {},
     "output_type": "display_data"
    },
    {
     "data": {
      "text/html": [
       "<pre>+---------+--------------+------------------------+</pre>"
      ],
      "text/plain": [
       "+---------+--------------+------------------------+"
      ]
     },
     "metadata": {},
     "output_type": "display_data"
    },
    {
     "data": {
      "text/html": [
       "<pre>Optimization Complete: Iteration limit reached.</pre>"
      ],
      "text/plain": [
       "Optimization Complete: Iteration limit reached."
      ]
     },
     "metadata": {},
     "output_type": "display_data"
    }
   ],
   "source": [
    "graphlab_obj = graphlab.recommender.factorization_recommender.create(df, user_id='userid', item_id='appid', target='playhrs', solver='als')"
   ]
  },
  {
   "cell_type": "code",
   "execution_count": 40,
   "metadata": {
    "collapsed": true
   },
   "outputs": [],
   "source": [
    "# User 76561197962243824, App 20\n",
    "one_datapoint_df = graphlab.SFrame({'userid': [76561197962243824], 'appid': [20]})"
   ]
  },
  {
   "cell_type": "code",
   "execution_count": 41,
   "metadata": {
    "collapsed": false
   },
   "outputs": [
    {
     "data": {
      "text/html": [
       "<div style=\"max-height:1000px;max-width:1500px;overflow:auto;\"><table frame=\"box\" rules=\"cols\">\n",
       "    <tr>\n",
       "        <th style=\"padding-left: 1em; padding-right: 1em; text-align: center\">appid</th>\n",
       "        <th style=\"padding-left: 1em; padding-right: 1em; text-align: center\">userid</th>\n",
       "    </tr>\n",
       "    <tr>\n",
       "        <td style=\"padding-left: 1em; padding-right: 1em; text-align: center; vertical-align: top\">20</td>\n",
       "        <td style=\"padding-left: 1em; padding-right: 1em; text-align: center; vertical-align: top\">76561197962243824</td>\n",
       "    </tr>\n",
       "</table>\n",
       "[1 rows x 2 columns]<br/>\n",
       "</div>"
      ],
      "text/plain": [
       "Columns:\n",
       "\tappid\tint\n",
       "\tuserid\tint\n",
       "\n",
       "Rows: 1\n",
       "\n",
       "Data:\n",
       "+-------+-------------------+\n",
       "| appid |       userid      |\n",
       "+-------+-------------------+\n",
       "|   20  | 76561197962243824 |\n",
       "+-------+-------------------+\n",
       "[1 rows x 2 columns]"
      ]
     },
     "execution_count": 41,
     "metadata": {},
     "output_type": "execute_result"
    }
   ],
   "source": [
    "one_datapoint_df"
   ]
  },
  {
   "cell_type": "code",
   "execution_count": 42,
   "metadata": {
    "collapsed": false
   },
   "outputs": [
    {
     "data": {
      "text/plain": [
       "dtype: float\n",
       "Rows: 1\n",
       "[14.478716622639231]"
      ]
     },
     "execution_count": 42,
     "metadata": {},
     "output_type": "execute_result"
    }
   ],
   "source": [
    "prediction = graphlab_obj.predict(one_datapoint_df)\n",
    "# Gets the predicted playhrs for User 76561197962243824, App 20\n",
    "prediction"
   ]
  },
  {
   "cell_type": "code",
   "execution_count": null,
   "metadata": {
    "collapsed": true
   },
   "outputs": [],
   "source": [
    "graphlab_obj.list_fields()"
   ]
  },
  {
   "cell_type": "code",
   "execution_count": null,
   "metadata": {
    "collapsed": true
   },
   "outputs": [],
   "source": []
  },
  {
   "cell_type": "code",
   "execution_count": null,
   "metadata": {
    "collapsed": true
   },
   "outputs": [],
   "source": []
  },
  {
   "cell_type": "code",
   "execution_count": null,
   "metadata": {
    "collapsed": true
   },
   "outputs": [],
   "source": []
  },
  {
   "cell_type": "code",
   "execution_count": null,
   "metadata": {
    "collapsed": true
   },
   "outputs": [],
   "source": []
  },
  {
   "cell_type": "markdown",
   "metadata": {},
   "source": [
    "### Testing input data before importing to Graphlabs"
   ]
  },
  {
   "cell_type": "code",
   "execution_count": 21,
   "metadata": {
    "collapsed": false
   },
   "outputs": [],
   "source": [
    "with open('sample_json/user_76561197960272378_games.json') as f:\n",
    "    data = literal_eval(f.read())"
   ]
  },
  {
   "cell_type": "code",
   "execution_count": 35,
   "metadata": {
    "collapsed": false
   },
   "outputs": [
    {
     "data": {
      "text/plain": [
       "{u'response': {u'game_count': 407,\n",
       "  u'games': [{u'appid': 10,\n",
       "    u'has_community_visible_stats': True,\n",
       "    u'img_icon_url': u'6b0312cda02f5f777efa2f3318c307ff9acafbb5',\n",
       "    u'img_logo_url': u'af890f848dd606ac2fd4415de3c3f5e7a66fcb9f',\n",
       "    u'name': u'Counter-Strike',\n",
       "    u'playtime_forever': 15175},\n",
       "   {u'appid': 20,\n",
       "    u'has_community_visible_stats': True,\n",
       "    u'img_icon_url': u'38ea7ebe3c1abbbbf4eabdbef174c41a972102b9',\n",
       "    u'img_logo_url': u'515bc393c861d91b9165f0697040c015f50bcb5e',\n",
       "    u'name': u'Team Fortress Classic',\n",
       "    u'playtime_forever': 0},\n",
       "   {u'appid': 30,\n",
       "    u'has_community_visible_stats': True,\n",
       "    u'img_icon_url': u'aadc0ce51ff6ba2042d633f8ec033b0de62091d0',\n",
       "    u'img_logo_url': u'beff21c4d29d2579e794c930bae599cd0c8a8f17',\n",
       "    u'name': u'Day of Defeat',\n",
       "    u'playtime_forever': 0},\n",
       "   {u'appid': 40,\n",
       "    u'img_icon_url': u'c525f76c8bc7353db4fd74b128c4ae2028426c2a',\n",
       "    u'img_logo_url': u'4bb69695ef9d0ae73e73488fb6456aa4ea1215fa',\n",
       "    u'name': u'Deathmatch Classic',\n",
       "    u'playtime_forever': 0},\n",
       "   {u'appid': 50,\n",
       "    u'img_icon_url': u'04e81206c10e12416908c72c5f22aad411b3aeef',\n",
       "    u'img_logo_url': u'bb696ddfd8f8ef0892d5f2154d8617528d3cc2ec',\n",
       "    u'name': u'Half-Life: Opposing Force',\n",
       "    u'playtime_forever': 0},\n",
       "   {u'appid': 60,\n",
       "    u'has_community_visible_stats': True,\n",
       "    u'img_icon_url': u'98c69e04cd59b838e05cb6980c12c05874c6419e',\n",
       "    u'img_logo_url': u'f7a039402735c2dea82cbd412340873535e2be4c',\n",
       "    u'name': u'Ricochet',\n",
       "    u'playtime_forever': 0},\n",
       "   {u'appid': 70,\n",
       "    u'has_community_visible_stats': True,\n",
       "    u'img_icon_url': u'95be6d131fc61f145797317ca437c9765f24b41c',\n",
       "    u'img_logo_url': u'6bd76ff700a8c7a5460fbae3cf60cb930279897d',\n",
       "    u'name': u'Half-Life',\n",
       "    u'playtime_forever': 0},\n",
       "   {u'appid': 130,\n",
       "    u'img_icon_url': u'b06fdee488b3220362c11704be4edad82abeed08',\n",
       "    u'img_logo_url': u'927d38e83e3e4ca218a0fc7b32515eeb99aa8ff7',\n",
       "    u'name': u'Half-Life: Blue Shift',\n",
       "    u'playtime_forever': 12},\n",
       "   {u'appid': 4000,\n",
       "    u'has_community_visible_stats': True,\n",
       "    u'img_icon_url': u'4a6f25cfa2426445d0d9d6e233408de4d371ce8b',\n",
       "    u'img_logo_url': u'93c9364c3942223ab66195182fe1982af8a16584',\n",
       "    u'name': u\"Garry's Mod\",\n",
       "    u'playtime_forever': 22456},\n",
       "   {u'appid': 220,\n",
       "    u'has_community_visible_stats': True,\n",
       "    u'img_icon_url': u'fcfb366051782b8ebf2aa297f3b746395858cb62',\n",
       "    u'img_logo_url': u'e4ad9cf1b7dc8475c1118625daf9abd4bdcbcad0',\n",
       "    u'name': u'Half-Life 2',\n",
       "    u'playtime_forever': 476},\n",
       "   {u'appid': 320,\n",
       "    u'has_community_visible_stats': True,\n",
       "    u'img_icon_url': u'795e85364189511f4990861b578084deef086cb1',\n",
       "    u'img_logo_url': u'6dd9f66771300f2252d411e50739a1ceae9e5b30',\n",
       "    u'name': u'Half-Life 2: Deathmatch',\n",
       "    u'playtime_forever': 0},\n",
       "   {u'appid': 340,\n",
       "    u'img_icon_url': u'795e85364189511f4990861b578084deef086cb1',\n",
       "    u'img_logo_url': u'867cce5c4f37d5ed4aeffb57c60e220ddffe4134',\n",
       "    u'name': u'Half-Life 2: Lost Coast',\n",
       "    u'playtime_forever': 0},\n",
       "   {u'appid': 360,\n",
       "    u'img_icon_url': u'40b8a62efff5a9ab356e5c56f5c8b0532c8e1aa3',\n",
       "    u'img_logo_url': u'9a5b7119d4e8977fffcd370d3c24036be7cee904',\n",
       "    u'name': u'Half-Life Deathmatch: Source',\n",
       "    u'playtime_forever': 0},\n",
       "   {u'appid': 380,\n",
       "    u'has_community_visible_stats': True,\n",
       "    u'img_icon_url': u'795e85364189511f4990861b578084deef086cb1',\n",
       "    u'img_logo_url': u'b5a666a961d8b39896887abbed3b78c2b837c238',\n",
       "    u'name': u'Half-Life 2: Episode One',\n",
       "    u'playtime_forever': 0},\n",
       "   {u'appid': 400,\n",
       "    u'has_community_visible_stats': True,\n",
       "    u'img_icon_url': u'cfa928ab4119dd137e50d728e8fe703e4e970aff',\n",
       "    u'img_logo_url': u'4184d4c0d915bd3a45210667f7b25361352acd8f',\n",
       "    u'name': u'Portal',\n",
       "    u'playtime_forever': 0},\n",
       "   {u'appid': 420,\n",
       "    u'has_community_visible_stats': True,\n",
       "    u'img_icon_url': u'795e85364189511f4990861b578084deef086cb1',\n",
       "    u'img_logo_url': u'553e6a2e7a469dcbaada729baa1f5fd7764668df',\n",
       "    u'name': u'Half-Life 2: Episode Two',\n",
       "    u'playtime_forever': 1},\n",
       "   {u'appid': 2590,\n",
       "    u'img_icon_url': u'fb316269a3269fcba38fb54d3c171ce8f1f786fc',\n",
       "    u'img_logo_url': u'92c3c26d8685580017913cf1a4a8fccea3d24d3d',\n",
       "    u'name': u'Alpha Prime',\n",
       "    u'playtime_forever': 0},\n",
       "   {u'appid': 43110,\n",
       "    u'has_community_visible_stats': True,\n",
       "    u'img_icon_url': u'a70fe6dc214f24107d20596f3040dbfa220ed42d',\n",
       "    u'img_logo_url': u'df9a163ac1f28dfc84c93a6fc0dc51719eaef518',\n",
       "    u'name': u'Metro 2033',\n",
       "    u'playtime_forever': 1},\n",
       "   {u'appid': 42500,\n",
       "    u'has_community_visible_stats': True,\n",
       "    u'img_icon_url': u'bde434bc5bcea999ec31e2eba215294a473f011d',\n",
       "    u'img_logo_url': u'bd00d6ecdb17b5b69a787d11a9357a5564447141',\n",
       "    u'name': u'DogFighter',\n",
       "    u'playtime_forever': 0},\n",
       "   {u'appid': 70100,\n",
       "    u'img_icon_url': u'0c42ee6398ef505f69d73ca70982bf457eaa0040',\n",
       "    u'img_logo_url': u'392e68b94ae35c388cfc914cdc2c1cc3e762625d',\n",
       "    u'name': u'Hacker Evolution',\n",
       "    u'playtime_forever': 121},\n",
       "   {u'appid': 7520,\n",
       "    u'img_icon_url': u'998eb03dc48a266da0f5e4fd3a1eb735a2baf7fc',\n",
       "    u'img_logo_url': u'a579b50f29893c4b490715fa15e493e22b30f148',\n",
       "    u'name': u'Two Worlds II',\n",
       "    u'playtime_forever': 440},\n",
       "   {u'appid': 31280,\n",
       "    u'has_community_visible_stats': True,\n",
       "    u'img_icon_url': u'7d50bd1f5e7cfe68397e9ca0041836ad18153dfb',\n",
       "    u'img_logo_url': u'd962cde096bca06ee10d09880e9f3d6257941161',\n",
       "    u'name': u'Poker Night at the Inventory',\n",
       "    u'playtime_2weeks': 363,\n",
       "    u'playtime_forever': 588},\n",
       "   {u'appid': 44340,\n",
       "    u'img_icon_url': u'f66dd400734a6c0be674b6086059073db94af4f7',\n",
       "    u'img_logo_url': u'c2321e427db6dc9f2d3c80c285cd7a8cc98272ac',\n",
       "    u'name': u'Operation Flashpoint: Red River',\n",
       "    u'playtime_forever': 0},\n",
       "   {u'appid': 620,\n",
       "    u'has_community_visible_stats': True,\n",
       "    u'img_icon_url': u'2e478fc6874d06ae5baf0d147f6f21203291aa02',\n",
       "    u'img_logo_url': u'd2a1119ddc202fab81d9b87048f495cbd6377502',\n",
       "    u'name': u'Portal 2',\n",
       "    u'playtime_forever': 137},\n",
       "   {u'appid': 3830,\n",
       "    u'has_community_visible_stats': True,\n",
       "    u'img_icon_url': u'460b6471db7d83ee6943c1a87f7a9f2898634952',\n",
       "    u'img_logo_url': u'b361ab26b2c47d4abd11be0ebd3d6b675512ec1b',\n",
       "    u'name': u'Psychonauts',\n",
       "    u'playtime_forever': 126},\n",
       "   {u'appid': 37400,\n",
       "    u'img_icon_url': u'f873370c73dffb2b1f147bb6b4de799ba310919e',\n",
       "    u'img_logo_url': u'e56c6da2960caa8a07532217709cf8a071cd6f92',\n",
       "    u'name': u'Time Gentlemen, Please!',\n",
       "    u'playtime_forever': 0},\n",
       "   {u'appid': 37420,\n",
       "    u'img_icon_url': u'7bc7a25d47125a815a457aa585337d9ba766177d',\n",
       "    u'img_logo_url': u'e56c6da2960caa8a07532217709cf8a071cd6f92',\n",
       "    u'name': u'Ben There, Dan That!',\n",
       "    u'playtime_forever': 0},\n",
       "   {u'appid': 98400,\n",
       "    u'has_community_visible_stats': True,\n",
       "    u'img_icon_url': u'7b78a792e27095d927b7a7f0a1394813bcfba177',\n",
       "    u'img_logo_url': u'1788f94f7a69c9ed50a165101e71a6d0d64ad12c',\n",
       "    u'name': u'Hard Reset',\n",
       "    u'playtime_forever': 0},\n",
       "   {u'appid': 201700,\n",
       "    u'has_community_visible_stats': True,\n",
       "    u'img_icon_url': u'cc23d301fb2dcd0fcb1c442ff26ccef79fb891da',\n",
       "    u'img_logo_url': u'531aad068bd1950bfff9c3f92cf908b58c507d89',\n",
       "    u'name': u'DiRT Showdown',\n",
       "    u'playtime_forever': 0},\n",
       "   {u'appid': 12750,\n",
       "    u'img_icon_url': u'c9367af908a9527040b41f6323aee4507bcba722',\n",
       "    u'img_logo_url': u'4d703d465e6e83f272ff07b3b9636fe52f2e9a19',\n",
       "    u'name': u'GRID',\n",
       "    u'playtime_forever': 0},\n",
       "   {u'appid': 11590,\n",
       "    u'img_icon_url': u'b1810df56eabad54637c937d079627fe140865db',\n",
       "    u'img_logo_url': u'9cd2384a1fca7df258ed889d956ed4178984b24d',\n",
       "    u'name': u'Hospital Tycoon',\n",
       "    u'playtime_forever': 0},\n",
       "   {u'appid': 12830,\n",
       "    u'img_icon_url': u'ee4443a4f7619cf1118ec5b4ca5c191370d662f6',\n",
       "    u'img_logo_url': u'f3b280a927511a7ff71041cf99e494ae0dd5572b',\n",
       "    u'name': u'Operation Flashpoint: Dragon Rising',\n",
       "    u'playtime_forever': 0},\n",
       "   {u'appid': 12810,\n",
       "    u'img_icon_url': u'cc38122745bd44454e7e122e86023fb35e652d9d',\n",
       "    u'img_logo_url': u'7107ed1429c4be7637571fdf262f61af6bc7d4a2',\n",
       "    u'name': u'Overlord II',\n",
       "    u'playtime_forever': 0},\n",
       "   {u'appid': 12770,\n",
       "    u'img_icon_url': u'73d9b642364286a510c6a1b2457064a8884634ed',\n",
       "    u'img_logo_url': u'610e14ba8087dcb41cf2ad6f60e3cddd43ae9088',\n",
       "    u'name': u'Rise of the Argonauts',\n",
       "    u'playtime_forever': 0},\n",
       "   {u'appid': 211050,\n",
       "    u'img_icon_url': u'd92c3df0ee7ac6cace3500936e08ec54d4b6e0d3',\n",
       "    u'img_logo_url': u'414f45296e2bada3bd7d5283a090883bed4a4a3f',\n",
       "    u'name': u'Battle vs Chess',\n",
       "    u'playtime_forever': 507},\n",
       "   {u'appid': 209080,\n",
       "    u'has_community_visible_stats': True,\n",
       "    u'img_icon_url': u'968e8c0b7a55f0229392278123dfd486140c9421',\n",
       "    u'img_logo_url': u'925b7c2a6b698144622bed4bd2d0086114df2fa9',\n",
       "    u'name': u'Guns of Icarus Online',\n",
       "    u'playtime_forever': 294},\n",
       "   {u'appid': 204630,\n",
       "    u'has_community_visible_stats': True,\n",
       "    u'img_icon_url': u'423b87d4a5a00ff6e807558e565b0b515fadf61b',\n",
       "    u'img_logo_url': u'3ca51d2767c5de3358c4f1824f1b362a9494983f',\n",
       "    u'name': u'Retro City Rampage\\u2122 DX',\n",
       "    u'playtime_forever': 372},\n",
       "   {u'appid': 11450,\n",
       "    u'img_icon_url': u'8fc55092acac2cb5f72dbf8f644fcd430c461dd6',\n",
       "    u'img_logo_url': u'0700d43ef52f5c83b5794a8984ce0ecf34169465',\n",
       "    u'name': u'Overlord',\n",
       "    u'playtime_forever': 0},\n",
       "   {u'appid': 12710,\n",
       "    u'img_icon_url': u'adbaa95c9f6fd9f10faf78ddd7477160d4946424',\n",
       "    u'img_logo_url': u'887f6ba923cf64b7b7a4153bcea1352fde6e47fa',\n",
       "    u'name': u'Overlord: Raising Hell',\n",
       "    u'playtime_forever': 0},\n",
       "   {u'appid': 7510,\n",
       "    u'img_icon_url': u'311b4363fd29a55fbdd23f515e409785b520b6e8',\n",
       "    u'img_logo_url': u'85bb604055343baeae32c8afe9bc51107bb31318',\n",
       "    u'name': u'X-Blades',\n",
       "    u'playtime_forever': 338},\n",
       "   {u'appid': 1930,\n",
       "    u'img_icon_url': u'f20291118f8abb2c4d50579801b908720b7d2651',\n",
       "    u'img_logo_url': u'57094b687bdeaef65791bf2b710c8c6a11189359',\n",
       "    u'name': u'Two Worlds: Epic Edition',\n",
       "    u'playtime_forever': 560},\n",
       "   {u'appid': 225300,\n",
       "    u'img_icon_url': u'',\n",
       "    u'img_logo_url': u'16ade9bf6146dcdb35a1e88372001f7f1d7b5b51',\n",
       "    u'name': u'Tomb Raider II',\n",
       "    u'playtime_forever': 0},\n",
       "   {u'appid': 209190,\n",
       "    u'has_community_visible_stats': True,\n",
       "    u'img_icon_url': u'2be85799c6d910119aa46b153d0b3baf96d0cf69',\n",
       "    u'img_logo_url': u'ace19954ffdbb6678481f3fa99e3a1f5087b400b',\n",
       "    u'name': u'Stealth Bastard Deluxe',\n",
       "    u'playtime_forever': 264},\n",
       "   {u'appid': 35720,\n",
       "    u'has_community_visible_stats': True,\n",
       "    u'img_icon_url': u'061ecbbd7c70ae1c052377bad136c7759cbb708d',\n",
       "    u'img_logo_url': u'7d7c3b93bd85ad1db2a07f6cca01a767069c6407',\n",
       "    u'name': u'Trine 2',\n",
       "    u'playtime_forever': 218},\n",
       "   {u'appid': 102700,\n",
       "    u'has_community_visible_stats': True,\n",
       "    u'img_icon_url': u'e35e4468415edb9208f01fd8c7a23552bb7629b3',\n",
       "    u'img_logo_url': u'e1bc8797f8e467969b607a3853cce866af32c8fa',\n",
       "    u'name': u'A.V.A. Alliance of Valiant Arms\\u2122',\n",
       "    u'playtime_forever': 8},\n",
       "   {u'appid': 230410,\n",
       "    u'has_community_visible_stats': True,\n",
       "    u'img_icon_url': u'bcf887d7b0707e5418e1680de92e85ca899516ac',\n",
       "    u'img_logo_url': u'3785f3576cdef5cf20a8b815bdf867154ccbe7d5',\n",
       "    u'name': u'Warframe',\n",
       "    u'playtime_2weeks': 57,\n",
       "    u'playtime_forever': 27936},\n",
       "   {u'appid': 226980,\n",
       "    u'has_community_visible_stats': True,\n",
       "    u'img_icon_url': u'9e5da0e389b3fa5228674089998b549b25189d78',\n",
       "    u'img_logo_url': u'a16e16b1e3fc8283de949c9bebc2c0704ef3c364',\n",
       "    u'name': u'Pinball FX2',\n",
       "    u'playtime_forever': 1},\n",
       "   {u'appid': 245550,\n",
       "    u'has_community_visible_stats': True,\n",
       "    u'img_icon_url': u'ff076c6bed6fe8cd7a919c500e54dc8eb8634ef2',\n",
       "    u'img_logo_url': u'98defd2daedb3910583439bffb12e0baeb20ff6c',\n",
       "    u'name': u'Free to Play',\n",
       "    u'playtime_forever': 0},\n",
       "   {u'appid': 343450,\n",
       "    u'has_community_visible_stats': True,\n",
       "    u'img_icon_url': u'',\n",
       "    u'img_logo_url': u'',\n",
       "    u'name': u'Free To Play (Streaming)',\n",
       "    u'playtime_forever': 0},\n",
       "   {u'appid': 224220,\n",
       "    u'has_community_visible_stats': True,\n",
       "    u'img_icon_url': u'31a24c1bd5e0de4ca81366a60c0caf6aafeeaf39',\n",
       "    u'img_logo_url': u'fb8425a66c31e08edd6073182d34fa92cf1fdcdb',\n",
       "    u'name': u'Pressure',\n",
       "    u'playtime_forever': 217},\n",
       "   {u'appid': 228260,\n",
       "    u'has_community_visible_stats': True,\n",
       "    u'img_icon_url': u'240d87e806b31707ad649d01ae509018abc112ec',\n",
       "    u'img_logo_url': u'98e69c7b9cba21a9f744c298fd996e3d3bb2e4bc',\n",
       "    u'name': u'Fallen Enchantress: Legendary Heroes',\n",
       "    u'playtime_forever': 382},\n",
       "   {u'appid': 224500,\n",
       "    u'has_community_visible_stats': True,\n",
       "    u'img_icon_url': u'd7c80a8e5881e75800bfef1adb0ec7270805bc82',\n",
       "    u'img_logo_url': u'3d94a48cfa842d013ba9da19d8d165858c9a8889',\n",
       "    u'name': u'Gnomoria',\n",
       "    u'playtime_forever': 121},\n",
       "   {u'appid': 232770,\n",
       "    u'has_community_visible_stats': True,\n",
       "    u'img_icon_url': u'8cf04b684437a422cf2c11277d2eb33c08868397',\n",
       "    u'img_logo_url': u'4a16f584db0795c6a63064fcf3c4f62774dfc503',\n",
       "    u'name': u'POSTAL',\n",
       "    u'playtime_forever': 121},\n",
       "   {u'appid': 44350,\n",
       "    u'has_community_visible_stats': True,\n",
       "    u'img_icon_url': u'78dfd2533e0ee4cdf981cf13fbdea9596f1ed433',\n",
       "    u'img_logo_url': u'059c8f0e1995b134f78deaf93b0a352db58ba0e1',\n",
       "    u'name': u'GRID 2',\n",
       "    u'playtime_forever': 249},\n",
       "   {u'appid': 65730,\n",
       "    u'img_icon_url': u'f1886b3d88f07d962dcf75e1aaa3253dc94dbbe6',\n",
       "    u'img_logo_url': u'54d773172b607d199402bf1032f7f6e77efc4a12',\n",
       "    u'name': u'Take On Helicopters',\n",
       "    u'playtime_forever': 0},\n",
       "   {u'appid': 98200,\n",
       "    u'has_community_visible_stats': True,\n",
       "    u'img_icon_url': u'646297e1b481ae0e57c4597452fb45ff9ce16989',\n",
       "    u'img_logo_url': u'3b20447980b019783a4e37893660d1ce54893699',\n",
       "    u'name': u'Frozen Synapse',\n",
       "    u'playtime_forever': 254},\n",
       "   {u'appid': 33910,\n",
       "    u'img_icon_url': u'7fd2d12d3f91ee3e69955121323bb89063ea304e',\n",
       "    u'img_logo_url': u'9d4d576e4662870232eae35e50b041f93a9a6fa0',\n",
       "    u'name': u'Arma 2',\n",
       "    u'playtime_forever': 0},\n",
       "   {u'appid': 218820,\n",
       "    u'has_community_visible_stats': True,\n",
       "    u'img_icon_url': u'4544b2993465c51a977c83111b0c6f818823cb6b',\n",
       "    u'img_logo_url': u'636cde6662517cb617f474a41fd706caa6674b1c',\n",
       "    u'name': u'Mercenary Kings',\n",
       "    u'playtime_forever': 246},\n",
       "   {u'appid': 247370,\n",
       "    u'has_community_visible_stats': True,\n",
       "    u'img_icon_url': u'fd920cdc016710f5a142ddb488919f11a011dccf',\n",
       "    u'img_logo_url': u'38b18142083a48c59041480b0ee86888423146f8',\n",
       "    u'name': u'Mutant Mudds Deluxe',\n",
       "    u'playtime_forever': 249},\n",
       "   {u'appid': 244590,\n",
       "    u'has_community_visible_stats': True,\n",
       "    u'img_icon_url': u'a4717d624d8299009515099ae22a6a3760c4d4db',\n",
       "    u'img_logo_url': u'9942a5cbf358e3ead4726b61debff05ca708a801',\n",
       "    u'name': u'Epigenesis',\n",
       "    u'playtime_forever': 217},\n",
       "   {u'appid': 231040,\n",
       "    u'has_community_visible_stats': True,\n",
       "    u'img_icon_url': u'1da60d64393a63533d348d0de309adb9c825402c',\n",
       "    u'img_logo_url': u'630a0fe52c40facdbdf8be2070a5dc0fa1a83159',\n",
       "    u'name': u'Beatbuddy: Tale of the Guardians',\n",
       "    u'playtime_forever': 217},\n",
       "   {u'appid': 248170,\n",
       "    u'has_community_visible_stats': True,\n",
       "    u'img_icon_url': u'09aad63873038e9a07070225ebe9c1fb258cd1e9',\n",
       "    u'img_logo_url': u'67bb069a54b5bd75296a5e5f54a0c305a989adf5',\n",
       "    u'name': u'Clickteam Fusion 2.5',\n",
       "    u'playtime_forever': 0},\n",
       "   {u'appid': 253290,\n",
       "    u'has_community_visible_stats': True,\n",
       "    u'img_icon_url': u'60af96880b2e48f185b41d76142507488aff0086',\n",
       "    u'img_logo_url': u'885110ac95d82e7d3f09f5a0622e73b989c481d7',\n",
       "    u'name': u'FOTONICA',\n",
       "    u'playtime_forever': 399},\n",
       "   {u'appid': 253330,\n",
       "    u'has_community_visible_stats': True,\n",
       "    u'img_icon_url': u'd6dcfb21c8e11eeefc83a5e0357f296ded8fb76e',\n",
       "    u'img_logo_url': u'1cc142bcc2c286a8c2d9dd1af89440b8b266e4d3',\n",
       "    u'name': u'Neverending Nightmares',\n",
       "    u'playtime_forever': 228},\n",
       "   {u'appid': 253900,\n",
       "    u'img_icon_url': u'b72c6dd9bfb30f4eb6e63ed37a342ecde3ace689',\n",
       "    u'img_logo_url': u'96541f185b3b9294a4a052abc485d227c4a1faa6',\n",
       "    u'name': u'Knights and Merchants',\n",
       "    u'playtime_forever': 216},\n",
       "   {u'appid': 253920,\n",
       "    u'has_community_visible_stats': True,\n",
       "    u'img_icon_url': u'6a8eda1df2035590871726bbda6c437d18ad89e3',\n",
       "    u'img_logo_url': u'709514c7cebae01981e10869bc24df892b5b4c8b',\n",
       "    u'name': u'Gorky 17',\n",
       "    u'playtime_forever': 0},\n",
       "   {u'appid': 253980,\n",
       "    u'img_icon_url': u'eb807cb60bbb54f7103659b17ca74c88477fa8f1',\n",
       "    u'img_logo_url': u'59fe92a2156284c5f9f84d4aae6da12eeede56fa',\n",
       "    u'name': u'Enclave',\n",
       "    u'playtime_forever': 217},\n",
       "   {u'appid': 254000,\n",
       "    u'img_icon_url': u'517c5f57b39abe6428aec9487d52ca987595e87e',\n",
       "    u'img_logo_url': u'1d14ef0cd0564be38d421e70be755c33be1c6ace',\n",
       "    u'name': u'East India Company Gold',\n",
       "    u'playtime_forever': 0},\n",
       "   {u'appid': 254020,\n",
       "    u'has_community_visible_stats': True,\n",
       "    u'img_icon_url': u'1a9e680acffc7752442ca8c9cceb337f0ebc70b1',\n",
       "    u'img_logo_url': u'9f9ef224892e785ceef096b4197a30b49329b071',\n",
       "    u'name': u'Commander: Conquest of the Americas Gold',\n",
       "    u'playtime_forever': 0},\n",
       "   {u'appid': 254040,\n",
       "    u'img_icon_url': u'79310c60789a11355685bcac3f1782f071ecf504',\n",
       "    u'img_logo_url': u'3f9424dd1e11a5ddc7378f17d968c4d9f1ca8b38',\n",
       "    u'name': u'Pirates of Black Cove Gold',\n",
       "    u'playtime_forever': 0},\n",
       "   {u'appid': 254060,\n",
       "    u'has_community_visible_stats': True,\n",
       "    u'img_icon_url': u'b1fbbfcbb5f85058a10f96a9262946ffae0c5982',\n",
       "    u'img_logo_url': u'6dec0d71e514c0aac7d23a7718094b7a099da08c',\n",
       "    u'name': u'KnightShift',\n",
       "    u'playtime_forever': 0},\n",
       "   {u'appid': 255220,\n",
       "    u'has_community_visible_stats': True,\n",
       "    u'img_icon_url': u'e43efe73a4b718bd90132cf519ebdbd329d24ea4',\n",
       "    u'img_logo_url': u'c8ef54ffd81bf8d34b658bad3009ffbf91197093',\n",
       "    u'name': u'GRID Autosport',\n",
       "    u'playtime_forever': 472},\n",
       "   {u'appid': 238910,\n",
       "    u'has_community_visible_stats': True,\n",
       "    u'img_icon_url': u'b32336f3ed512f909b9d240e8e2a26638b3924d6',\n",
       "    u'img_logo_url': u'b01530b0631f64fdc975011963a7d95b6951de7f',\n",
       "    u'name': u'Bionic Dues',\n",
       "    u'playtime_forever': 211},\n",
       "   {u'appid': 259280,\n",
       "    u'img_icon_url': u'fdddf09c13b7b5aa264f3203d7f6cab5bc919245',\n",
       "    u'img_logo_url': u'adf7a682c4aa463c1e1b5b4effd88d188c401a61',\n",
       "    u'name': u'Earth 2150: The Moon Project',\n",
       "    u'playtime_forever': 0},\n",
       "   {u'appid': 259300,\n",
       "    u'img_icon_url': u'22e4152438ee5634da2d038cd74d7a52b5dc71fb',\n",
       "    u'img_logo_url': u'46607b6e886881d2efffe931b184433088e1068c',\n",
       "    u'name': u'Earth 2150: Lost Souls',\n",
       "    u'playtime_forever': 0},\n",
       "   {u'appid': 259320,\n",
       "    u'img_icon_url': u'754fa28f7d440b63f74dac7714d839aaa732c422',\n",
       "    u'img_logo_url': u'5570a61d41d4003e8200d9a18b78146ebd794c19',\n",
       "    u'name': u'Heli Heroes',\n",
       "    u'playtime_forever': 0},\n",
       "   {u'appid': 259360,\n",
       "    u'img_icon_url': u'd618bfced27b87a885e814635c674e8de5877503',\n",
       "    u'img_logo_url': u'8b97db62075d27b03e61713779608ae715393d7d',\n",
       "    u'name': u'Chicken Shoot 2',\n",
       "    u'playtime_forever': 0},\n",
       "   {u'appid': 259530,\n",
       "    u'has_community_visible_stats': True,\n",
       "    u'img_icon_url': u'79cc46423da339fa03d9f8ac65b26d1a78e24955',\n",
       "    u'img_logo_url': u'213e390c78ab0e26c5be8b7e91be546b5f4e0b13',\n",
       "    u'name': u'Savant - Ascent',\n",
       "    u'playtime_forever': 0},\n",
       "   {u'appid': 261760,\n",
       "    u'has_community_visible_stats': True,\n",
       "    u'img_icon_url': u'515ce37935d28a04ac47e8887ba8302563f72733',\n",
       "    u'img_logo_url': u'faaab51297ea82a0f7aab34979840d4495bf9f9f',\n",
       "    u'name': u'Lichdom: Battlemage',\n",
       "    u'playtime_forever': 624},\n",
       "   {u'appid': 262830,\n",
       "    u'has_community_visible_stats': True,\n",
       "    u'img_icon_url': u'1e16c0ea05ee0247fb10ae0bc4953068c205460f',\n",
       "    u'img_logo_url': u'952e3d2819acc0206ec2462b49aa1cc0ddfe3b60',\n",
       "    u'name': u'Crimsonland',\n",
       "    u'playtime_forever': 532},\n",
       "   {u'appid': 264060,\n",
       "    u'has_community_visible_stats': True,\n",
       "    u'img_icon_url': u'7d6d0095ddda23aee1ebfa324f95a8611fd23631',\n",
       "    u'img_logo_url': u'cdda4719d04e4beb7eae76b5fde681612aced3ec',\n",
       "    u'name': u'Full Bore',\n",
       "    u'playtime_forever': 256},\n",
       "   {u'appid': 264540,\n",
       "    u'has_community_visible_stats': True,\n",
       "    u'img_icon_url': u'201088f745d9866d1460e6fd44e4c0f793d00135',\n",
       "    u'img_logo_url': u'6f6e5bf0b6cd8ce38772f5c5803d777bed4a87d0',\n",
       "    u'name': u'Platformines',\n",
       "    u'playtime_forever': 217},\n",
       "   {u'appid': 265120,\n",
       "    u'has_community_visible_stats': True,\n",
       "    u'img_icon_url': u'44f23be8ffe246a2a8d5d7d36ee0b32160227ebd',\n",
       "    u'img_logo_url': u'33db68eabe196b89b4d8805825efde4abaf2baa5',\n",
       "    u'name': u'Meridian: New World',\n",
       "    u'playtime_forever': 121},\n",
       "   {u'appid': 265930,\n",
       "    u'has_community_visible_stats': True,\n",
       "    u'img_icon_url': u'edf6c28b83d5fc221338ff71d01caa11d11d3b50',\n",
       "    u'img_logo_url': u'f116260f6858dda8a2e4c0ccedf270c8a24a0add',\n",
       "    u'name': u'Goat Simulator',\n",
       "    u'playtime_forever': 7365},\n",
       "   {u'appid': 266010,\n",
       "    u'has_community_visible_stats': True,\n",
       "    u'img_icon_url': u'8f9809fa07b3cc3da1dd70f3118aae6e1f241087',\n",
       "    u'img_logo_url': u'c2e5b693de7cd46328aa8dd24add10b4f425e7f1',\n",
       "    u'name': u'LYNE',\n",
       "    u'playtime_forever': 121},\n",
       "   {u'appid': 266130,\n",
       "    u'has_community_visible_stats': True,\n",
       "    u'img_icon_url': u'26dc1c75df69df7e3d1d6cd1d86b2b7238c187ac',\n",
       "    u'img_logo_url': u'd32361035e143a77f30581c5fc9417ab4ec89035',\n",
       "    u'name': u'Breach & Clear',\n",
       "    u'playtime_forever': 225},\n",
       "   {u'appid': 267920,\n",
       "    u'img_icon_url': u'a353ee6a6f60232206d61356a55208864483a360',\n",
       "    u'img_logo_url': u'9a00b8c11b1ac8201c09a166919a00ee024705d5',\n",
       "    u'name': u'Gun Metal',\n",
       "    u'playtime_forever': 240},\n",
       "   {u'appid': 268810,\n",
       "    u'has_community_visible_stats': True,\n",
       "    u'img_icon_url': u'09b7761c9bc32eef53eb2879eea3f4e9b8480889',\n",
       "    u'img_logo_url': u'546c7cbc174e6a1d1f1e2170b32d3fe8531a70f8',\n",
       "    u'name': u\"Paranormal State: Poison Spring Collector's Edition\",\n",
       "    u'playtime_forever': 246},\n",
       "   {u'appid': 268830,\n",
       "    u'has_community_visible_stats': True,\n",
       "    u'img_icon_url': u'22d2e4831b3021d817741ddbfa10639f49765e4a',\n",
       "    u'img_logo_url': u'b7bd3e6d3202bed717ff2be25cf086b72b4fbf6c',\n",
       "    u'name': u'Doctor Who: The Adventure Games',\n",
       "    u'playtime_forever': 279},\n",
       "   {u'appid': 269890,\n",
       "    u'has_community_visible_stats': True,\n",
       "    u'img_icon_url': u'420663b350afe528ca26ac6b255bb2a49478179d',\n",
       "    u'img_logo_url': u'ec2e5377e11a4b9c7501a61b3e40f16fdd669d9b',\n",
       "    u'name': u'AR-K',\n",
       "    u'playtime_forever': 238},\n",
       "   {u'appid': 271590,\n",
       "    u'has_community_visible_stats': True,\n",
       "    u'img_icon_url': u'1e72f87eb927fa1485e68aefaff23c7fd7178251',\n",
       "    u'img_logo_url': u'e447e82f8b0c67f9e001498503c62f2a187bc609',\n",
       "    u'name': u'Grand Theft Auto V',\n",
       "    u'playtime_2weeks': 355,\n",
       "    u'playtime_forever': 4221},\n",
       "   {u'appid': 271670,\n",
       "    u'has_community_visible_stats': True,\n",
       "    u'img_icon_url': u'c33f2f0aa75ac8a7b2edccef7841079658b175ff',\n",
       "    u'img_logo_url': u'6c3d5412a3bae9f45254c354f49f2b946940a246',\n",
       "    u'name': u'10 Second Ninja',\n",
       "    u'playtime_forever': 218},\n",
       "   {u'appid': 237950,\n",
       "    u'has_community_visible_stats': True,\n",
       "    u'img_icon_url': u'5f83872b6a8bad7421a8404d804ee35ec57562b1',\n",
       "    u'img_logo_url': u'09de184707c922860253ec309eb6225fcbeeb2a9',\n",
       "    u'name': u'UFO: Afterlight',\n",
       "    u'playtime_forever': 0},\n",
       "   {u'appid': 65780,\n",
       "    u'img_icon_url': u'c1e549a4837210842047fd5f5d02ef74a84254ec',\n",
       "    u'img_logo_url': u'7895086d90c2785178b049453f731a9d66f94b14',\n",
       "    u'name': u'Arma: Gold Edition',\n",
       "    u'playtime_forever': 0},\n",
       "   {u'appid': 272670,\n",
       "    u'img_icon_url': u'e236e36d4104c48b6ed2151cab4c5b8aa9c87f98',\n",
       "    u'img_logo_url': u'12ae976f0d6259f3489ec1a6b52ee67b3550e233',\n",
       "    u'name': u'Out of the Park Baseball 15',\n",
       "    u'playtime_forever': 273},\n",
       "   {u'appid': 274900,\n",
       "    u'has_community_visible_stats': True,\n",
       "    u'img_icon_url': u'0ba9a54e98ca963a8cabee36325f873f0b164c62',\n",
       "    u'img_logo_url': u'922d51756e33529ada722cf1c5b618445d93177c',\n",
       "    u'name': u'Murder Miners',\n",
       "    u'playtime_forever': 0},\n",
       "   {u'appid': 235320,\n",
       "    u'has_community_visible_stats': True,\n",
       "    u'img_icon_url': u'86e527781a70ee0803fb1216414312ffef463771',\n",
       "    u'img_logo_url': u'903593199d82d6e35e12f187bde92c569d428906',\n",
       "    u'name': u'Original War',\n",
       "    u'playtime_forever': 0},\n",
       "   {u'appid': 277520,\n",
       "    u'has_community_visible_stats': True,\n",
       "    u'img_icon_url': u'64ca32148587bc6c0afd61f1a7d546e5e1474f20',\n",
       "    u'img_logo_url': u'9d34c93c53b561593eb1b91edfdd9ae23b21654e',\n",
       "    u'name': u'Albedo: Eyes from Outer Space',\n",
       "    u'playtime_forever': 236},\n",
       "   {u'appid': 278460,\n",
       "    u'has_community_visible_stats': True,\n",
       "    u'img_icon_url': u'c9ffdb61ac610c337e437006c6f2da78c673f769',\n",
       "    u'img_logo_url': u'4e719b701c309d5224a70856862cff9051d93413',\n",
       "    u'name': u'Skyborn',\n",
       "    u'playtime_forever': 303},\n",
       "   {u'appid': 278490,\n",
       "    u'img_icon_url': u'a78fad9e786a4ba0ff4f36e862e33b3781da9dec',\n",
       "    u'img_logo_url': u'2bde1568d85722520b6a6b1a204f14ac83e1a78a',\n",
       "    u'name': u'Aveyond 3-2: Gates of Night',\n",
       "    u'playtime_forever': 0},\n",
       "   {u'appid': 280320,\n",
       "    u'has_community_visible_stats': True,\n",
       "    u'img_icon_url': u'd9c89439c33a05a338c0e0c8ce90a33826845402',\n",
       "    u'img_logo_url': u'f529a7baf4eed4768e4efd6171d45483281379be',\n",
       "    u'name': u'Adventurer Manager',\n",
       "    u'playtime_forever': 368},\n",
       "   {u'appid': 8880,\n",
       "    u'img_icon_url': u'9782dc5c4a6a3be777a64593f0dc529599b3aa95',\n",
       "    u'img_logo_url': u'057247dd595cb51fb63567d5464a3148831ae5b0',\n",
       "    u'name': u'Freedom Force',\n",
       "    u'playtime_forever': 0},\n",
       "   {u'appid': 283230,\n",
       "    u'has_community_visible_stats': True,\n",
       "    u'img_icon_url': u'86c7b69bfb7f998fe972d5723bbfb1c9b27588bd',\n",
       "    u'img_logo_url': u'9c9a2b13cf9e2062d682693e02aae386c5285dc0',\n",
       "    u'name': u'Spoiler Alert',\n",
       "    u'playtime_forever': 287},\n",
       "   {u'appid': 283310,\n",
       "    u'img_icon_url': u'f29134c9b8e1035665ac17c7fc98432b539d573b',\n",
       "    u'img_logo_url': u'f3d0b4131e3a7d33073ecb885bcfc46f5b2ce393',\n",
       "    u'name': u'Soulbringer',\n",
       "    u'playtime_forever': 0},\n",
       "   {u'appid': 283330,\n",
       "    u'img_icon_url': u'1cb57a8a38fd6634262904559fa846ee1b4d71fe',\n",
       "    u'img_logo_url': u'8e4707d6444f78ee3073fefa05dade2ce21c9d1e',\n",
       "    u'name': u'Desert Thunder',\n",
       "    u'playtime_forever': 0},\n",
       "   {u'appid': 283350,\n",
       "    u'img_icon_url': u'f9a2ef79928818894f29e0f7a74ef96cd50a2025',\n",
       "    u'img_logo_url': u'7e32a43f9aea79bd11f503e945ca3be454adc211',\n",
       "    u'name': u'Eurofighter Typhoon',\n",
       "    u'playtime_forever': 2},\n",
       "   {u'appid': 283390,\n",
       "    u'img_icon_url': u'994ce883105c4e2473d1be22d96afae9bf204d05',\n",
       "    u'img_logo_url': u'2f5a9338d87d4a9231b319db0f7ef4d9730e8fb7',\n",
       "    u'name': u'Incoming Forces',\n",
       "    u'playtime_forever': 225},\n",
       "   {u'appid': 284460,\n",
       "    u'has_community_visible_stats': True,\n",
       "    u'img_icon_url': u'09c71ba4bd8e9c3289e5fbc1cbe63ef8c95441f8',\n",
       "    u'img_logo_url': u'cfc9a6d858f1cdd1c6774be5514c3922d3b6caeb',\n",
       "    u'name': u'DeadCore',\n",
       "    u'playtime_forever': 7380},\n",
       "   {u'appid': 285010,\n",
       "    u'has_community_visible_stats': True,\n",
       "    u'img_icon_url': u'ec8c479a595ef3ce86079adc4a9994e20feaea33',\n",
       "    u'img_logo_url': u'e2a364a00f5ee3e3b6ffd887b95e935223f9da1e',\n",
       "    u'name': u'Pixel Puzzles: UndeadZ',\n",
       "    u'playtime_forever': 121},\n",
       "   {u'appid': 351030,\n",
       "    u'has_community_visible_stats': True,\n",
       "    u'img_icon_url': u'1720e286eea6bbd19a61f271793e6885ac7908cb',\n",
       "    u'img_logo_url': u'17c6a709d7dfdd47ff1ca1659c3c22f6df5b561d',\n",
       "    u'name': u'Pixel Puzzles Ultimate',\n",
       "    u'playtime_forever': 0},\n",
       "   {u'appid': 285050,\n",
       "    u'img_icon_url': u'b5ff2358af7738f0212038ed0cf145d2a2a6acf6',\n",
       "    u'img_logo_url': u'e9d826810f9eb747ea44475c4bfaccd05c54fe08',\n",
       "    u'name': u'Showtime!',\n",
       "    u'playtime_forever': 322},\n",
       "   {u'appid': 285840,\n",
       "    u'has_community_visible_stats': True,\n",
       "    u'img_icon_url': u'62e5f1a19be3cb0e1ad81877fb0665a0f8015410',\n",
       "    u'img_logo_url': u'c2f4bf53af2abaa24986341df7eb693ee8fc35e7',\n",
       "    u'name': u'Enemy Mind',\n",
       "    u'playtime_forever': 228},\n",
       "   {u'appid': 286440,\n",
       "    u'img_icon_url': u'76c4ef12b296b3810cbe9f3cd36162fd55b43151',\n",
       "    u'img_logo_url': u'c93f8de5c6c4a4e16761e0a338cc6a77e29fae48',\n",
       "    u'name': u'Rover Rescue',\n",
       "    u'playtime_forever': 0},\n",
       "   {u'appid': 237350,\n",
       "    u'has_community_visible_stats': True,\n",
       "    u'img_icon_url': u'4c67ab61e01d7dd083ae6dce4ff7b2a0c70161dd',\n",
       "    u'img_logo_url': u'dcdf6b304e1e44e3992fd9b57f04c7a17f57ea8a',\n",
       "    u'name': u'Frozen Cortex',\n",
       "    u'playtime_forever': 0},\n",
       "   {u'appid': 287260,\n",
       "    u'has_community_visible_stats': True,\n",
       "    u'img_icon_url': u'8b31c55bb89ec597c8bc8c2a34a1d1d119b7330a',\n",
       "    u'img_logo_url': u'45dfbe6a37565fa5fb731a4a2c7c96f1c830d901',\n",
       "    u'name': u'Toybox Turbos',\n",
       "    u'playtime_forever': 249},\n",
       "   {u'appid': 287340,\n",
       "    u'has_community_visible_stats': True,\n",
       "    u'img_icon_url': u'68f63fecae9d9648bc461433036ec3fa33074ff5',\n",
       "    u'img_logo_url': u'db0986dbbb106cd5be74caa89a6b345ce8820755',\n",
       "    u'name': u'Colin McRae Rally',\n",
       "    u'playtime_forever': 249},\n",
       "   {u'appid': 289890,\n",
       "    u'img_icon_url': u'be0b740b36e6e053f7403bf268607e6ca50c2630',\n",
       "    u'img_logo_url': u'e1fa4a2c8273b1315a4a0c7af234e5d1a5134529',\n",
       "    u'name': u'7,62 High Calibre',\n",
       "    u'playtime_forever': 0},\n",
       "   {u'appid': 290490,\n",
       "    u'has_community_visible_stats': True,\n",
       "    u'img_icon_url': u'76df00032dc877c35db2a704bed49e3beabd7f9f',\n",
       "    u'img_logo_url': u'7b4eeecedb52144addd77d412ed4d9e039064242',\n",
       "    u'name': u'The Flock',\n",
       "    u'playtime_forever': 0},\n",
       "   {u'appid': 292390,\n",
       "    u'img_icon_url': u'13abd6b022bb179fe9fdc41411ac0c525c320639',\n",
       "    u'img_logo_url': u'8a739324621874fa3e31b440f1712194c7674a7f',\n",
       "    u'name': u'Realms of the Haunting',\n",
       "    u'playtime_forever': 0},\n",
       "   {u'appid': 292670,\n",
       "    u'img_icon_url': u'5b7abfd3ea002066926bd895c88bb6bbece62133',\n",
       "    u'img_logo_url': u'67663f6a8abdd82380737b3b5894857345094f25',\n",
       "    u'name': u'Princess Isabella - Return of the Curse',\n",
       "    u'playtime_forever': 0},\n",
       "   {u'appid': 293180,\n",
       "    u'img_icon_url': u'15de61599f551de7e6acf299e1813daf6013f8d7',\n",
       "    u'img_logo_url': u'5747a43b885aabe479767625c453edfc5dc13191',\n",
       "    u'name': u'Overcast - Walden and the Werewolf',\n",
       "    u'playtime_forever': 225},\n",
       "   {u'appid': 293840,\n",
       "    u'has_community_visible_stats': True,\n",
       "    u'img_icon_url': u'506e6ab8c49c8fbab94f1959dc27b17b35d49e07',\n",
       "    u'img_logo_url': u'9a86781fdb56e18a60162a6af2a6c718e1ba01e3',\n",
       "    u'name': u'Cult of the Wind',\n",
       "    u'playtime_forever': 0},\n",
       "   {u'appid': 293940,\n",
       "    u'has_community_visible_stats': True,\n",
       "    u'img_icon_url': u'feda9e7a33abd999bc0769ee99fe5c354f632967',\n",
       "    u'img_logo_url': u'bf855671e0b43d4979e70b57c3800a5fded5d46b',\n",
       "    u'name': u'Kill The Bad Guy',\n",
       "    u'playtime_forever': 220},\n",
       "   {u'appid': 294040,\n",
       "    u'has_community_visible_stats': True,\n",
       "    u'img_icon_url': u'e7afe980c69c967599c5d827f6d50b72f500692d',\n",
       "    u'img_logo_url': u'dc0b52c58f2253b685b811386a029ccc2f76c748',\n",
       "    u'name': u'Loot Hero DX',\n",
       "    u'playtime_forever': 121},\n",
       "   {u'appid': 296280,\n",
       "    u'img_icon_url': u'090d9bac23292dcbffd9290d7816ffaecbd05623',\n",
       "    u'img_logo_url': u'43a4855b6a3e607d3f53facd68ba61f87c9c5b12',\n",
       "    u'name': u'TownCraft',\n",
       "    u'playtime_forever': 224},\n",
       "   {u'appid': 296490,\n",
       "    u'has_community_visible_stats': True,\n",
       "    u'img_icon_url': u'd9dee57d707fc52432ad5dd48f196948c32b767c',\n",
       "    u'img_logo_url': u'ced2f850435f5e56aeba054e6df8a1a17bdd8a28',\n",
       "    u'name': u'GemCraft - Chasing Shadows',\n",
       "    u'playtime_forever': 529},\n",
       "   {u'appid': 296710,\n",
       "    u'has_community_visible_stats': True,\n",
       "    u'img_icon_url': u'76b297603afd400703606320c97faa90b0c2d03f',\n",
       "    u'img_logo_url': u'43c616cbe0ae3ee702446bd98c4486a8b6b54b74',\n",
       "    u'name': u'Monstrum ',\n",
       "    u'playtime_forever': 0},\n",
       "   {u'appid': 296770,\n",
       "    u'has_community_visible_stats': True,\n",
       "    u'img_icon_url': u'8f6a3bee7a3a4566cd584cdcdd228cfa2fbf108b',\n",
       "    u'img_logo_url': u'863dd59a81ebacd9f5e1b58820a8dcf6ca36887f',\n",
       "    u'name': u'Real Boxing\\u2122',\n",
       "    u'playtime_forever': 431},\n",
       "   {u'appid': 296910,\n",
       "    u'has_community_visible_stats': True,\n",
       "    u'img_icon_url': u'25cc1df996bb0bd7f15c8ca5cfb02f2f5180e354',\n",
       "    u'img_logo_url': u'433adcfa3fe73410399d252e059f01c00cd143f4',\n",
       "    u'name': u'8BitBoy',\n",
       "    u'playtime_forever': 0},\n",
       "   {u'appid': 297290,\n",
       "    u'has_community_visible_stats': True,\n",
       "    u'img_icon_url': u'050ceaee0c413bcaf9d1f89de8ab22d3998630a5',\n",
       "    u'img_logo_url': u'89353832677602a4e0048350072299c8957a5b8d',\n",
       "    u'name': u'Detective Case and Clown Bot in: Murder in the Hotel Lisbon',\n",
       "    u'playtime_forever': 357},\n",
       "   {u'appid': 238460,\n",
       "    u'has_community_visible_stats': True,\n",
       "    u'img_icon_url': u'2f258aaff583d797812cdcf24830d5992f48733b',\n",
       "    u'img_logo_url': u'13380473acaa95f843301b8a21a383790ae384de',\n",
       "    u'name': u'BattleBlock Theater',\n",
       "    u'playtime_forever': 7139},\n",
       "   {u'appid': 299460,\n",
       "    u'has_community_visible_stats': True,\n",
       "    u'img_icon_url': u'69bd90435878b5c5508dcb960ee0224de73c2c22',\n",
       "    u'img_logo_url': u'7fbd3e259cdb8b56516dc19c522263e0b19a2dc7',\n",
       "    u'name': u'Woodle Tree Adventures',\n",
       "    u'playtime_forever': 257},\n",
       "   {u'appid': 299580,\n",
       "    u'img_icon_url': u'9f277f6c54570740a067c2194b46c9a604a7d5f3',\n",
       "    u'img_logo_url': u'f5b62ac5d3962733a4a5737a41e25d9f84e5169f',\n",
       "    u'name': u'Abducted',\n",
       "    u'playtime_forever': 0},\n",
       "   {u'appid': 299780,\n",
       "    u'img_icon_url': u'04c2d66547e30128f40cf8b6f92a7274f37f17e4',\n",
       "    u'img_logo_url': u'1de1eee148e670a7d4c89b0f55997e63781834d0',\n",
       "    u'name': u'Noir Syndrome',\n",
       "    u'playtime_forever': 224},\n",
       "   {u'appid': 301690,\n",
       "    u'img_icon_url': u'dfed387651076ca7b02933d894b674f4726df9b5',\n",
       "    u'img_logo_url': u'75a419e048ce4b2d3f308d918a9eb0ca9f21d0a2',\n",
       "    u'name': u'Cobi Treasure Deluxe',\n",
       "    u'playtime_forever': 0},\n",
       "   {u'appid': 302240,\n",
       "    u'img_icon_url': u'f225de5d0eee044040c482d63ea4b0003b571c6a',\n",
       "    u'img_logo_url': u'bf4706bd97739c2f3ba07e870031b44673c507e7',\n",
       "    u'name': u'Chernobyl Commando',\n",
       "    u'playtime_forever': 0},\n",
       "   {u'appid': 303390,\n",
       "    u'has_community_visible_stats': True,\n",
       "    u'img_icon_url': u'23c393739364bf2fb75577bdf03c8cafc418b8e4',\n",
       "    u'img_logo_url': u'1d139a1ea3a0b537218e703b39f4160e1a90e0aa',\n",
       "    u'name': u'Dead Bits',\n",
       "    u'playtime_forever': 434},\n",
       "   {u'appid': 305640,\n",
       "    u'has_community_visible_stats': True,\n",
       "    u'img_icon_url': u'aea59470e59e0c4b559269543bf601f9fb7edc65',\n",
       "    u'img_logo_url': u'15698cb79fad554ca8cd6af189016bb7bb26de6b',\n",
       "    u'name': u'Shattered Planet',\n",
       "    u'playtime_forever': 290},\n",
       "   {u'appid': 305920,\n",
       "    u'has_community_visible_stats': True,\n",
       "    u'img_icon_url': u'e1d2af3f891ff69905cea125e557f4fd8f6bf10c',\n",
       "    u'img_logo_url': u'd904637bed13557c7e3d05b0f11c254911404b55',\n",
       "    u'name': u'Another Perspective',\n",
       "    u'playtime_forever': 0},\n",
       "   {u'appid': 306410,\n",
       "    u'img_icon_url': u'63bd8c598115192d07596f9ed9fb779cd5b2530b',\n",
       "    u'img_logo_url': u'bf7e452569bf1d12d13e13406dda91227b9810e7',\n",
       "    u'name': u'Crystals of Time',\n",
       "    u'playtime_forever': 121},\n",
       "   {u'appid': 307070,\n",
       "    u'img_icon_url': u'84861cac38f95d341a0dce4b4cb555bbb920af49',\n",
       "    u'img_logo_url': u'be6551623eb044f83c94ba4bde40a5f5343f5208',\n",
       "    u'name': u'Memories of a Vagabond',\n",
       "    u'playtime_forever': 222},\n",
       "   {u'appid': 307350,\n",
       "    u'img_icon_url': u'6f3ba6485a07b4a6c317df009c1a0f20b2d3f893',\n",
       "    u'img_logo_url': u'cb9b1076655d605de8a8c02df4738e48f2ae6368',\n",
       "    u'name': u'Nux',\n",
       "    u'playtime_forever': 220},\n",
       "   {u'appid': 310450,\n",
       "    u'img_icon_url': u'0d2c01af8406a5dfc05b215198031efc4b54603d',\n",
       "    u'img_logo_url': u'6ab6ddef65e88c3d36a56be64804ef22c8c10fba',\n",
       "    u'name': u'Steel & Steam: Episode 1',\n",
       "    u'playtime_forever': 0},\n",
       "   {u'appid': 312640,\n",
       "    u'img_icon_url': u'4987ffe0bffc2f49f878e24717e508285b585d54',\n",
       "    u'img_logo_url': u'5d432ce848526238ca74573861dc80894e1f4310',\n",
       "    u'name': u'Power-Up',\n",
       "    u'playtime_forever': 373},\n",
       "   {u'appid': 313130,\n",
       "    u'has_community_visible_stats': True,\n",
       "    u'img_icon_url': u'7c82ee7e233b5d8c999f2b82b7da1460d87cff62',\n",
       "    u'img_logo_url': u'd24e0e3b2185224ccc78e55951fa5659fe8804a2',\n",
       "    u'name': u'Metrocide',\n",
       "    u'playtime_forever': 288},\n",
       "   {u'appid': 314250,\n",
       "    u'has_community_visible_stats': True,\n",
       "    u'img_icon_url': u'd4c45d4dde9998049901c0afdf6499d7ef7a360e',\n",
       "    u'img_logo_url': u'858df3d52fa67adc5a72b1686eacc982c30c85ab',\n",
       "    u'name': u'Jet Gunner',\n",
       "    u'playtime_forever': 227},\n",
       "   {u'appid': 313340,\n",
       "    u'img_icon_url': u'1a3e03e197683aa8db0e0d31aeeb99495a9ca407',\n",
       "    u'img_logo_url': u'eeb9c542b407c33f5858e55b9c04420495e5fb35',\n",
       "    u'name': u'Mountain',\n",
       "    u'playtime_forever': 0},\n",
       "   {u'appid': 205020,\n",
       "    u'img_icon_url': u'd6854b4b2fa69b562fef7df4178434e9bca958e3',\n",
       "    u'img_logo_url': u'4ff0e840f4e49d3ecb8eb60e7fb595d213ae85ae',\n",
       "    u'name': u'Lumino City',\n",
       "    u'playtime_forever': 28},\n",
       "   {u'appid': 318100,\n",
       "    u'has_community_visible_stats': True,\n",
       "    u'img_icon_url': u'a60db996c1e0606aab5e2ce9020483178a880902',\n",
       "    u'img_logo_url': u'b8adb116012fa53b8aa6df44c7feefab42dd1f79',\n",
       "    u'name': u'AXYOS',\n",
       "    u'playtime_forever': 592},\n",
       "   {u'appid': 319180,\n",
       "    u'img_icon_url': u'a39f271c233446aaa50a7a216eab69275eeddea9',\n",
       "    u'img_logo_url': u'c113804c0e21a2c377cda5b4ab90788ade5e2869',\n",
       "    u'name': u'Platypus II',\n",
       "    u'playtime_forever': 91},\n",
       "   {u'appid': 321040,\n",
       "    u'has_community_visible_stats': True,\n",
       "    u'img_icon_url': u'fdfb3aa153b57d6ae6cd8099cb4456b3d5b182b6',\n",
       "    u'img_logo_url': u'bb89ef19777c30c8551b0f4eea296d6ca33007cc',\n",
       "    u'name': u'DiRT 3 Complete Edition',\n",
       "    u'playtime_forever': 243},\n",
       "   {u'appid': 321400,\n",
       "    u'has_community_visible_stats': True,\n",
       "    u'img_icon_url': u'f78940d67eb55997f6116fe1287365040a70d6d3',\n",
       "    u'img_logo_url': u'3b492699923a578352c6c419015620c70732162b',\n",
       "    u'name': u'Supraball',\n",
       "    u'playtime_forever': 0},\n",
       "   {u'appid': 323430,\n",
       "    u'has_community_visible_stats': True,\n",
       "    u'img_icon_url': u'6602fef988c04742d07d66a05b45c5951200619f',\n",
       "    u'img_logo_url': u'78df6df93aaadc9d5d63c5bce6f4bece6c025987',\n",
       "    u'name': u'Crow',\n",
       "    u'playtime_forever': 0},\n",
       "   {u'appid': 324420,\n",
       "    u'has_community_visible_stats': True,\n",
       "    u'img_icon_url': u'ab0f30f7e27936105ee9b67f2ad0d61c09531489',\n",
       "    u'img_logo_url': u'525366237404b054d75b0a685901a2927e0379c9',\n",
       "    u'name': u'Desert Ashes',\n",
       "    u'playtime_forever': 121},\n",
       "   {u'appid': 238320,\n",
       "    u'has_community_visible_stats': True,\n",
       "    u'img_icon_url': u'46bd3df92d4693d3b2af113bf8f31c2cbdadb20a',\n",
       "    u'img_logo_url': u'7d02a2286fd5d4ce42cfc1ecc78e08c89e542f87',\n",
       "    u'name': u'Outlast',\n",
       "    u'playtime_forever': 274},\n",
       "   {u'appid': 305050,\n",
       "    u'has_community_visible_stats': True,\n",
       "    u'img_icon_url': u'bdfa511693bd167835fb1d32331f0a579dcdb9a5',\n",
       "    u'img_logo_url': u'26c5b8f3b69f028073168ced552f87e40a9e4b58',\n",
       "    u'name': u'Outland',\n",
       "    u'playtime_forever': 243},\n",
       "   {u'appid': 326120,\n",
       "    u'has_community_visible_stats': True,\n",
       "    u'img_icon_url': u'd4a475cb910c0eaef87c4e9e883873aab26b7fc6',\n",
       "    u'img_logo_url': u'4a024c12358e6d52ee109594c75eb469bd1b7bd6',\n",
       "    u'name': u'Horizon Shift',\n",
       "    u'playtime_forever': 494},\n",
       "   {u'appid': 328890,\n",
       "    u'img_icon_url': u'995292f9b8f40f5f149843f9fe7c81daca8b4d86',\n",
       "    u'img_logo_url': u'6e64dc9a513b34c385d51ef30ef32ae0079316bc',\n",
       "    u'name': u'Fritz for Fun 13',\n",
       "    u'playtime_forever': 0},\n",
       "   {u'appid': 331710,\n",
       "    u'img_icon_url': u'924cdcd85ce057182cb4634344598ef58d8df895',\n",
       "    u'img_logo_url': u'e3daf107bad534bb032a244a821abc134a76c806',\n",
       "    u'name': u'Why So Evil',\n",
       "    u'playtime_forever': 340},\n",
       "   {u'appid': 354850,\n",
       "    u'img_icon_url': u'760bf83dec24e67f06fc9ce2284b14b58f6b1fb1',\n",
       "    u'img_logo_url': u'9c21e25014753860aee42c4d0b2dd74ce1f5d838',\n",
       "    u'name': u'Why So Evil 2: Dystopia',\n",
       "    u'playtime_forever': 327},\n",
       "   {u'appid': 368900,\n",
       "    u'img_icon_url': u'a3d1e8988ad6a54d7a7b01bae819f581e14fe67a',\n",
       "    u'img_logo_url': u'eea08980c752b494037a2de1dd3b5d062d3141c5',\n",
       "    u'name': u'Brilliant Bob',\n",
       "    u'playtime_forever': 338},\n",
       "   {u'appid': 730,\n",
       "    u'has_community_visible_stats': True,\n",
       "    u'img_icon_url': u'69f7ebe2735c366c65c0b33dae00e12dc40edbe4',\n",
       "    u'img_logo_url': u'd0595ff02f5c79fd19b06f4d6165c3fda2372820',\n",
       "    u'name': u'Counter-Strike: Global Offensive',\n",
       "    u'playtime_2weeks': 53,\n",
       "    u'playtime_forever': 57477},\n",
       "   {u'appid': 218620,\n",
       "    u'has_community_visible_stats': True,\n",
       "    u'img_icon_url': u'a6abc0d0c1e79c0b5b0f5c8ab81ce9076a542414',\n",
       "    u'img_logo_url': u'4467a70648f49a6b309b41b81b4531f9a20ed99d',\n",
       "    u'name': u'PAYDAY 2',\n",
       "    u'playtime_forever': 18894},\n",
       "   {u'appid': 334070,\n",
       "    u'has_community_visible_stats': True,\n",
       "    u'img_icon_url': u'2699d8b4e1a8a4842824b69b34e36b920b1e30da',\n",
       "    u'img_logo_url': u'8b712f2d46b4cba860dddbdd28be48a971831662',\n",
       "    u'name': u'Hektor',\n",
       "    u'playtime_forever': 121},\n",
       "   {u'appid': 338320,\n",
       "    u'has_community_visible_stats': True,\n",
       "    u'img_icon_url': u'73c001ae9e62b9922ac658791cf8c381be455a71',\n",
       "    u'img_logo_url': u'c416197c7299800a95013ea469cb64fe231cf0ea',\n",
       "    u'name': u'Pixel Heroes: Byte & Magic',\n",
       "    u'playtime_forever': 390},\n",
       "   {u'appid': 338760,\n",
       "    u'img_icon_url': u'eef0e5524785221fe398ee8817e98567da9d7361',\n",
       "    u'img_logo_url': u'eedb71618104d7bc52b8b0044605a1042b2b76a5',\n",
       "    u'name': u'Death Ray Manta',\n",
       "    u'playtime_forever': 249},\n",
       "   {u'appid': 339160,\n",
       "    u'has_community_visible_stats': True,\n",
       "    u'img_icon_url': u'd761a0f46e033f019f82e939789e5cb1b12752aa',\n",
       "    u'img_logo_url': u'195b31618d4fc74a7995002643098adfc1b4db45',\n",
       "    u'name': u'Tales of the Orient: The Rising Sun',\n",
       "    u'playtime_forever': 251},\n",
       "   {u'appid': 246070,\n",
       "    u'has_community_visible_stats': True,\n",
       "    u'img_icon_url': u'57587c74e58cfff46972f0cd3867ff7ad4f3a30c',\n",
       "    u'img_logo_url': u'47a902e7589ee213d82159a22cddb2cb8428aa5a',\n",
       "    u'name': u\"Hack 'n' Slash\",\n",
       "    u'playtime_forever': 0},\n",
       "   {u'appid': 340120,\n",
       "    u'img_icon_url': u'0ade436a8566f0888771fa3874d72bc700961676',\n",
       "    u'img_logo_url': u'975b195c6994a6f77ee1bf9788c0da112f41faaa',\n",
       "    u'name': u'Crazy Chicken',\n",
       "    u'playtime_forever': 0},\n",
       "   {u'appid': 341080,\n",
       "    u'img_icon_url': u'cecb2060ac68e90c084e1a0cc6f943e85a9aa30a',\n",
       "    u'img_logo_url': u'a623c8830fe1fd7f2c8aaa55633d1dc16374c0eb',\n",
       "    u'name': u'Nexus : One Core',\n",
       "    u'playtime_forever': 0},\n",
       "   {u'appid': 341550,\n",
       "    u'has_community_visible_stats': True,\n",
       "    u'img_icon_url': u'53f4f80b63b12665942c5c9786813f2797875d0f',\n",
       "    u'img_logo_url': u'547346688a84426c09f49ab8b138878b458ac828',\n",
       "    u'name': u'Super Cyborg',\n",
       "    u'playtime_forever': 219},\n",
       "   {u'appid': 340820,\n",
       "    u'has_community_visible_stats': True,\n",
       "    u'img_icon_url': u'b538f60e30aacda8860a84bbb389cf6fa0524fcd',\n",
       "    u'img_logo_url': u'2e36b5543b09249134bd85f4a1495cdb309d1c38',\n",
       "    u'name': u'Yelaxot',\n",
       "    u'playtime_forever': 105},\n",
       "   {u'appid': 341950,\n",
       "    u'has_community_visible_stats': True,\n",
       "    u'img_icon_url': u'e2294845bef30a731c5881708ef6fae841ed297e',\n",
       "    u'img_logo_url': u'e9a4b3ba9a62601f125d1c0b92753a8c18d18734',\n",
       "    u'name': u'Lux Delux',\n",
       "    u'playtime_forever': 191},\n",
       "   {u'appid': 342300,\n",
       "    u'has_community_visible_stats': True,\n",
       "    u'img_icon_url': u'756023505088c14cea9ea8f11edaff825bf10565',\n",
       "    u'img_logo_url': u'0111170c34f2fdf8067371e00df653dd67461600',\n",
       "    u'name': u'Zombie Kill of the Week - Reborn',\n",
       "    u'playtime_forever': 278},\n",
       "   {u'appid': 342620,\n",
       "    u'has_community_visible_stats': True,\n",
       "    u'img_icon_url': u'c8a6651ade4e5fedc287de7eaf268777131ce4a7',\n",
       "    u'img_logo_url': u'2ed737c6808b1bf399578cecae09cc480e05b789',\n",
       "    u'name': u'It came from space, and ate our brains',\n",
       "    u'playtime_forever': 121},\n",
       "   {u'appid': 343360,\n",
       "    u'img_icon_url': u'f7846aee2cc0e59f045c3bbfa5097146c7074f65',\n",
       "    u'img_logo_url': u'a42675354b2b4594d4a3f3ed93a6cd7915da2443',\n",
       "    u'name': u'Particula',\n",
       "    u'playtime_forever': 521},\n",
       "   {u'appid': 343930,\n",
       "    u'has_community_visible_stats': True,\n",
       "    u'img_icon_url': u'6c2a85fbe6d2ae630470193073981c5fc5feee2b',\n",
       "    u'img_logo_url': u'c1cb7883c1ecec32957627f7f8008528f67771f4',\n",
       "    u'name': u'Fort Defense',\n",
       "    u'playtime_forever': 0},\n",
       "   {u'appid': 346450,\n",
       "    u'img_icon_url': u'328ac61cb54a9594aa2e92166ddfc3a586970eea',\n",
       "    u'img_logo_url': u'a7f591b901cf40f281e151d500d0ceb43bb3a333',\n",
       "    u'name': u'samurai_jazz',\n",
       "    u'playtime_forever': 0},\n",
       "   {u'appid': 347520,\n",
       "    u'has_community_visible_stats': True,\n",
       "    u'img_icon_url': u'df67f9308352d87d73b69e7bc7eb92d49293487f',\n",
       "    u'img_logo_url': u'6c4baabb011842c52d8c52fed82bcc74374ce59c',\n",
       "    u'name': u'Legends of Atlantis: Exodus',\n",
       "    u'playtime_forever': 0},\n",
       "   {u'appid': 348670,\n",
       "    u'has_community_visible_stats': True,\n",
       "    u'img_icon_url': u'bb22d60b0934a8c810781f8a60cbd5bf83e15a9d',\n",
       "    u'img_logo_url': u'c14161fe3bfc376cc87ee686a6b750c9c17a8f38',\n",
       "    u'name': u'Immune',\n",
       "    u'playtime_forever': 238},\n",
       "   {u'appid': 352190,\n",
       "    u'img_icon_url': u'2d3402b92013ac67873a08fdb713235261ebef7a',\n",
       "    u'img_logo_url': u'f771f8bbea08c72f9da42e1521b82cc298744876',\n",
       "    u'name': u'Spirit Of War',\n",
       "    u'playtime_forever': 217},\n",
       "   {u'appid': 352960,\n",
       "    u'has_community_visible_stats': True,\n",
       "    u'img_icon_url': u'a566ee0c181c750666bd133095665e8fba119da6',\n",
       "    u'img_logo_url': u'50654cbcdc89afbc3eb371a8dee2d93cdac49a70',\n",
       "    u'name': u'Star Horizon',\n",
       "    u'playtime_forever': 475},\n",
       "   {u'appid': 240160,\n",
       "    u'img_icon_url': u'1642330d816183a1e1ba37a1ac29698f90e8bb88',\n",
       "    u'img_logo_url': u'26fc43d96de98211588509c8f5c5005ac9a310c9',\n",
       "    u'name': u'Duke Nukem',\n",
       "    u'playtime_forever': 0},\n",
       "   {u'appid': 240180,\n",
       "    u'img_icon_url': u'a50daeabd996d9703a76181519687517678d4407',\n",
       "    u'img_logo_url': u'e7bf4474700bdb8754e04507a42a83f6437ec6e6',\n",
       "    u'name': u'Duke Nukem 2',\n",
       "    u'playtime_forever': 0},\n",
       "   {u'appid': 240200,\n",
       "    u'img_icon_url': u'12c7c1ed6f22409f509ed2195bda63c8076a01bc',\n",
       "    u'img_logo_url': u'0d514b0ffb50926da5a9db3285d567134e978468',\n",
       "    u'name': u'Duke Nukem: Manhattan Project',\n",
       "    u'playtime_forever': 0},\n",
       "   {u'appid': 358170,\n",
       "    u'img_icon_url': u'2e0c86cfca59900e6a2d40e902a1a2c58e0819c9',\n",
       "    u'img_logo_url': u'773470b14519d87359168e18a108a787e5a4aa72',\n",
       "    u'name': u'Arctic Adventure',\n",
       "    u'playtime_forever': 0},\n",
       "   {u'appid': 358180,\n",
       "    u'img_icon_url': u'8a54c346da1a2328081c2230b6e0ddbd6c55067d',\n",
       "    u'img_logo_url': u'9e3ee1f81a5c8260139ac5c1cd3f21293953ddf4',\n",
       "    u'name': u'Bio Menace',\n",
       "    u'playtime_forever': 0},\n",
       "   {u'appid': 358190,\n",
       "    u'img_icon_url': u'45fce15e40cf48cc9a99d39198d4be2015c1cd0f',\n",
       "    u'img_logo_url': u'b95c8b05a56e81787c822abfec9fa76841bc6e2a',\n",
       "    u'name': u'Blake Stone: Aliens of Gold',\n",
       "    u'playtime_forever': 0},\n",
       "   {u'appid': 358200,\n",
       "    u'img_icon_url': u'9fa3b26a82089575c16652fe47b82580c8650086',\n",
       "    u'img_logo_url': u'c1640631c15ffb3a1ab1d87b326db8ecfb9373f4',\n",
       "    u'name': u'Math Rescue',\n",
       "    u'playtime_forever': 0},\n",
       "   {u'appid': 358210,\n",
       "    u'img_icon_url': u'1e51124f5c767df98b06dfe307caafcf400f733c',\n",
       "    u'img_logo_url': u'dad3841de003c7eb658a594032fe8e376d6be953',\n",
       "    u'name': u'Monster Bash',\n",
       "    u'playtime_forever': 0},\n",
       "   {u'appid': 358220,\n",
       "    u'img_icon_url': u'c1ab25e699e1094ad6ecd306647c09a8b1238ca4',\n",
       "    u'img_logo_url': u'7dabe8b721c2c4de4211663061fe8d42b1663132',\n",
       "    u'name': u'Mystic Towers',\n",
       "    u'playtime_forever': 0},\n",
       "   {u'appid': 358230,\n",
       "    u'img_icon_url': u'af38227450729cc66bf70f38bac12042d1cad383',\n",
       "    u'img_logo_url': u'c34bddf6be952fe08144518560eacf8b0e077239',\n",
       "    u'name': u'Paganitzu',\n",
       "    u'playtime_forever': 0},\n",
       "   {u'appid': 358240,\n",
       "    u'img_icon_url': u'650da8a901471b4a59863b8192fd246ebca180bc',\n",
       "    u'img_logo_url': u'5fe223904fae255c4c9faec097a22783aea29dc7',\n",
       "    u'name': u'Monuments of Mars',\n",
       "    u'playtime_forever': 0},\n",
       "   {u'appid': 358250,\n",
       "    u'img_icon_url': u'b583d526d606641215ce80bfd65b3206c23fca82',\n",
       "    u'img_logo_url': u'ab7750813769b39e322910d3a5e840ba3991ba2e',\n",
       "    u'name': u\"Cosmo's Cosmic Adventure\",\n",
       "    u'playtime_forever': 0},\n",
       "   {u'appid': 358260,\n",
       "    u'img_icon_url': u'8bfccae17680f5a2357a0015b81335c25fe21760',\n",
       "    u'img_logo_url': u'6bf7dc45f55486cd3cf2fae473b313614b2f76f5',\n",
       "    u'name': u'Crystal Caves',\n",
       "    u'playtime_forever': 0},\n",
       "   {u'appid': 358270,\n",
       "    u'img_icon_url': u'bee288de9618f208b5da80e2f2a837537a7d3b0f',\n",
       "    u'img_logo_url': u'71822239d2a8d3a92fbf4f52a09dd08b02fcd567',\n",
       "    u'name': u'Death Rally (Classic)',\n",
       "    u'playtime_forever': 0},\n",
       "   {u'appid': 358280,\n",
       "    u'img_icon_url': u'dd75e13543b629d7ed886d2f17a5a5a22fd979e9',\n",
       "    u'img_logo_url': u'a636fd67fc0c726f5c3e5b29ca7b0ad2fb9b245b',\n",
       "    u'name': u'Alien Carnage / Halloween Harry',\n",
       "    u'playtime_forever': 0},\n",
       "   {u'appid': 358290,\n",
       "    u'img_icon_url': u'c2ff6c900feef47c16de123d9c04783a73b8c86c',\n",
       "    u'img_logo_url': u'100991cf63683f5876569d56e667884623f2838b',\n",
       "    u'name': u'Hocus Pocus',\n",
       "    u'playtime_forever': 0},\n",
       "   {u'appid': 358300,\n",
       "    u'img_icon_url': u'7d0d6e2a063659c1e6b1d2ac80143fde943e4c78',\n",
       "    u'img_logo_url': u'b5bfc7305bea72690ce40b7dc2bbadb22c3c9c00',\n",
       "    u'name': u'Major Stryker',\n",
       "    u'playtime_forever': 0},\n",
       "   {u'appid': 358310,\n",
       "    u'img_icon_url': u'001ce204c3efbd9917ef1bccc73d07c651ea5b0c',\n",
       "    u'img_logo_url': u'd46a3788eb051b2554d736e10d2c59fbe393bd45',\n",
       "    u'name': u'Blake Stone: Planet Strike',\n",
       "    u'playtime_forever': 0},\n",
       "   {u'appid': 358320,\n",
       "    u'img_icon_url': u'088a9b9693fc8fc3316b6dd889b6de6eaefcc7d3',\n",
       "    u'img_logo_url': u'515868b748cc073b4cb6b4de6a1726dd08f0170e',\n",
       "    u'name': u'Realms of Chaos',\n",
       "    u'playtime_forever': 0},\n",
       "   {u'appid': 358330,\n",
       "    u'img_icon_url': u'67fdb0bb83105a6aeb477f4e256bdd62b3557f16',\n",
       "    u'img_logo_url': u'1cf9e181dabfd18373392a7062e0dec50db5f7ee',\n",
       "    u'name': u\"Pharaoh's Tomb\",\n",
       "    u'playtime_forever': 0},\n",
       "   {u'appid': 358340,\n",
       "    u'img_icon_url': u'8ae20fb757e5603623b38d25547b501f27ea204d',\n",
       "    u'img_logo_url': u'36d9c1f460f343305ed2ea160d6ccb3fc0f50cef',\n",
       "    u'name': u'Word Rescue',\n",
       "    u'playtime_forever': 0},\n",
       "   {u'appid': 358350,\n",
       "    u'img_icon_url': u'ce240abf1a7780dff81dc3f09eba9686e158ad9e',\n",
       "    u'img_logo_url': u'a65bbbcaf7fbfd2bf2e5970312a428fe3b586fcd',\n",
       "    u'name': u'Secret Agent',\n",
       "    u'playtime_forever': 0},\n",
       "   {u'appid': 358360,\n",
       "    u'img_icon_url': u'96b0ddd5c04dab7e9419221e51654d8430f509a7',\n",
       "    u'img_logo_url': u'f981d3af7b097f78c2d1a8f7181a992616d18325',\n",
       "    u'name': u'Raptor: Call of the Shadows (1994 Classic Edition)',\n",
       "    u'playtime_forever': 0},\n",
       "   {u'appid': 358370,\n",
       "    u'img_icon_url': u'b6031dd928901825b4c9fefd2e19675f6e52e49e',\n",
       "    u'img_logo_url': u'7d08d000f12f3d1ed0036d68a2e49389628ccdea',\n",
       "    u'name': u'Terminal Velocity',\n",
       "    u'playtime_forever': 0},\n",
       "   {u'appid': 358380,\n",
       "    u'img_icon_url': u'2a96cd2c5d127ec715d7c65f2e2b6f3e5360fc33',\n",
       "    u'img_logo_url': u'bfcfcaa23cf772372cb7acdc8cffbe0834511e0a',\n",
       "    u'name': u'Wacky Wheels',\n",
       "    u'playtime_forever': 0},\n",
       "   {u'appid': 358390,\n",
       "    u'img_icon_url': u'e1abc21461a0158185cae01bf685317cd76a52c6',\n",
       "    u'img_logo_url': u'491368e2cf4dcf725a0873122056cd7d2bddac5b',\n",
       "    u'name': u'Stargunner',\n",
       "    u'playtime_forever': 0},\n",
       "   {u'appid': 358400,\n",
       "    u'img_icon_url': u'eb9defb48725909195f639b3f17f245dd7e53a73',\n",
       "    u'img_logo_url': u'fc8d6980141a3840b07ca85e618ab1d168806639',\n",
       "    u'name': u'Shadow Warrior (Classic)',\n",
       "    u'playtime_forever': 0},\n",
       "   {u'appid': 358410,\n",
       "    u'img_icon_url': u'10753f72753a023cbbe09943496a15c47add77a6',\n",
       "    u'img_logo_url': u'5a1eec703ccf8d1218bbaa5fe2dde69774684bfb',\n",
       "    u'name': u'Rise of the Triad: Dark War',\n",
       "    u'playtime_forever': 0},\n",
       "   {u'appid': 358420,\n",
       "    u'img_icon_url': u'a84be36e920d572c09194cb27a052435bf74c0d1',\n",
       "    u'img_logo_url': u'c96bb452cb344008e4ba2703f1d61388b9e1aba9',\n",
       "    u'name': u'Xenophage',\n",
       "    u'playtime_forever': 0},\n",
       "   {u'appid': 358430,\n",
       "    u'img_icon_url': u'72a26b2f7f50df105fe03ff889f05be1a6a2806c',\n",
       "    u'img_logo_url': u'b051514ea39e2f02443b998066a896988ab94536',\n",
       "    u'name': u'Balls of Steel',\n",
       "    u'playtime_forever': 0},\n",
       "   {u'appid': 358440,\n",
       "    u'img_icon_url': u'46d2645ccacf31ff129de8b7de1d5ca09de237de',\n",
       "    u'img_logo_url': u'2337ee2089117e9a66c259f2a34a67a8792e3201',\n",
       "    u'name': u'Dark Ages',\n",
       "    u'playtime_forever': 0},\n",
       "   {u'appid': 359850,\n",
       "    u'img_icon_url': u'6e9cb4179b64a39e440694c3e3add0280c5d076c',\n",
       "    u'img_logo_url': u'ad5da422a5769f7f4d8f646ba6645bf94ba47575',\n",
       "    u'name': u'Duke Nukem 3D',\n",
       "    u'playtime_forever': 0},\n",
       "   {u'appid': 354500,\n",
       "    u'img_icon_url': u'',\n",
       "    u'img_logo_url': u'd5131745f8a7eb0e61f8ce0483f98deb75aa07ab',\n",
       "    u'name': u'PAYDAY: The Web Series',\n",
       "    u'playtime_forever': 39},\n",
       "   {u'appid': 354510,\n",
       "    u'img_icon_url': u'',\n",
       "    u'img_logo_url': u'd5131745f8a7eb0e61f8ce0483f98deb75aa07ab',\n",
       "    u'name': u'PAYDAY: The Web Series: The Vault',\n",
       "    u'playtime_forever': 6},\n",
       "   {u'appid': 354520,\n",
       "    u'img_icon_url': u'',\n",
       "    u'img_logo_url': u'd5131745f8a7eb0e61f8ce0483f98deb75aa07ab',\n",
       "    u'name': u'PAYDAY: The Web Series: Hector',\n",
       "    u'playtime_forever': 8},\n",
       "   {u'appid': 354530,\n",
       "    u'img_icon_url': u'',\n",
       "    u'img_logo_url': u'd5131745f8a7eb0e61f8ce0483f98deb75aa07ab',\n",
       "    u'name': u'PAYDAY: The Web Series: The Elephant',\n",
       "    u'playtime_forever': 10},\n",
       "   {u'appid': 354540,\n",
       "    u'img_icon_url': u'',\n",
       "    u'img_logo_url': u'd5131745f8a7eb0e61f8ce0483f98deb75aa07ab',\n",
       "    u'name': u'PAYDAY: The Web Series: Greta: The Assassin',\n",
       "    u'playtime_forever': 10},\n",
       "   {u'appid': 354550,\n",
       "    u'img_icon_url': u'',\n",
       "    u'img_logo_url': u'd5131745f8a7eb0e61f8ce0483f98deb75aa07ab',\n",
       "    u'name': u'PAYDAY: The Web Series: Vlad & Gage',\n",
       "    u'playtime_forever': 14},\n",
       "   {u'appid': 494710,\n",
       "    u'img_icon_url': u'',\n",
       "    u'img_logo_url': u'',\n",
       "    u'name': u'PAYDAY: The Web Series: First World Bank',\n",
       "    u'playtime_forever': 6},\n",
       "   {u'appid': 354960,\n",
       "    u'img_icon_url': u'b5822f850248928627548a65d53ac8ef0e30ed8f',\n",
       "    u'img_logo_url': u'6105ec3efbafc68b5ec0340db4b16c94ffddb0cd',\n",
       "    u'name': u'An Imp? A Fiend!',\n",
       "    u'playtime_forever': 307},\n",
       "   {u'appid': 354970,\n",
       "    u'img_icon_url': u'cd890ea3f8621d489f6609e6ded332017e69ac7b',\n",
       "    u'img_logo_url': u'49989b13b6353e7c751b3423d85d10d675adc9c1',\n",
       "    u'name': u'Shin Samurai Jazz',\n",
       "    u'playtime_forever': 0},\n",
       "   {u'appid': 355180,\n",
       "    u'has_community_visible_stats': True,\n",
       "    u'img_icon_url': u'5ac0b80152b51c5d5978868cef0293626cb32f44',\n",
       "    u'img_logo_url': u'd912c0c763ae03576da5f4fcfea0d335cf9ebd66',\n",
       "    u'name': u'Codename CURE',\n",
       "    u'playtime_forever': 46},\n",
       "   {u'appid': 355860,\n",
       "    u'has_community_visible_stats': True,\n",
       "    u'img_icon_url': u'ab376d9f1a283076f90f697114f9630e25b37447',\n",
       "    u'img_logo_url': u'b258d7346f3a892ee0754fd9ebbc4a730c077b69',\n",
       "    u'name': u'Albino Lullaby: Episode 1',\n",
       "    u'playtime_forever': 121},\n",
       "   {u'appid': 356200,\n",
       "    u'has_community_visible_stats': True,\n",
       "    u'img_icon_url': u'7eb2ccda713c0702fe163f735d0e9758062a8d0c',\n",
       "    u'img_logo_url': u'2a07f8fcf51a8317513f5f25dda58cd874b76373',\n",
       "    u'name': u'Keen Dreams',\n",
       "    u'playtime_forever': 261},\n",
       "   {u'appid': 356500,\n",
       "    u'img_icon_url': u'c29991e260eb9e6df6f2d1eba06d9e535b5e5e9a',\n",
       "    u'img_logo_url': u'fd337e3d9586a0aae27e7b814adc29e73a2dbfe6',\n",
       "    u'name': u'STAR WARS\\u2122 Galactic Battlegrounds Saga',\n",
       "    u'playtime_forever': 0},\n",
       "   {u'appid': 356670,\n",
       "    u'img_icon_url': u'c800b74d61e6feb58e6d2b80704e222a0c3fb40c',\n",
       "    u'img_logo_url': u'4813c4c7360bb7401c861317ea28cefd0eadbd03',\n",
       "    u'name': u\"Spooky's Jump Scare Mansion\",\n",
       "    u'playtime_forever': 48},\n",
       "   {u'appid': 236450,\n",
       "    u'has_community_visible_stats': True,\n",
       "    u'img_icon_url': u'e5769d28986cf02b7e8cd21a7f505fca28444779',\n",
       "    u'img_logo_url': u'099c05a258bbdb9c6ddf327c14fee4a13d0d86df',\n",
       "    u'name': u'PAC-MAN Championship Edition DX+',\n",
       "    u'playtime_forever': 439},\n",
       "   {u'appid': 361670,\n",
       "    u'img_icon_url': u'81cc8b5f944d7592662a265485a8be145623dce9',\n",
       "    u'img_logo_url': u'c48a0be4e54a8ed02d61742a7743bd6c41a847cb',\n",
       "    u'name': u'STAR WARS\\u2122: X-Wing Alliance\\u2122',\n",
       "    u'playtime_forever': 0},\n",
       "   {u'appid': 361690,\n",
       "    u'img_icon_url': u'5d588cbee4f90e287bf95658b9fcc84ae048650f',\n",
       "    u'img_logo_url': u'dd753d1ef2089688a6cee3b4528428ed0fd5be1a',\n",
       "    u'name': u'STAR WARS\\u2122 X-Wing vs TIE Fighter: Balance of Power Campaigns\\u2122',\n",
       "    u'playtime_forever': 0},\n",
       "   {u'appid': 362610,\n",
       "    u'has_community_visible_stats': True,\n",
       "    u'img_icon_url': u'265b4b4dd9aa09ab29d480dda58e5c50c6ba7a9f',\n",
       "    u'img_logo_url': u'78838dd7224bd8c79bff955064f9fb270ba49ad1',\n",
       "    u'name': u'High On Racing',\n",
       "    u'playtime_forever': 363},\n",
       "   {u'appid': 363970,\n",
       "    u'has_community_visible_stats': True,\n",
       "    u'img_icon_url': u'155ed2de95eacc3353b91c2a057bdbf727c11c20',\n",
       "    u'img_logo_url': u'2c4d7dad61946f8a81548a21955ccdcf9199364b',\n",
       "    u'name': u'Clicker Heroes',\n",
       "    u'playtime_forever': 5324},\n",
       "   {u'appid': 365310,\n",
       "    u'img_icon_url': u'949e3e40b01dccecc3a55a791efaa8ab6e8aa20f',\n",
       "    u'img_logo_url': u'e94991ed97f0e1de0315f0d7f51624901958965b',\n",
       "    u'name': u'Organ Biker',\n",
       "    u'playtime_forever': 217},\n",
       "   {u'appid': 365330,\n",
       "    u'img_icon_url': u'34757d182ac6a136fad3b6d890292a96dcd60a0e',\n",
       "    u'img_logo_url': u'23e5da8dfae4aedb264e0c273e0bf28aa4ec41d1',\n",
       "    u'name': u'Jump/Boxer',\n",
       "    u'playtime_forever': 0},\n",
       "   {u'appid': 365340,\n",
       "    u'has_community_visible_stats': True,\n",
       "    u'img_icon_url': u'cdf54aef3ddbdd4fe847ee6a3a2b521128911a9c',\n",
       "    u'img_logo_url': u'fe22e99b5bd52719d0c4527319d447fb8e9c1994',\n",
       "    u'name': u'The Way of the Pixelated Fist',\n",
       "    u'playtime_forever': 0},\n",
       "   {u'appid': 365420,\n",
       "    u'has_community_visible_stats': True,\n",
       "    u'img_icon_url': u'f4096e98f0e5775cf92b57fc06473cadc6f34e33',\n",
       "    u'img_logo_url': u'47f459fca4675099aee7436f9c5dda2e40836540',\n",
       "    u'name': u'Apollo4x',\n",
       "    u'playtime_forever': 222},\n",
       "   {u'appid': 365810,\n",
       "    u'has_community_visible_stats': True,\n",
       "    u'img_icon_url': u'bb824e93bf995fb890ae589013e76f495f4ef70f',\n",
       "    u'img_logo_url': u'8522fcd00427698c6d83b41b74ffc7d1081d476c',\n",
       "    u'name': u'FLYING TIGERS: SHADOWS OVER CHINA',\n",
       "    u'playtime_forever': 251},\n",
       "   {u'appid': 364690,\n",
       "    u'has_community_visible_stats': True,\n",
       "    u'img_icon_url': u'4cbdcf09fd6440fc8f76991aaa8f5edec990f07a',\n",
       "    u'img_logo_url': u'4dc3f5b6d849dd0c5476abf2d90cf84f104ee2a9',\n",
       "    u'name': u'SUPER DISTRO',\n",
       "    u'playtime_forever': 280},\n",
       "   {u'appid': 365670,\n",
       "    u'img_icon_url': u'48733cd333eea6e40711a1b9c6dde32ffe363ced',\n",
       "    u'img_logo_url': u'f0a58df47046b2e7751d989f43b7934816a585a9',\n",
       "    u'name': u'Blender 2.78',\n",
       "    u'playtime_2weeks': 1,\n",
       "    u'playtime_forever': 1},\n",
       "   {u'appid': 368340,\n",
       "    u'img_icon_url': u'b7dd0b1a62b60be9f7e3c2639b1c0afcbc62f8c6',\n",
       "    u'img_logo_url': u'0f004f4104be1fe06d1c474c6f177fda01288e23',\n",
       "    u'name': u'CrossCode',\n",
       "    u'playtime_forever': 0},\n",
       "   {u'appid': 368690,\n",
       "    u'has_community_visible_stats': True,\n",
       "    u'img_icon_url': u'2cd094d21c7199752e79d22c9b9d1c487c1ee443',\n",
       "    u'img_logo_url': u'2d0ebd9b47311b8264a5071297db6754c29bdcf4',\n",
       "    u'name': u'Chronoclysm',\n",
       "    u'playtime_forever': 0},\n",
       "   {u'appid': 343100,\n",
       "    u'has_community_visible_stats': True,\n",
       "    u'img_icon_url': u'1efa13155729eb25992e3c4c698d94a0678cd4ee',\n",
       "    u'img_logo_url': u'2fde4555395984d2dbab2b32e6abea2755dee7f4',\n",
       "    u'name': u'Overture',\n",
       "    u'playtime_forever': 121},\n",
       "   {u'appid': 370190,\n",
       "    u'img_icon_url': u'1845ddcb6612d1baea7e1cb395038ea54c9d2977',\n",
       "    u'img_logo_url': u'35ccc68e50d75582a91310b754a715e0fd65052d',\n",
       "    u'name': u'Ruzh Delta Z',\n",
       "    u'playtime_forever': 0},\n",
       "   {u'appid': 370310,\n",
       "    u'img_icon_url': u'ebf02a2a59e10a3f9a53c90d3504ea0bcc063956',\n",
       "    u'img_logo_url': u'b24ab422487c689b187aeffc8e3971cf11e6d22c',\n",
       "    u'name': u'Tompi Jones',\n",
       "    u'playtime_forever': 0},\n",
       "   {u'appid': 370550,\n",
       "    u'has_community_visible_stats': True,\n",
       "    u'img_icon_url': u'bbb8f9f36f7dd158681d0a4757b52a61c9bbc0e2',\n",
       "    u'img_logo_url': u'be558634a61e7d2c93b5c2fd4712be1224c6dbba',\n",
       "    u'name': u'Sparkle 2',\n",
       "    u'playtime_forever': 392},\n",
       "   {u'appid': 370920,\n",
       "    u'has_community_visible_stats': True,\n",
       "    u'img_icon_url': u'40bde628071000658a5a5869abe9463d08909087',\n",
       "    u'img_logo_url': u'973bef55181cf288d30c390a2e7b363c91b3d6c3',\n",
       "    u'name': u'Cosmophony',\n",
       "    u'playtime_forever': 121},\n",
       "   {u'appid': 371180,\n",
       "    u'has_community_visible_stats': True,\n",
       "    u'img_icon_url': u'8b6c56f973c1750951dffa36ded3bdce72df145e',\n",
       "    u'img_logo_url': u'c61f55b04b8f6281910a479f1437c3250a4fa307',\n",
       "    u'name': u\"Super 3-D Noah's Ark\",\n",
       "    u'playtime_forever': 540},\n",
       "   {u'appid': 371390,\n",
       "    u'img_icon_url': u'60f4a578ad28b8f0147a244171f50607d58f5143',\n",
       "    u'img_logo_url': u'7ebdd3d20c39cb69f8fdd486d00666cbc8dd728b',\n",
       "    u'name': u'Flix The Flea',\n",
       "    u'playtime_forever': 324},\n",
       "   {u'appid': 371550,\n",
       "    u'has_community_visible_stats': True,\n",
       "    u'img_icon_url': u'a397d6d4d26445c4fda69c18582aa75a5469930b',\n",
       "    u'img_logo_url': u'c08e1a5aa036475792a87e9cb119115e90a93043',\n",
       "    u'name': u\"A Bastard's Tale\",\n",
       "    u'playtime_forever': 457},\n",
       "   {u'appid': 373360,\n",
       "    u'has_community_visible_stats': True,\n",
       "    u'img_icon_url': u'a53bacf241d38c9fd0011bf52c9a61dcb3b50053',\n",
       "    u'img_logo_url': u'6aba11ecf271fc96d694c203e6a282554577f2e6',\n",
       "    u'name': u'Cast of the Seven Godsends - Redux',\n",
       "    u'playtime_forever': 464},\n",
       "   {u'appid': 375710,\n",
       "    u'has_community_visible_stats': True,\n",
       "    u'img_icon_url': u'21c64ba89fe2d5294dea891fb73bf47534cd7db6',\n",
       "    u'img_logo_url': u'5a2b158bea1d07ba883a9eeafec81c4022846e6c',\n",
       "    u'name': u'The Adventures of Mr. Bobley',\n",
       "    u'playtime_forever': 214},\n",
       "   {u'appid': 378100,\n",
       "    u'has_community_visible_stats': True,\n",
       "    u'img_icon_url': u'a8f5cc73e054bcd7ec9444cca210f30cf4e05eb5',\n",
       "    u'img_logo_url': u'c5623677a844f95c7ff114e2d1730dff0f52e19a',\n",
       "    u'name': u'Nyctophobia',\n",
       "    u'playtime_forever': 222},\n",
       "   {u'appid': 378590,\n",
       "    u'img_icon_url': u'5879ceb88e3f3bb7d950ff67f07c4bc068975e45',\n",
       "    u'img_logo_url': u'9c2764ffb04b19f4a50c63729e821cc233907a4d',\n",
       "    u'name': u'Forest Warrior',\n",
       "    u'playtime_forever': 0},\n",
       "   {u'appid': 378850,\n",
       "    u'has_community_visible_stats': True,\n",
       "    u'img_icon_url': u'4544ed01bf064a1c1e00e08cc8b466277e8b1c31',\n",
       "    u'img_logo_url': u'25dc223bb4aef7698842eb1a1a4e27c616b15dcc',\n",
       "    u'name': u\"Galagan's Island: Reprymian Rising\",\n",
       "    u'playtime_forever': 0},\n",
       "   {u'appid': 379290,\n",
       "    u'has_community_visible_stats': True,\n",
       "    u'img_icon_url': u'2ac0ef3742825b3cbba686a97b995fea588f1f7a',\n",
       "    u'img_logo_url': u'4ed6e5a67d203b77624989e4c456e32d6f787111',\n",
       "    u'name': u'Sumo Revise',\n",
       "    u'playtime_forever': 245},\n",
       "   {u'appid': 382120,\n",
       "    u'img_icon_url': u'a014d6cdf709991a0aee4d36028fffa64a2d5870',\n",
       "    u'img_logo_url': u'38b90257365392d9a2cd5ac3bb3d9afb07ea9946',\n",
       "    u'name': u'Journey To The Center Of The Earth',\n",
       "    u'playtime_forever': 121},\n",
       "   {u'appid': 382300,\n",
       "    u'has_community_visible_stats': True,\n",
       "    u'img_icon_url': u'36a889b47f2315f6710c10bed95ae5b655a013b7',\n",
       "    u'img_logo_url': u'1e82a2534b2bab0296a9e76a1165709bd3a6d85b',\n",
       "    u'name': u'Kidnapped',\n",
       "    u'playtime_forever': 214},\n",
       "   {u'appid': 382490,\n",
       "    u'has_community_visible_stats': True,\n",
       "    u'img_icon_url': u'd0798c991d93f1743a37f78aae46ac26ddbb552b',\n",
       "    u'img_logo_url': u'afefea98ff30bd3c5e1705f4f350de9a063b84d2',\n",
       "    u'name': u'Relic Hunters Zero',\n",
       "    u'playtime_forever': 535},\n",
       "   {u'appid': 383080,\n",
       "    u'img_icon_url': u'e949d522ccc4f2dba013dc4405609570f49b39d1',\n",
       "    u'img_logo_url': u'f48f298b9aa6d935a790ee5cd0755ed8b257675e',\n",
       "    u'name': u'Sakura Clicker',\n",
       "    u'playtime_forever': 7230},\n",
       "   {u'appid': 383560,\n",
       "    u'img_icon_url': u'c6075913d584035494f1a955b89c076822c60e92',\n",
       "    u'img_logo_url': u'634f0017e31a0af96893a3148a68601161688cb5',\n",
       "    u'name': u'Squarelands',\n",
       "    u'playtime_forever': 105},\n",
       "   {u'appid': 384150,\n",
       "    u'img_icon_url': u'4699dd0b0f8a3957a9d0b928d5a1fcd317f82255',\n",
       "    u'img_logo_url': u'3cf7309ee4643345cc0d5cdd89278a2461e7f228',\n",
       "    u'name': u'TeraBlaster',\n",
       "    u'playtime_forever': 105},\n",
       "   {u'appid': 384400,\n",
       "    u'has_community_visible_stats': True,\n",
       "    u'img_icon_url': u'1cc7170c9eb008ef3a86e5e305ffad46ded7e569',\n",
       "    u'img_logo_url': u'ca3b42618a7472873aef1f0e4867fa45de0d9b09',\n",
       "    u'name': u'Hordelicious',\n",
       "    u'playtime_forever': 0},\n",
       "   {u'appid': 384930,\n",
       "    u'img_icon_url': u'933b76326c9099c8d524d0854ef286221ea4b07a',\n",
       "    u'img_logo_url': u'76ba999198444295d46977adf48a8c234330b313',\n",
       "    u'name': u'Pilot Crusader',\n",
       "    u'playtime_forever': 0},\n",
       "   {u'appid': 385150,\n",
       "    u'img_icon_url': u'0c69e3f01b974d5fff7786eb7a923c85ad736be4',\n",
       "    u'img_logo_url': u'aaac0e43de6a9cd71bda38986dab5d0e5ad2fa7c',\n",
       "    u'name': u'Stranded In Time',\n",
       "    u'playtime_forever': 214},\n",
       "   {u'appid': 385200,\n",
       "    u'has_community_visible_stats': True,\n",
       "    u'img_icon_url': u'48d40fe6e866d9ea1837648c938db657c8eadbf8',\n",
       "    u'img_logo_url': u'9c916b80634f5697165dba2ae8b3e287c5ba8bb1',\n",
       "    u'name': u'Absconding Zatwor',\n",
       "    u'playtime_forever': 231},\n",
       "   {u'appid': 395980,\n",
       "    u'has_community_visible_stats': True,\n",
       "    u'img_icon_url': u'2cf0835f947a698b420a67c645e9a55df09391df',\n",
       "    u'img_logo_url': u'ec88b617180b5a54475951203696c5b5e400864a',\n",
       "    u'name': u'Break Into Zatwor',\n",
       "    u'playtime_forever': 285},\n",
       "   {u'appid': 410590,\n",
       "    u'has_community_visible_stats': True,\n",
       "    u'img_icon_url': u'6b0ab08270b68679b119de7ebff6bd4ffbb1912c',\n",
       "    u'img_logo_url': u'8f9faf931a44ebc3abc4f4dc2c48c1a2a7fe056c',\n",
       "    u'name': u'Fiends of Imprisonment',\n",
       "    u'playtime_forever': 0},\n",
       "   {u'appid': 385230,\n",
       "    u'img_icon_url': u'c1a9e558d51e080f475203d4882559416242be34',\n",
       "    u'img_logo_url': u'4db3970804ecf1ad0b7337a3ec07f849575b20d7',\n",
       "    u'name': u'Ninjahtic',\n",
       "    u'playtime_forever': 282},\n",
       "   {u'appid': 385270,\n",
       "    u'has_community_visible_stats': True,\n",
       "    u'img_icon_url': u'e06aeeb98ce357f53beff56c510392156ea4c0a8',\n",
       "    u'img_logo_url': u'9a4d511a90b9e98ca6c4b9e263b444341dc34424',\n",
       "    u'name': u'Jet Racing Extreme',\n",
       "    u'playtime_forever': 121},\n",
       "   {u'appid': 385770,\n",
       "    u'has_community_visible_stats': True,\n",
       "    u'img_icon_url': u'7eaca926a86cd223e1e3e18b26ae4d03bbe9f755',\n",
       "    u'img_logo_url': u'd2cb79d48c12eb90a5ad3b9c6b4af8f4a8dcc947',\n",
       "    u'name': u'Time Clickers',\n",
       "    u'playtime_forever': 1},\n",
       "   {u'appid': 385830,\n",
       "    u'has_community_visible_stats': True,\n",
       "    u'img_icon_url': u'e934d9218725d842a3d449bb2e89e2cbe3599f77',\n",
       "    u'img_logo_url': u'e8766bf19baf794cbc9b6e4f77113e7b2dc35128',\n",
       "    u'name': u'Burgers',\n",
       "    u'playtime_forever': 293},\n",
       "   {u'appid': 386320,\n",
       "    u'img_icon_url': u'38304bb42b1081ed269e49ef0b7739884620d53c',\n",
       "    u'img_logo_url': u'1825cf3550b81148a59aaf9046b22abf896f1e21',\n",
       "    u'name': u'Naninights',\n",
       "    u'playtime_forever': 0},\n",
       "   {u'appid': 386330,\n",
       "    u'has_community_visible_stats': True,\n",
       "    u'img_icon_url': u'5a64d2a3e8f9101be35d0544e8315d5cfea9e65e',\n",
       "    u'img_logo_url': u'b172110238d674aebac1bbae5213a27225f25523',\n",
       "    u'name': u'HoD: On open seas',\n",
       "    u'playtime_forever': 0},\n",
       "   {u'appid': 387840,\n",
       "    u'has_community_visible_stats': True,\n",
       "    u'img_icon_url': u'ffd0778c70564dcf79cb7875c42fa378ff36b14a',\n",
       "    u'img_logo_url': u'dc07870a225e755ceb28af9741b8a54555e7ad6a',\n",
       "    u'name': u'Alpha Runner',\n",
       "    u'playtime_forever': 231},\n",
       "   {u'appid': 387880,\n",
       "    u'img_icon_url': u'0f779dc77d8c501eaad848489e259a5e1428b055',\n",
       "    u'img_logo_url': u'c5b0f9f398b3dc5a7123414e62f9a9182b105929',\n",
       "    u'name': u'Ninjahtic Mind Tricks',\n",
       "    u'playtime_forever': 277},\n",
       "   {u'appid': 295790,\n",
       "    u'has_community_visible_stats': True,\n",
       "    u'img_icon_url': u'bc3e0ca91dc7118dc0b7e4b084aa8d320f10df09',\n",
       "    u'img_logo_url': u'd7e4cec47a01b6e913e495450be669c4997d0a17',\n",
       "    u'name': u'Never Alone (Kisima Ingitchuna)',\n",
       "    u'playtime_forever': 282},\n",
       "   {u'appid': 388870,\n",
       "    u'img_icon_url': u'87455ea99ef6591836e5c955c1cddc3534e61158',\n",
       "    u'img_logo_url': u'8965265441ba0cf464733a58669dafcfcaa85727',\n",
       "    u'name': u'Devils Share',\n",
       "    u'playtime_forever': 324},\n",
       "   {u'appid': 389270,\n",
       "    u'img_icon_url': u'ce13e029929c328d6b114e10175c6ad95a071093',\n",
       "    u'img_logo_url': u'926e53c40c405e552ffa25f9bf6722e7d8d3c7d1',\n",
       "    u'name': u'Abandoned',\n",
       "    u'playtime_forever': 0},\n",
       "   {u'appid': 389810,\n",
       "    u'has_community_visible_stats': True,\n",
       "    u'img_icon_url': u'cecdc32203ada06c979be4eed9cdbeedc51343b6',\n",
       "    u'img_logo_url': u'40fba83df1474154f630c4b93b9234249815db5d',\n",
       "    u'name': u'Rubber and Lead',\n",
       "    u'playtime_forever': 292},\n",
       "   {u'appid': 391340,\n",
       "    u'has_community_visible_stats': True,\n",
       "    u'img_icon_url': u'bc765e66fb6aa72dca728a8307db7bbc10df0daf',\n",
       "    u'img_logo_url': u'34f7a8c7a0e51c4048a4696095d4f88561b4404d',\n",
       "    u'name': u\"Ferrum's Secrets: where is grandpa?\",\n",
       "    u'playtime_forever': 281},\n",
       "   {u'appid': 391660,\n",
       "    u'has_community_visible_stats': True,\n",
       "    u'img_icon_url': u'7920da737f4d4b8e9c81892f06b6a3fae9a6570b',\n",
       "    u'img_logo_url': u'8227051974efdd7b54fe42aa571623a72eb866b6',\n",
       "    u'name': u'Incitement 3',\n",
       "    u'playtime_forever': 479},\n",
       "   {u'appid': 391740,\n",
       "    u'img_icon_url': u'43659b3853a7579f3720dfd974ed58c2649affe6',\n",
       "    u'img_logo_url': u'3c2aa98e7fec914bfa4df7421d3eaaa9bade53b3',\n",
       "    u'name': u'Blaster Shooter GunGuy!',\n",
       "    u'playtime_forever': 191},\n",
       "   {u'appid': 394680,\n",
       "    u'img_icon_url': u'5989df49ce3da3e503984ddb591cd59d33df0818',\n",
       "    u'img_logo_url': u'fb1e4e8c750b75b43626c6c96979269effdff10b',\n",
       "    u'name': u'Mountain Crime: Requital',\n",
       "    u'playtime_forever': 225},\n",
       "   {u'appid': 395170,\n",
       "    u'has_community_visible_stats': True,\n",
       "    u'img_icon_url': u'cddaf515a21796a81aae31b45506020b74825c75',\n",
       "    u'img_logo_url': u'772b791833bfaa7585d60a6e89e7fff057204edd',\n",
       "    u'name': u'DISTRAINT',\n",
       "    u'playtime_forever': 121},\n",
       "   {u'appid': 397620,\n",
       "    u'has_community_visible_stats': True,\n",
       "    u'img_icon_url': u'703af571643102b9aab7eadd5e1390c153b42562',\n",
       "    u'img_logo_url': u'dacc5e19c87c7ce53a356903da7784843ab46a19',\n",
       "    u'name': u'GooCubelets',\n",
       "    u'playtime_forever': 219},\n",
       "   {u'appid': 397670,\n",
       "    u'img_icon_url': u'fa63cd91eb1906dbd33c5757d0e331e5bc87d91d',\n",
       "    u'img_logo_url': u'703e506180cd9e24c79f6737a83471df4a04421d',\n",
       "    u'name': u'Run Run And Die',\n",
       "    u'playtime_forever': 0},\n",
       "   {u'appid': 397730,\n",
       "    u'has_community_visible_stats': True,\n",
       "    u'img_icon_url': u'4e6db677aa4b1045c266750aae37b2a738463035',\n",
       "    u'img_logo_url': u'317e56693703a3f2de4c0698b96e8b275ca1c4ba',\n",
       "    u'name': u'Rescue Love Revenge',\n",
       "    u'playtime_forever': 0},\n",
       "   {u'appid': 398210,\n",
       "    u'img_icon_url': u'f55d46c823558c0ed5ac523cec6de476539924d1',\n",
       "    u'img_logo_url': u'eb12c4d527eb8a5a43cc0d63553432a44456c890',\n",
       "    u'name': u'BlackShadows',\n",
       "    u'playtime_forever': 0},\n",
       "   {u'appid': 398680,\n",
       "    u'has_community_visible_stats': True,\n",
       "    u'img_icon_url': u'72af82eba158795b7b3785ab62d1f299094f6053',\n",
       "    u'img_logo_url': u'eee7e8d7c3eb79f1518a28f8ed1ae1dfec79c05d',\n",
       "    u'name': u'Ace of Words',\n",
       "    u'playtime_forever': 363},\n",
       "   {u'appid': 399750,\n",
       "    u'img_icon_url': u'',\n",
       "    u'img_logo_url': u'',\n",
       "    u'name': u'Mad Max System Test',\n",
       "    u'playtime_forever': 1},\n",
       "   {u'appid': 400240,\n",
       "    u'img_icon_url': u'c4356a4f0f258f77b1dca3f5c78fe0e534276e37',\n",
       "    u'img_logo_url': u'fc4c87607ed4614b017802019f2ef515477cb5fd',\n",
       "    u'name': u'The Deer',\n",
       "    u'playtime_forever': 225},\n",
       "   {u'appid': 400250,\n",
       "    u'has_community_visible_stats': True,\n",
       "    u'img_icon_url': u'870ea15929c9a6c56a9f8af94c402ae1478c0de0',\n",
       "    u'img_logo_url': u'75fed4b955d7dd2fb8be41917c3faf9cfb00a7b4',\n",
       "    u'name': u'Heaven Island - VR MMO',\n",
       "    u'playtime_forever': 345},\n",
       "   {u'appid': 402980,\n",
       "    u'img_icon_url': u'a15b5cd88ce84b0aba76565f8565f95fe93fbf19',\n",
       "    u'img_logo_url': u'569d0685a79b2786fdbfc8736817cf067aa614fa',\n",
       "    u'name': u'Osteya',\n",
       "    u'playtime_forever': 0},\n",
       "   {u'appid': 379640,\n",
       "    u'has_community_visible_stats': True,\n",
       "    u'img_icon_url': u'd7bec40474403fde3cb16d1a2f0cfa7824e2c240',\n",
       "    u'img_logo_url': u'3ab7c5daaa14791a9f323720174d5ca3dff36b7a',\n",
       "    u'name': u'Bloo Kid 2',\n",
       "    u'playtime_forever': 0},\n",
       "   {u'appid': 403740,\n",
       "    u'has_community_visible_stats': True,\n",
       "    u'img_icon_url': u'c1b19bed0f7418c5d9e0a0d06faa5fddfbd10f9c',\n",
       "    u'img_logo_url': u'313e1fc07abf7ea7614090720514e2bc5307cb5d',\n",
       "    u'name': u'GabeN: The Final Decision',\n",
       "    u'playtime_forever': 228},\n",
       "   {u'appid': 27200,\n",
       "    u'img_icon_url': u'26f8a1b5abd6568ba98a1d0cd55ebf03105aacbd',\n",
       "    u'img_logo_url': u'0f487f8e7c473da5cb0860978bd9e715f7fb4239',\n",
       "    u'name': u'Summer Athletics',\n",
       "    u'playtime_forever': 0},\n",
       "   {u'appid': 406930,\n",
       "    u'has_community_visible_stats': True,\n",
       "    u'img_icon_url': u'1ae7f8f4e62022db4d074c927cc1830ca1740dda',\n",
       "    u'img_logo_url': u'a0cf16818d6ae6ae46480c4356f8784710151c9c',\n",
       "    u'name': u'Epic Showdown',\n",
       "    u'playtime_forever': 0},\n",
       "   {u'appid': 411180,\n",
       "    u'has_community_visible_stats': True,\n",
       "    u'img_icon_url': u'0ea745ae1e1fbb4034f31a5a2484c5990af7a2f5',\n",
       "    u'img_logo_url': u'0a4fc5868acb857a6875ea50c415fae1e8d0a53f',\n",
       "    u'name': u'Dota 2 Player Profiles',\n",
       "    u'playtime_forever': 0},\n",
       "   {u'appid': 411181,\n",
       "    u'img_icon_url': u'',\n",
       "    u'img_logo_url': u'b76ddc936e40ad959995527b889ab5cffdb9616a',\n",
       "    u'name': u'Dota 2 Player Profiles: EG - Suma1L',\n",
       "    u'playtime_forever': 0},\n",
       "   {u'appid': 411182,\n",
       "    u'img_icon_url': u'',\n",
       "    u'img_logo_url': u'bdda80472ebe639735ecd4d6bc2d56b5989861e0',\n",
       "    u'name': u\"Dota 2 Player Profiles: Na'Vi - XBOCT\",\n",
       "    u'playtime_forever': 0},\n",
       "   {u'appid': 411183,\n",
       "    u'img_icon_url': u'',\n",
       "    u'img_logo_url': u'19c396d27eec609db41b999c6c6ae69f32dd3a43',\n",
       "    u'name': u'Dota 2 Player Profiles: Invictus Gaming - Ferrari',\n",
       "    u'playtime_forever': 0},\n",
       "   {u'appid': 411184,\n",
       "    u'img_icon_url': u'',\n",
       "    u'img_logo_url': u'eedbabd3adaab546e11ba85851b51ce623c10944',\n",
       "    u'name': u'Dota 2 Player Profiles: MVPHot6 - HEEN',\n",
       "    u'playtime_forever': 0},\n",
       "   {u'appid': 411185,\n",
       "    u'img_icon_url': u'',\n",
       "    u'img_logo_url': u'7cbef1256223fd336ae9bca9c12c8a20198fa7d6',\n",
       "    u'name': u'Dota 2 Player Profiles: EHome - ROTKE',\n",
       "    u'playtime_forever': 0},\n",
       "   {u'appid': 411186,\n",
       "    u'img_icon_url': u'',\n",
       "    u'img_logo_url': u'c0b7b50d9be539bb12581424704a1312deb4ad2f',\n",
       "    u'name': u'Dota 2 Player Profiles: Cloud9 - NoTail',\n",
       "    u'playtime_forever': 0},\n",
       "   {u'appid': 411187,\n",
       "    u'img_icon_url': u'',\n",
       "    u'img_logo_url': u'3ad6aa5dd0733ed1262190d682368fa68643c98c',\n",
       "    u'name': u'Dota 2 Player Profiles: Complexity - zfreek',\n",
       "    u'playtime_forever': 0},\n",
       "   {u'appid': 411188,\n",
       "    u'img_icon_url': u'',\n",
       "    u'img_logo_url': u'f6fdffada367b4b64ba2c5e803a28c6b2a68916a',\n",
       "    u'name': u'Dota 2 Player Profiles: Empire - Alohadance',\n",
       "    u'playtime_forever': 0},\n",
       "   {u'appid': 411189,\n",
       "    u'img_icon_url': u'',\n",
       "    u'img_logo_url': u'5c6f66557cb63f9daa1acf52af8e11fb4a9d7f36',\n",
       "    u'name': u'Dota 2 Player Profiles: Fnatic - Kecik-Imba',\n",
       "    u'playtime_forever': 0},\n",
       "   {u'appid': 411190,\n",
       "    u'img_icon_url': u'',\n",
       "    u'img_logo_url': u'b286f0776d052a3418b44b16bb226d51253ab6b7',\n",
       "    u'name': u'Dota 2 Player Profiles: LGD - Xiao8',\n",
       "    u'playtime_forever': 0},\n",
       "   {u'appid': 411191,\n",
       "    u'img_icon_url': u'',\n",
       "    u'img_logo_url': u'feffbaefc420a8b6cfbdcf6e5726900cf886c5af',\n",
       "    u'name': u'Dota 2 Player Profiles: Newbee - Mu',\n",
       "    u'playtime_forever': 0},\n",
       "   {u'appid': 411192,\n",
       "    u'img_icon_url': u'',\n",
       "    u'img_logo_url': u'3fddab6adf16a1906b13fb249a12389d8ee0dcc4',\n",
       "    u'name': u'Dota 2 Player Profiles: TeamSecret - S4',\n",
       "    u'playtime_forever': 0},\n",
       "   {u'appid': 411193,\n",
       "    u'img_icon_url': u'',\n",
       "    u'img_logo_url': u'04c63ca7dec9ed68ef7d9eec432c1a4671d77c1d',\n",
       "    u'name': u'Dota 2 Player Profiles: Vici - fy',\n",
       "    u'playtime_forever': 0},\n",
       "   {u'appid': 411194,\n",
       "    u'img_icon_url': u'',\n",
       "    u'img_logo_url': u'b3a39c8a3cd65d22b2909abd49a359b68a488b6f',\n",
       "    u'name': u'Dota 2 Player Profiles: Virtus.Pro - FNG',\n",
       "    u'playtime_forever': 0},\n",
       "   {u'appid': 419910,\n",
       "    u'img_icon_url': u'',\n",
       "    u'img_logo_url': u'028b856e4efb59c26e792cd73ebc195769ab4151',\n",
       "    u'name': u\"Dota 2 Player Profiles: CDEC's Journey to The Majors\",\n",
       "    u'playtime_forever': 0},\n",
       "   {u'appid': 420090,\n",
       "    u'img_icon_url': u'',\n",
       "    u'img_logo_url': u'21b9ca8fcf21757040ae05fe99d463099e38f3a0',\n",
       "    u'name': u'Dota 2 Player Profiles: EG Champions of TI5',\n",
       "    u'playtime_forever': 0},\n",
       "   {u'appid': 523480,\n",
       "    u'img_icon_url': u'',\n",
       "    u'img_logo_url': u'',\n",
       "    u'name': u'Dota 2 Player Profiles: Vici Gaming Reborn - END',\n",
       "    u'playtime_forever': 0},\n",
       "   {u'appid': 523481,\n",
       "    u'img_icon_url': u'',\n",
       "    u'img_logo_url': u'',\n",
       "    u'name': u'Dota 2 Player Profiles: OG - Fly',\n",
       "    u'playtime_forever': 0},\n",
       "   {u'appid': 523482,\n",
       "    u'img_icon_url': u'',\n",
       "    u'img_logo_url': u'',\n",
       "    u'name': u'Dota 2 Player Profiles: EHOME - iceiceice',\n",
       "    u'playtime_forever': 0},\n",
       "   {u'appid': 523483,\n",
       "    u'img_icon_url': u'',\n",
       "    u'img_logo_url': u'',\n",
       "    u'name': u'Dota 2 Player Profiles: Team Liquid - MATUMBAMAN',\n",
       "    u'playtime_forever': 0},\n",
       "   {u'appid': 523484,\n",
       "    u'img_icon_url': u'',\n",
       "    u'img_logo_url': u'',\n",
       "    u'name': u'Dota 2 Player Profiles: LGD - Maybe',\n",
       "    u'playtime_forever': 0},\n",
       "   {u'appid': 523485,\n",
       "    u'img_icon_url': u'',\n",
       "    u'img_logo_url': u'',\n",
       "    u'name': u'Dota 2 Player Profiles: MVP Phoenix - QO',\n",
       "    u'playtime_forever': 0},\n",
       "   {u'appid': 523486,\n",
       "    u'img_icon_url': u'',\n",
       "    u'img_logo_url': u'',\n",
       "    u'name': u'Dota 2 Player Profiles: Not Playing Dota with Complexity',\n",
       "    u'playtime_forever': 0},\n",
       "   {u'appid': 523487,\n",
       "    u'img_icon_url': u'',\n",
       "    u'img_logo_url': u'',\n",
       "    u'name': u'Dota 2 Player Profiles: Not Playing Dota with Dendi',\n",
       "    u'playtime_forever': 0},\n",
       "   {u'appid': 523488,\n",
       "    u'img_icon_url': u'',\n",
       "    u'img_logo_url': u'',\n",
       "    u'name': u'Dota 2 Player Profiles: Not Playing Dota With END - VGR',\n",
       "    u'playtime_forever': 0},\n",
       "   {u'appid': 523489,\n",
       "    u'img_icon_url': u'',\n",
       "    u'img_logo_url': u'',\n",
       "    u'name': u'Dota 2 Player Profiles: Not Playing Dota With MATUMBAMAN',\n",
       "    u'playtime_forever': 0},\n",
       "   {u'appid': 523490,\n",
       "    u'img_icon_url': u'',\n",
       "    u'img_logo_url': u'',\n",
       "    u'name': u'Dota 2 Player Profiles: Not Playing Dota With QO',\n",
       "    u'playtime_forever': 0},\n",
       "   {u'appid': 413850,\n",
       "    u'has_community_visible_stats': True,\n",
       "    u'img_icon_url': u'27e44e4eece34e95d0c2ec82973f1a1ea9550ac4',\n",
       "    u'img_logo_url': u'6af35d6b21db3ad1b687890349349e0701e8e1eb',\n",
       "    u'name': u'CS:GO Player Profiles',\n",
       "    u'playtime_forever': 1},\n",
       "   {u'appid': 413851,\n",
       "    u'img_icon_url': u'',\n",
       "    u'img_logo_url': u'915ded2161b00ed0af11a605881787118367c6ef',\n",
       "    u'name': u'CS:GO Player Profiles: n0thing - Cloud9',\n",
       "    u'playtime_forever': 0},\n",
       "   {u'appid': 413852,\n",
       "    u'img_icon_url': u'',\n",
       "    u'img_logo_url': u'cfdbdc3c56216eeaa52281bb1d616ab3d9974d98',\n",
       "    u'name': u'CS:GO Player Profiles:  TaZ - Virtus.Pro',\n",
       "    u'playtime_forever': 4},\n",
       "   {u'appid': 413853,\n",
       "    u'img_icon_url': u'',\n",
       "    u'img_logo_url': u'9154e416a9ff97fe71d58c35909073e0f7c2ba96',\n",
       "    u'name': u'CS:GO Player Profiles: GeT_RiGhT - Ninjas in Pyjamas',\n",
       "    u'playtime_forever': 0},\n",
       "   {u'appid': 413854,\n",
       "    u'img_icon_url': u'',\n",
       "    u'img_logo_url': u'63e0fb3c672be5c1696d4c2ef7c356f42346665a',\n",
       "    u'name': u'CS:GO Player Profiles: olofmeister - fnatic',\n",
       "    u'playtime_forever': 0},\n",
       "   {u'appid': 413855,\n",
       "    u'img_icon_url': u'',\n",
       "    u'img_logo_url': u'699cb3e40e40c05f22579b0b8406d830c3c1e3c3',\n",
       "    u'name': u'CS:GO Player Profiles: kennyS - Team Envyus',\n",
       "    u'playtime_forever': 0},\n",
       "   {u'appid': 413856,\n",
       "    u'img_icon_url': u'',\n",
       "    u'img_logo_url': u'ccac5a747095e9a3257819e2d52dace25ba66600',\n",
       "    u'name': u\"CS:GO Player Profiles: Edward - Na'Vi\",\n",
       "    u'playtime_forever': 0},\n",
       "   {u'appid': 413857,\n",
       "    u'img_icon_url': u'',\n",
       "    u'img_logo_url': u'735df95374e3591198e3b5ea5d69082c3a41f3d6',\n",
       "    u'name': u'CS:GO Player Profiles: markeloff - Flipsid3',\n",
       "    u'playtime_forever': 0},\n",
       "   {u'appid': 413858,\n",
       "    u'img_icon_url': u'',\n",
       "    u'img_logo_url': u'33dbc11a0b0786ef6a7860c8c8f42f412f920183',\n",
       "    u'name': u'CS:GO Player Profiles: device - Team SoloMid',\n",
       "    u'playtime_forever': 0},\n",
       "   {u'appid': 413859,\n",
       "    u'img_icon_url': u'',\n",
       "    u'img_logo_url': u'e1356b0580f16f879e6e1368ce990fd1a0939220',\n",
       "    u'name': u'CS:GO Player Profiles: FalleN - Luminosity',\n",
       "    u'playtime_forever': 0},\n",
       "   {u'appid': 458250,\n",
       "    u'img_icon_url': u'',\n",
       "    u'img_logo_url': u'a654cb3753037cb9a9b16e7e85aa8ffffdb156ff',\n",
       "    u'name': u'CS:GO Player Profiles: karrigan - Astralis',\n",
       "    u'playtime_forever': 0},\n",
       "   {u'appid': 458260,\n",
       "    u'img_icon_url': u'',\n",
       "    u'img_logo_url': u'f47d138ea2c2a24716ea3df6a828fd984a6e43d6',\n",
       "    u'name': u'CS:GO Player Profiles: pashaBiceps - Virtus.Pro',\n",
       "    u'playtime_forever': 0},\n",
       "   {u'appid': 458270,\n",
       "    u'img_icon_url': u'',\n",
       "    u'img_logo_url': u'674d58a74089b9f91c5a3e495f55eb9c4f951351',\n",
       "    u'name': u\"CS:GO Player Profiles: Guardian - Na'Vi\",\n",
       "    u'playtime_forever': 0},\n",
       "   {u'appid': 458280,\n",
       "    u'img_icon_url': u'',\n",
       "    u'img_logo_url': u'd94abbf06bc8ca44b55f23d275db9f811f107fb7',\n",
       "    u'name': u'CS:GO Player Profiles: Happy - Team EnVyUs',\n",
       "    u'playtime_forever': 0},\n",
       "   {u'appid': 458300,\n",
       "    u'img_icon_url': u'',\n",
       "    u'img_logo_url': u'57a5537e3ad97b327af1070859dd3d1a3da6a09f',\n",
       "    u'name': u'CS:GO Player Profiles: fnx - Luminosity',\n",
       "    u'playtime_forever': 0},\n",
       "   {u'appid': 458310,\n",
       "    u'img_icon_url': u'',\n",
       "    u'img_logo_url': u'a6a690653bd3795f7e813a72ab9b6bc2ab32611c',\n",
       "    u'name': u'CS:GO Player Profiles: Friberg - Ninjas in Pyjamas',\n",
       "    u'playtime_forever': 0},\n",
       "   {u'appid': 458320,\n",
       "    u'img_icon_url': u'',\n",
       "    u'img_logo_url': u'adaea962462bf58d70cf26460fa51fed79132a8b',\n",
       "    u'name': u'CS:GO Player Profiles: Maikelele - FaZe',\n",
       "    u'playtime_forever': 0},\n",
       "   {u'appid': 497810,\n",
       "    u'img_icon_url': u'',\n",
       "    u'img_logo_url': u'',\n",
       "    u'name': u'CS:GO Player Profiles: Fer - SK Gaming',\n",
       "    u'playtime_forever': 0},\n",
       "   {u'appid': 497811,\n",
       "    u'img_icon_url': u'',\n",
       "    u'img_logo_url': u'',\n",
       "    u'name': u'CS:GO Player Profiles: Dupreeh - Astralis',\n",
       "    u'playtime_forever': 0},\n",
       "   {u'appid': 497812,\n",
       "    u'img_icon_url': u'',\n",
       "    u'img_logo_url': u'',\n",
       "    u'name': u'CS:GO Player Profiles: Tarik - Counter Logic Gaming',\n",
       "    u'playtime_forever': 0},\n",
       "   {u'appid': 497813,\n",
       "    u'img_icon_url': u'',\n",
       "    u'img_logo_url': u'',\n",
       "    u'name': u'CS:GO Player Profiles: Hiko - Team Liquid',\n",
       "    u'playtime_forever': 0},\n",
       "   {u'appid': 585280,\n",
       "    u'img_icon_url': u'',\n",
       "    u'img_logo_url': u'',\n",
       "    u'name': u'CS:GO Player Profiles: Counter-Strike: A Brief History',\n",
       "    u'playtime_forever': 0},\n",
       "   {u'appid': 417860,\n",
       "    u'has_community_visible_stats': True,\n",
       "    u'img_icon_url': u'51909ffd578abe91b984f60c9cfe90ec74845608',\n",
       "    u'img_logo_url': u'ec0b6855713ef1456a0c63f5f693b42e04eaec6c',\n",
       "    u'name': u'Emily is Away',\n",
       "    u'playtime_forever': 0},\n",
       "   {u'appid': 424830,\n",
       "    u'has_community_visible_stats': True,\n",
       "    u'img_icon_url': u'4573b31936420b03505fd7ef052e4ef64ed99127',\n",
       "    u'img_logo_url': u'acca707f8907a25f30b6dd05163229bea08260b3',\n",
       "    u'name': u'Bell Ringer',\n",
       "    u'playtime_forever': 1662},\n",
       "   {u'appid': 429680,\n",
       "    u'has_community_visible_stats': True,\n",
       "    u'img_icon_url': u'd89b910e28d220d5493210bdcdf86785309b1526',\n",
       "    u'img_logo_url': u'861cca5dd02f3cc238953e458cb63218a57bb750',\n",
       "    u'name': u'Spellweaver',\n",
       "    u'playtime_forever': 0},\n",
       "   {u'appid': 431680,\n",
       "    u'has_community_visible_stats': True,\n",
       "    u'img_icon_url': u'e8dfcaf0c7a0959d33728297c8dac1c83a8688f0',\n",
       "    u'img_logo_url': u'a47ec8ff2eb0a3ea63cf635a9eea3e137a21335c',\n",
       "    u'name': u'Nuts!: The Battle of the Bulge',\n",
       "    u'playtime_forever': 280},\n",
       "   {u'appid': 432150,\n",
       "    u'has_community_visible_stats': True,\n",
       "    u'img_icon_url': u'837a0f6eccb9074ed51ad1a011457516ed18ca0e',\n",
       "    u'img_logo_url': u'a67c157b6f8b6565722c21cea57309a783867814',\n",
       "    u'name': u'They Came From The Moon',\n",
       "    u'playtime_forever': 105},\n",
       "   {u'appid': 433950,\n",
       "    u'has_community_visible_stats': True,\n",
       "    u'img_icon_url': u'98b0941b15173a1f98c8c3d0030c9268c643ff30',\n",
       "    u'img_logo_url': u'252416ce3dffc257ea65fa7d6a9d862212cdf660',\n",
       "    u'name': u'Bit Blaster XL',\n",
       "    u'playtime_forever': 121},\n",
       "   {u'appid': 434250,\n",
       "    u'has_community_visible_stats': True,\n",
       "    u'img_icon_url': u'09d68c28627fa7aec7fb01708579467b07e4bd3f',\n",
       "    u'img_logo_url': u'1bf0a2041361b6279b3794a522c71d3b5fd9ef24',\n",
       "    u'name': u'Masked Shooters 2',\n",
       "    u'playtime_forever': 121},\n",
       "   {u'appid': 434610,\n",
       "    u'img_icon_url': u'f6257d3e5da76a19cb4ed4e756b2ed43647e0b45',\n",
       "    u'img_logo_url': u'9c83a8a4b8ae77c4c0f0c529a2336a525ac1166b',\n",
       "    u'name': u'Forbidden planet',\n",
       "    u'playtime_forever': 222},\n",
       "   {u'appid': 436400,\n",
       "    u'img_icon_url': u'f5aae95c9544f88e67deaa71ee0537212ae53629',\n",
       "    u'img_logo_url': u'0d28b38b0fee818a8c1466d14271401f3985d384',\n",
       "    u'name': u'Heroes of the Seven Seas',\n",
       "    u'playtime_forever': 0},\n",
       "   {u'appid': 264240,\n",
       "    u'has_community_visible_stats': True,\n",
       "    u'img_icon_url': u'91ea9edf713013d8e6a212a8134609717840585a',\n",
       "    u'img_logo_url': u'edc5f5923aea5bbc3f4d9f5b30788e0c76067af2',\n",
       "    u'name': u'CONSORTIUM',\n",
       "    u'playtime_forever': 221},\n",
       "   {u'appid': 438480,\n",
       "    u'has_community_visible_stats': True,\n",
       "    u'img_icon_url': u'c1b3094bfa9a69be71fc6446219496a3b4483baa',\n",
       "    u'img_logo_url': u'f0a5f4121330990785309f4117c018afc0f421c6',\n",
       "    u'name': u\"Rock 'N' Roll Defense\",\n",
       "    u'playtime_forever': 105},\n",
       "   {u'appid': 244930,\n",
       "    u'has_community_visible_stats': True,\n",
       "    u'img_icon_url': u'7e90f75e6236774b3e9069e17b3acc3491128166',\n",
       "    u'img_logo_url': u'5ef997590b9ab1816b8fce3751607dacb8c47ff8',\n",
       "    u'name': u'SNOW',\n",
       "    u'playtime_forever': 0},\n",
       "   {u'appid': 437220,\n",
       "    u'img_icon_url': u'68314798715c44705e5b69c9fd1199a60222effe',\n",
       "    u'img_logo_url': u'd7ad336dace17fdb65fc1559c787beb80065c35e',\n",
       "    u'name': u'The Culling',\n",
       "    u'playtime_forever': 265},\n",
       "   {u'appid': 441550,\n",
       "    u'img_icon_url': u'a2488fdf089076ddb52d0806be65e57bc71d4f24',\n",
       "    u'img_logo_url': u'8326f3c55c0d621454054fe09aa1b092068e5bf5',\n",
       "    u'name': u'STAR WARS\\u2122 Rebellion',\n",
       "    u'playtime_forever': 0},\n",
       "   {u'appid': 443940,\n",
       "    u'img_icon_url': u'1c6178899528e20849443baa9bef4a5f22fa4b18',\n",
       "    u'img_logo_url': u'3f8b33c6c25e6ae94b6b887ef5f73ff6aa39d745',\n",
       "    u'name': u'Unknown Battle',\n",
       "    u'playtime_forever': 0},\n",
       "   {u'appid': 444090,\n",
       "    u'has_community_visible_stats': True,\n",
       "    u'img_icon_url': u'd65b24da8ae86719da25053122ca6c8f37e23c09',\n",
       "    u'img_logo_url': u'a4bdf262947bdd4b7c030ea12b214207727961d4',\n",
       "    u'name': u'Paladins',\n",
       "    u'playtime_forever': 674},\n",
       "   {u'appid': 444640,\n",
       "    u'has_community_visible_stats': True,\n",
       "    u'img_icon_url': u'8041a649686724400b5999a364b3bc8ad1840ac2',\n",
       "    u'img_logo_url': u'f271eb39df4d7919dc620290855e7c2578f50a1f',\n",
       "    u'name': u'Bloons TD Battles',\n",
       "    u'playtime_forever': 11},\n",
       "   {u'appid': 444800,\n",
       "    u'has_community_visible_stats': True,\n",
       "    u'img_icon_url': u'fba3690e20685d4937309adebae92404df2bd993',\n",
       "    u'img_logo_url': u'95c5c68fb42c7b1585d01f5f7648589a2cc0afae',\n",
       "    u'name': u'NO THING',\n",
       "    u'playtime_forever': 121},\n",
       "   {u'appid': 447850,\n",
       "    u'img_icon_url': u'fe19d69841bd6533359344a28785404001a71a54',\n",
       "    u'img_logo_url': u'cf6189fd22b6f8b60ef71b384d60aff0d0ff6fb8',\n",
       "    u'name': u'The Next Door',\n",
       "    u'playtime_forever': 105},\n",
       "   {u'appid': 448560,\n",
       "    u'has_community_visible_stats': True,\n",
       "    u'img_icon_url': u'86fb142f2d53721e8b09a48e3f0410beff52e2d5',\n",
       "    u'img_logo_url': u'798260cd87683e13b4ff75d361368e4e4a87a8f4',\n",
       "    u'name': u'Mind Games',\n",
       "    u'playtime_forever': 221},\n",
       "   {u'appid': 450390,\n",
       "    u'has_community_visible_stats': True,\n",
       "    u'img_icon_url': u'69ca11312e3a1779946de8871d6bdb003636ffbf',\n",
       "    u'img_logo_url': u'dde7f70d5d590ba242ca8fcfaac9fe9b5e5e8754',\n",
       "    u'name': u'The Lab',\n",
       "    u'playtime_forever': 0},\n",
       "   {u'appid': 451000,\n",
       "    u'img_icon_url': u'13179af1755637fd9303be5f7d4ceadc2d94cf23',\n",
       "    u'img_logo_url': u'cfd7f4b567c5133a57c0e88cda880c7e31641958',\n",
       "    u'name': u'Ember Kaboom',\n",
       "    u'playtime_forever': 0},\n",
       "   {u'appid': 453710,\n",
       "    u'has_community_visible_stats': True,\n",
       "    u'img_icon_url': u'55e1a1032499e3981164f0837986957bda8ab2bc',\n",
       "    u'img_logo_url': u'2690604c04a5b153ef4680247a177e528483d9ea',\n",
       "    u'name': u'TableTop Soccer',\n",
       "    u'playtime_forever': 105},\n",
       "   {u'appid': 370770,\n",
       "    u'has_community_visible_stats': True,\n",
       "    u'img_icon_url': u'38f76bc99f6c3d010d527c7fec98c93168544ce8',\n",
       "    u'img_logo_url': u'9727e017ac1f3b08f2b6e263c5793cda9af5bbad',\n",
       "    u'name': u'Holodrive',\n",
       "    u'playtime_forever': 121},\n",
       "   {u'appid': 457940,\n",
       "    u'img_icon_url': u'5d584467a10d96a352591650c79e48d2bc91af34',\n",
       "    u'img_logo_url': u'94394cf9fc6d1c04b5b165f997231ea2515eb5d0',\n",
       "    u'name': u'Krog Wars',\n",
       "    u'playtime_forever': 121},\n",
       "   {u'appid': 459910,\n",
       "    u'img_icon_url': u'138303184501b4723202128f50fa44116997258c',\n",
       "    u'img_logo_url': u'0f9f9155191af2262ac1683dc5cfafebb3418415',\n",
       "    u'name': u'30 IMPOSSIBLE LEVELS',\n",
       "    u'playtime_forever': 0},\n",
       "   {u'appid': 473800,\n",
       "    u'img_icon_url': u'02a70b394f3344f8200dbca7fff52c0b858dbce7',\n",
       "    u'img_logo_url': u'81a71889cc7c43eacab705bb05cbb6fffa6cdcae',\n",
       "    u'name': u'Bullet Life 2010',\n",
       "    u'playtime_forever': 0},\n",
       "   {u'appid': 478010,\n",
       "    u'img_icon_url': u'44119af6315ffb31c42f031984fbc72b4daaab8f',\n",
       "    u'img_logo_url': u'52d241a4db0c31737facb0ab345f03c390ea0bb8',\n",
       "    u'name': u'ABC Coloring Town',\n",
       "    u'playtime_forever': 0},\n",
       "   {u'appid': 479170,\n",
       "    u'img_icon_url': u'558ca937cacba130c49cbca2a02309bbd6ec7db4',\n",
       "    u'img_logo_url': u'62d2166c735aacce63ad17fed36e605f2858adcd',\n",
       "    u'name': u'Drunk Wizards',\n",
       "    u'playtime_forever': 0},\n",
       "   {u'appid': 369200,\n",
       "    u'has_community_visible_stats': True,\n",
       "    u'img_icon_url': u'b963ac9e7f0bc025b6ded210ea8f80005bfe2411',\n",
       "    u'img_logo_url': u'f75d9fba3e0eb7693b2d796eb95a52e31f2f54ea',\n",
       "    u'name': u'Ghost in the Shell: Stand Alone Complex - First Assault Online',\n",
       "    u'playtime_forever': 121},\n",
       "   {u'appid': 485740,\n",
       "    u'has_community_visible_stats': True,\n",
       "    u'img_icon_url': u'6820fa13743af7ac97ea6b7fd2bad60a765c6a05',\n",
       "    u'img_logo_url': u'f5102374311a07f3b723fb8bb6b74db461d3283f',\n",
       "    u'name': u'Color Syndrome',\n",
       "    u'playtime_forever': 121},\n",
       "   {u'appid': 486340,\n",
       "    u'img_icon_url': u'705523f17dc98464aea896c1918bc22d56b8930f',\n",
       "    u'img_logo_url': u'770a3156532492b922c7e4411236f213b701e065',\n",
       "    u'name': u\"Gnarltoof's Revenge\",\n",
       "    u'playtime_forever': 121},\n",
       "   {u'appid': 487220,\n",
       "    u'has_community_visible_stats': True,\n",
       "    u'img_icon_url': u'532fb41bbd5381c86d254a258dd498cf9ac0eef6',\n",
       "    u'img_logo_url': u'298d0e50b8fc1b46e9c33bb3500a4d3fe6bd8749',\n",
       "    u'name': u'Freebie',\n",
       "    u'playtime_forever': 121},\n",
       "   {u'appid': 487590,\n",
       "    u'img_icon_url': u'e8158c62aeb36bda11e7defd88cc92fb8f78b754',\n",
       "    u'img_logo_url': u'a5ab5af859a5c07c4fbbfddef46872d3e500d0ca',\n",
       "    u'name': u'Pepe Porcupine',\n",
       "    u'playtime_forever': 0},\n",
       "   {u'appid': 489900,\n",
       "    u'img_icon_url': u'8e9dcaf286d4a2747c073aed68fdcbf20a052290',\n",
       "    u'img_logo_url': u'2b6a1b0fbfbb0d8f4cb882f521064144babf495e',\n",
       "    u'name': u'Bayla Bunny',\n",
       "    u'playtime_forever': 0},\n",
       "   {u'appid': 491580,\n",
       "    u'img_icon_url': u'821d7e04695092ae6eabea0e7c57c6a428f8e865',\n",
       "    u'img_logo_url': u'2c6117579f130141fe02dd5d3e5abe8241d2f5d7',\n",
       "    u'name': u'Mahjong Destiny',\n",
       "    u'playtime_forever': 0},\n",
       "   {u'appid': 479130,\n",
       "    u'img_icon_url': u'2de4307e5a2acda21def4e48b8e8c6ea284b9a57',\n",
       "    u'img_logo_url': u'29f859cfab135415777f6856553d664b662efd79',\n",
       "    u'name': u'ESEA',\n",
       "    u'playtime_forever': 0},\n",
       "   {u'appid': 503820,\n",
       "    u'img_icon_url': u'69a39477c3418ede5f976b63fcdfb9633ca67ce6',\n",
       "    u'img_logo_url': u'853bd136482a8e06a065f0378971ef35ea75a30c',\n",
       "    u'name': u\"A Detective's Novel\",\n",
       "    u'playtime_forever': 121},\n",
       "   {u'appid': 505760,\n",
       "    u'img_icon_url': u'693de12ab28815c50c69efda79ff6aaa42c91dcd',\n",
       "    u'img_logo_url': u'17f6dac7b86cb94d550799e27e7b9fc094796320',\n",
       "    u'name': u'Whispers',\n",
       "    u'playtime_forever': 105},\n",
       "   {u'appid': 507010,\n",
       "    u'has_community_visible_stats': True,\n",
       "    u'img_icon_url': u'e3c4ee45476ab2d7e323f6e13ad6871bd31915dc',\n",
       "    u'img_logo_url': u'0909f8ffe90cadb7cefd61831cb2fb9abaf89cc2',\n",
       "    u'name': u'Mr.President!',\n",
       "    u'playtime_forever': 43},\n",
       "   {u'appid': 509840,\n",
       "    u'has_community_visible_stats': True,\n",
       "    u'img_icon_url': u'ccf7f95ad59c2f35805f90269c8fcff57a85f4e5',\n",
       "    u'img_logo_url': u'f694c129a5ef8b22084ae8ce5bccb8658ddc6229',\n",
       "    u'name': u'El Ninja (Beta)',\n",
       "    u'playtime_forever': 121},\n",
       "   {u'appid': 525190,\n",
       "    u'has_community_visible_stats': True,\n",
       "    u'img_icon_url': u'706e77e2c60ddb52f17fd0dd58c584809a224671',\n",
       "    u'img_logo_url': u'572de7f8a2bf828f81f5e12ba24865857bd3378c',\n",
       "    u'name': u'The Construct',\n",
       "    u'playtime_forever': 105},\n",
       "   {u'appid': 526790,\n",
       "    u'img_icon_url': u'ee453565393f2d9452e428c606e4431a6135f35e',\n",
       "    u'img_logo_url': u'660af959bee960dff413cfbfc9fb488271f883d9',\n",
       "    u'name': u'Monsti',\n",
       "    u'playtime_forever': 0},\n",
       "   {u'appid': 533620,\n",
       "    u'has_community_visible_stats': True,\n",
       "    u'img_icon_url': u'484712f4b380c41dff764246349199dc56c54e2f',\n",
       "    u'img_logo_url': u'6df75b7cdd2a4e969fb826c189cbafa46edeccc5',\n",
       "    u'name': u'STARUSHKO LUB',\n",
       "    u'playtime_forever': 0},\n",
       "   {u'appid': 536680,\n",
       "    u'img_icon_url': u'd778a4cdc495a7d28b67f8201a3ccacb59663f20',\n",
       "    u'img_logo_url': u'10a07bc62254f20ff3d3981d443e75d149136de9',\n",
       "    u'name': u'Miniature - The Story Puzzle',\n",
       "    u'playtime_forever': 0},\n",
       "   {u'appid': 536750,\n",
       "    u'has_community_visible_stats': True,\n",
       "    u'img_icon_url': u'e182fc9873f48a797d91329eca70774354d9b5ad',\n",
       "    u'img_logo_url': u'603e983156ae8be467b88525a67ca3b87c869028',\n",
       "    u'name': u'BoomTown! Deluxe',\n",
       "    u'playtime_forever': 0},\n",
       "   {u'appid': 538590,\n",
       "    u'has_community_visible_stats': True,\n",
       "    u'img_icon_url': u'43135e4dd97b90720eaac12eab3098139fcc46d6',\n",
       "    u'img_logo_url': u'f24da1f5bc0d163a1d91131b1de8ad2ebebebe09',\n",
       "    u'name': u'Sleeping Valley',\n",
       "    u'playtime_forever': 105},\n",
       "   {u'appid': 539730,\n",
       "    u'img_icon_url': u'',\n",
       "    u'img_logo_url': u'cf5e885396ee3a42b753b58b0fdae7fe3cff038a',\n",
       "    u'name': u'True Sight',\n",
       "    u'playtime_forever': 0},\n",
       "   {u'appid': 542970,\n",
       "    u'img_icon_url': u'',\n",
       "    u'img_logo_url': u'',\n",
       "    u'name': u'True Sight: Episode 1',\n",
       "    u'playtime_forever': 0},\n",
       "   {u'appid': 542971,\n",
       "    u'img_icon_url': u'',\n",
       "    u'img_logo_url': u'',\n",
       "    u'name': u'True Sight: Episode 2',\n",
       "    u'playtime_forever': 0},\n",
       "   {u'appid': 542972,\n",
       "    u'img_icon_url': u'',\n",
       "    u'img_logo_url': u'',\n",
       "    u'name': u'True Sight: Episode 3',\n",
       "    u'playtime_forever': 0},\n",
       "   {u'appid': 489520,\n",
       "    u'img_icon_url': u'c17e3a51ac704de8a9a755df9828c7e7a2d7331c',\n",
       "    u'img_logo_url': u'b15c6ceec2f5aa706db25ffba71e5390ca749f4c',\n",
       "    u'name': u'Minion Masters',\n",
       "    u'playtime_forever': 0},\n",
       "   {u'appid': 555940,\n",
       "    u'has_community_visible_stats': True,\n",
       "    u'img_icon_url': u'6a73b0603c49c3cfbf757cb95193d69be801bc66',\n",
       "    u'img_logo_url': u'c1a0ad470a6b565949ac23fdc99f2b541ee97c88',\n",
       "    u'name': u'Fairyland: Fairy Power',\n",
       "    u'playtime_forever': 0},\n",
       "   {u'appid': 526920,\n",
       "    u'img_icon_url': u'8afb0747778869aee1bd5b508d4d1974c0547387',\n",
       "    u'img_logo_url': u'7da6d2727290e6427159833dbf5244dffc410ad8',\n",
       "    u'name': u'SQUAKE',\n",
       "    u'playtime_forever': 0},\n",
       "   {u'appid': 8500,\n",
       "    u'has_community_visible_stats': True,\n",
       "    u'img_icon_url': u'884d8c6482487e74b18ceef872ee9543a1c5828d',\n",
       "    u'img_logo_url': u'e880260b091ec3bfdb96deebaa3b6c0a9dd29c01',\n",
       "    u'name': u'EVE Online',\n",
       "    u'playtime_forever': 376},\n",
       "   {u'appid': 563340,\n",
       "    u'img_icon_url': u'f9807a434448061f7c885a234e531f79cedd83e4',\n",
       "    u'img_logo_url': u'15df17ec6ab0958f1f2d4cc07ee820f6b10b3ba8',\n",
       "    u'name': u'Blue Tear',\n",
       "    u'playtime_forever': 0},\n",
       "   {u'appid': 440,\n",
       "    u'has_community_visible_stats': True,\n",
       "    u'img_icon_url': u'e3f595a92552da3d664ad00277fad2107345f743',\n",
       "    u'img_logo_url': u'07385eb55b5ba974aebbe74d3c99626bda7920b8',\n",
       "    u'name': u'Team Fortress 2',\n",
       "    u'playtime_forever': 23706},\n",
       "   {u'appid': 570,\n",
       "    u'img_icon_url': u'0bbb630d63262dd66d2fdd0f7d37e8661a410075',\n",
       "    u'img_logo_url': u'd4f836839254be08d8e9dd333ecc9a01782c26d2',\n",
       "    u'name': u'Dota 2',\n",
       "    u'playtime_2weeks': 62,\n",
       "    u'playtime_forever': 36183},\n",
       "   {u'appid': 1840,\n",
       "    u'img_icon_url': u'a2ac9b9bfd3f560f48d184c90f4e6baaaa4bd92a',\n",
       "    u'img_logo_url': u'a6582cbd44dfc66cc78e113ca26bd74f7812c621',\n",
       "    u'name': u'Source Filmmaker',\n",
       "    u'playtime_2weeks': 28,\n",
       "    u'playtime_forever': 29}]},\n",
       " 'userid': '76561197960272378'}"
      ]
     },
     "execution_count": 35,
     "metadata": {},
     "output_type": "execute_result"
    }
   ],
   "source": [
    "data"
   ]
  },
  {
   "cell_type": "code",
   "execution_count": 30,
   "metadata": {
    "collapsed": true
   },
   "outputs": [],
   "source": [
    "df_temp = json_normalize(data['response'], 'games')"
   ]
  },
  {
   "cell_type": "code",
   "execution_count": 31,
   "metadata": {
    "collapsed": true
   },
   "outputs": [],
   "source": [
    "lst = [10,20]"
   ]
  },
  {
   "cell_type": "code",
   "execution_count": 32,
   "metadata": {
    "collapsed": false
   },
   "outputs": [],
   "source": [
    "df_temp = df_temp[df_temp['appid'].isin(lst)]"
   ]
  },
  {
   "cell_type": "code",
   "execution_count": 33,
   "metadata": {
    "collapsed": false
   },
   "outputs": [
    {
     "data": {
      "text/html": [
       "<div>\n",
       "<table border=\"1\" class=\"dataframe\">\n",
       "  <thead>\n",
       "    <tr style=\"text-align: right;\">\n",
       "      <th></th>\n",
       "      <th>appid</th>\n",
       "      <th>has_community_visible_stats</th>\n",
       "      <th>img_icon_url</th>\n",
       "      <th>img_logo_url</th>\n",
       "      <th>name</th>\n",
       "      <th>playtime_2weeks</th>\n",
       "      <th>playtime_forever</th>\n",
       "    </tr>\n",
       "  </thead>\n",
       "  <tbody>\n",
       "    <tr>\n",
       "      <th>0</th>\n",
       "      <td>10</td>\n",
       "      <td>True</td>\n",
       "      <td>6b0312cda02f5f777efa2f3318c307ff9acafbb5</td>\n",
       "      <td>af890f848dd606ac2fd4415de3c3f5e7a66fcb9f</td>\n",
       "      <td>Counter-Strike</td>\n",
       "      <td>NaN</td>\n",
       "      <td>15175</td>\n",
       "    </tr>\n",
       "    <tr>\n",
       "      <th>1</th>\n",
       "      <td>20</td>\n",
       "      <td>True</td>\n",
       "      <td>38ea7ebe3c1abbbbf4eabdbef174c41a972102b9</td>\n",
       "      <td>515bc393c861d91b9165f0697040c015f50bcb5e</td>\n",
       "      <td>Team Fortress Classic</td>\n",
       "      <td>NaN</td>\n",
       "      <td>0</td>\n",
       "    </tr>\n",
       "  </tbody>\n",
       "</table>\n",
       "</div>"
      ],
      "text/plain": [
       "   appid has_community_visible_stats  \\\n",
       "0     10                        True   \n",
       "1     20                        True   \n",
       "\n",
       "                               img_icon_url  \\\n",
       "0  6b0312cda02f5f777efa2f3318c307ff9acafbb5   \n",
       "1  38ea7ebe3c1abbbbf4eabdbef174c41a972102b9   \n",
       "\n",
       "                               img_logo_url                   name  \\\n",
       "0  af890f848dd606ac2fd4415de3c3f5e7a66fcb9f         Counter-Strike   \n",
       "1  515bc393c861d91b9165f0697040c015f50bcb5e  Team Fortress Classic   \n",
       "\n",
       "   playtime_2weeks  playtime_forever  \n",
       "0              NaN             15175  \n",
       "1              NaN                 0  "
      ]
     },
     "execution_count": 33,
     "metadata": {},
     "output_type": "execute_result"
    }
   ],
   "source": [
    "df_temp"
   ]
  },
  {
   "cell_type": "code",
   "execution_count": null,
   "metadata": {
    "collapsed": true
   },
   "outputs": [],
   "source": []
  }
 ],
 "metadata": {
  "kernelspec": {
   "display_name": "Python 2",
   "language": "python",
   "name": "python2"
  },
  "language_info": {
   "codemirror_mode": {
    "name": "ipython",
    "version": 2
   },
   "file_extension": ".py",
   "mimetype": "text/x-python",
   "name": "python",
   "nbconvert_exporter": "python",
   "pygments_lexer": "ipython2",
   "version": "2.7.11"
  }
 },
 "nbformat": 4,
 "nbformat_minor": 0
}

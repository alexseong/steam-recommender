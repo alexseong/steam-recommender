{
 "cells": [
  {
   "cell_type": "code",
   "execution_count": 20,
   "metadata": {
    "collapsed": true
   },
   "outputs": [],
   "source": [
    "import pandas as pd\n",
    "import numpy as np\n",
    "from ast import literal_eval"
   ]
  },
  {
   "cell_type": "code",
   "execution_count": 355,
   "metadata": {
    "collapsed": true
   },
   "outputs": [],
   "source": [
    "df4 = pd.read_csv('sample_df2.csv')"
   ]
  },
  {
   "cell_type": "code",
   "execution_count": 356,
   "metadata": {
    "collapsed": false
   },
   "outputs": [],
   "source": [
    "df5 = pd.read_csv('friends.csv')"
   ]
  },
  {
   "cell_type": "code",
   "execution_count": 357,
   "metadata": {
    "collapsed": false
   },
   "outputs": [
    {
     "data": {
      "text/html": [
       "<div>\n",
       "<table border=\"1\" class=\"dataframe\">\n",
       "  <thead>\n",
       "    <tr style=\"text-align: right;\">\n",
       "      <th></th>\n",
       "      <th>Unnamed: 0</th>\n",
       "      <th>Sample ID</th>\n",
       "      <th>Friends List</th>\n",
       "    </tr>\n",
       "  </thead>\n",
       "  <tbody>\n",
       "    <tr>\n",
       "      <th>0</th>\n",
       "      <td>0</td>\n",
       "      <td>76561198170202362</td>\n",
       "      <td>{'76561198170202362': [76561197962264387, 7656...</td>\n",
       "    </tr>\n",
       "    <tr>\n",
       "      <th>1</th>\n",
       "      <td>1</td>\n",
       "      <td>76561198027157401</td>\n",
       "      <td>{'76561198027157401': [76561197984366267, 7656...</td>\n",
       "    </tr>\n",
       "    <tr>\n",
       "      <th>2</th>\n",
       "      <td>2</td>\n",
       "      <td>76561198072624976</td>\n",
       "      <td>{'76561198072624976': [76561197967333664, 7656...</td>\n",
       "    </tr>\n",
       "    <tr>\n",
       "      <th>3</th>\n",
       "      <td>3</td>\n",
       "      <td>76561198093869777</td>\n",
       "      <td>{'76561198093869777': [76561197961787764, 7656...</td>\n",
       "    </tr>\n",
       "    <tr>\n",
       "      <th>4</th>\n",
       "      <td>4</td>\n",
       "      <td>76561198212527244</td>\n",
       "      <td>{'76561198212527244': [76561197995153956, 7656...</td>\n",
       "    </tr>\n",
       "  </tbody>\n",
       "</table>\n",
       "</div>"
      ],
      "text/plain": [
       "   Unnamed: 0          Sample ID  \\\n",
       "0           0  76561198170202362   \n",
       "1           1  76561198027157401   \n",
       "2           2  76561198072624976   \n",
       "3           3  76561198093869777   \n",
       "4           4  76561198212527244   \n",
       "\n",
       "                                        Friends List  \n",
       "0  {'76561198170202362': [76561197962264387, 7656...  \n",
       "1  {'76561198027157401': [76561197984366267, 7656...  \n",
       "2  {'76561198072624976': [76561197967333664, 7656...  \n",
       "3  {'76561198093869777': [76561197961787764, 7656...  \n",
       "4  {'76561198212527244': [76561197995153956, 7656...  "
      ]
     },
     "execution_count": 357,
     "metadata": {},
     "output_type": "execute_result"
    }
   ],
   "source": [
    "df5.head()"
   ]
  },
  {
   "cell_type": "code",
   "execution_count": 358,
   "metadata": {
    "collapsed": false
   },
   "outputs": [],
   "source": [
    "actual = df5['Friends List'].tolist()"
   ]
  },
  {
   "cell_type": "code",
   "execution_count": 359,
   "metadata": {
    "collapsed": false
   },
   "outputs": [],
   "source": [
    "actual = [literal_eval(x) for x in actual]"
   ]
  },
  {
   "cell_type": "code",
   "execution_count": 360,
   "metadata": {
    "collapsed": false
   },
   "outputs": [],
   "source": [
    "user = [x.keys()[0] for x in actual]"
   ]
  },
  {
   "cell_type": "code",
   "execution_count": 361,
   "metadata": {
    "collapsed": true
   },
   "outputs": [],
   "source": [
    "friends = [x.values()[0] for x in actual]"
   ]
  },
  {
   "cell_type": "code",
   "execution_count": 362,
   "metadata": {
    "collapsed": false
   },
   "outputs": [],
   "source": [
    "df5['user'] = user"
   ]
  },
  {
   "cell_type": "code",
   "execution_count": 363,
   "metadata": {
    "collapsed": false
   },
   "outputs": [],
   "source": [
    "df5['friend'] = friends"
   ]
  },
  {
   "cell_type": "code",
   "execution_count": 364,
   "metadata": {
    "collapsed": false
   },
   "outputs": [],
   "source": [
    "df5 = df5[['user','friend']]"
   ]
  },
  {
   "cell_type": "code",
   "execution_count": 365,
   "metadata": {
    "collapsed": false
   },
   "outputs": [],
   "source": [
    "df5.rename(columns={'user':'Sample ID'}, inplace=True)"
   ]
  },
  {
   "cell_type": "code",
   "execution_count": 366,
   "metadata": {
    "collapsed": true
   },
   "outputs": [],
   "source": [
    "df4['Sample ID'] = df4['Sample ID'].astype(str)"
   ]
  },
  {
   "cell_type": "code",
   "execution_count": 367,
   "metadata": {
    "collapsed": true
   },
   "outputs": [],
   "source": [
    "df5['Sample ID'] = df5['Sample ID'].astype(str)"
   ]
  },
  {
   "cell_type": "code",
   "execution_count": 368,
   "metadata": {
    "collapsed": false
   },
   "outputs": [
    {
     "data": {
      "text/plain": [
       "str"
      ]
     },
     "execution_count": 368,
     "metadata": {},
     "output_type": "execute_result"
    }
   ],
   "source": [
    "type(df5['Sample ID'].tolist()[0])"
   ]
  },
  {
   "cell_type": "code",
   "execution_count": 369,
   "metadata": {
    "collapsed": false
   },
   "outputs": [
    {
     "data": {
      "text/html": [
       "<div>\n",
       "<table border=\"1\" class=\"dataframe\">\n",
       "  <thead>\n",
       "    <tr style=\"text-align: right;\">\n",
       "      <th></th>\n",
       "      <th>Sample ID</th>\n",
       "      <th>model1</th>\n",
       "      <th>model2</th>\n",
       "    </tr>\n",
       "  </thead>\n",
       "  <tbody>\n",
       "    <tr>\n",
       "      <th>0</th>\n",
       "      <td>76561198170202362</td>\n",
       "      <td>{'76561198170202362': [76561198261226955, 7656...</td>\n",
       "      <td>{'76561198170202362': [76561198045294417, 7656...</td>\n",
       "    </tr>\n",
       "    <tr>\n",
       "      <th>1</th>\n",
       "      <td>76561198027157401</td>\n",
       "      <td>{'76561198027157401': [76561198283551598, 7656...</td>\n",
       "      <td>{'76561198027157401': [76561197973054167, 7656...</td>\n",
       "    </tr>\n",
       "  </tbody>\n",
       "</table>\n",
       "</div>"
      ],
      "text/plain": [
       "           Sample ID                                             model1  \\\n",
       "0  76561198170202362  {'76561198170202362': [76561198261226955, 7656...   \n",
       "1  76561198027157401  {'76561198027157401': [76561198283551598, 7656...   \n",
       "\n",
       "                                              model2  \n",
       "0  {'76561198170202362': [76561198045294417, 7656...  \n",
       "1  {'76561198027157401': [76561197973054167, 7656...  "
      ]
     },
     "execution_count": 369,
     "metadata": {},
     "output_type": "execute_result"
    }
   ],
   "source": [
    "df4.head(2)"
   ]
  },
  {
   "cell_type": "code",
   "execution_count": 370,
   "metadata": {
    "collapsed": false,
    "scrolled": true
   },
   "outputs": [
    {
     "data": {
      "text/html": [
       "<div>\n",
       "<table border=\"1\" class=\"dataframe\">\n",
       "  <thead>\n",
       "    <tr style=\"text-align: right;\">\n",
       "      <th></th>\n",
       "      <th>Sample ID</th>\n",
       "      <th>friend</th>\n",
       "    </tr>\n",
       "  </thead>\n",
       "  <tbody>\n",
       "    <tr>\n",
       "      <th>0</th>\n",
       "      <td>76561198170202362</td>\n",
       "      <td>[76561197962264387, 76561197965106585, 7656119...</td>\n",
       "    </tr>\n",
       "    <tr>\n",
       "      <th>1</th>\n",
       "      <td>76561198027157401</td>\n",
       "      <td>[76561197984366267, 76561197995381211, 7656119...</td>\n",
       "    </tr>\n",
       "  </tbody>\n",
       "</table>\n",
       "</div>"
      ],
      "text/plain": [
       "           Sample ID                                             friend\n",
       "0  76561198170202362  [76561197962264387, 76561197965106585, 7656119...\n",
       "1  76561198027157401  [76561197984366267, 76561197995381211, 7656119..."
      ]
     },
     "execution_count": 370,
     "metadata": {},
     "output_type": "execute_result"
    }
   ],
   "source": [
    "df5.head(2)"
   ]
  },
  {
   "cell_type": "code",
   "execution_count": 411,
   "metadata": {
    "collapsed": true
   },
   "outputs": [],
   "source": [
    "df = pd.merge(df4, df5, on='Sample ID')"
   ]
  },
  {
   "cell_type": "code",
   "execution_count": 412,
   "metadata": {
    "collapsed": false,
    "scrolled": false
   },
   "outputs": [
    {
     "data": {
      "text/html": [
       "<div>\n",
       "<table border=\"1\" class=\"dataframe\">\n",
       "  <thead>\n",
       "    <tr style=\"text-align: right;\">\n",
       "      <th></th>\n",
       "      <th>Sample ID</th>\n",
       "      <th>model1</th>\n",
       "      <th>model2</th>\n",
       "      <th>friend</th>\n",
       "    </tr>\n",
       "  </thead>\n",
       "  <tbody>\n",
       "    <tr>\n",
       "      <th>0</th>\n",
       "      <td>76561198170202362</td>\n",
       "      <td>{'76561198170202362': [76561198261226955, 7656...</td>\n",
       "      <td>{'76561198170202362': [76561198045294417, 7656...</td>\n",
       "      <td>[76561197962264387, 76561197965106585, 7656119...</td>\n",
       "    </tr>\n",
       "    <tr>\n",
       "      <th>1</th>\n",
       "      <td>76561198027157401</td>\n",
       "      <td>{'76561198027157401': [76561198283551598, 7656...</td>\n",
       "      <td>{'76561198027157401': [76561197973054167, 7656...</td>\n",
       "      <td>[76561197984366267, 76561197995381211, 7656119...</td>\n",
       "    </tr>\n",
       "    <tr>\n",
       "      <th>2</th>\n",
       "      <td>76561198072624976</td>\n",
       "      <td>{'76561198072624976': [76561198114953521, 7656...</td>\n",
       "      <td>{'76561198072624976': [76561198015344681, 7656...</td>\n",
       "      <td>[76561197967333664, 76561197990384807, 7656119...</td>\n",
       "    </tr>\n",
       "    <tr>\n",
       "      <th>3</th>\n",
       "      <td>76561198093869777</td>\n",
       "      <td>{'76561198093869777': [76561198074593220, 7656...</td>\n",
       "      <td>{'76561198093869777': [76561198176814243, 7656...</td>\n",
       "      <td>[76561197961787764, 76561197961859314, 7656119...</td>\n",
       "    </tr>\n",
       "    <tr>\n",
       "      <th>4</th>\n",
       "      <td>76561198212527244</td>\n",
       "      <td>{'76561198212527244': [76561198190232437, 7656...</td>\n",
       "      <td>{'76561198212527244': [76561198062828779, 7656...</td>\n",
       "      <td>[76561197995153956, 76561198038068965, 7656119...</td>\n",
       "    </tr>\n",
       "  </tbody>\n",
       "</table>\n",
       "</div>"
      ],
      "text/plain": [
       "           Sample ID                                             model1  \\\n",
       "0  76561198170202362  {'76561198170202362': [76561198261226955, 7656...   \n",
       "1  76561198027157401  {'76561198027157401': [76561198283551598, 7656...   \n",
       "2  76561198072624976  {'76561198072624976': [76561198114953521, 7656...   \n",
       "3  76561198093869777  {'76561198093869777': [76561198074593220, 7656...   \n",
       "4  76561198212527244  {'76561198212527244': [76561198190232437, 7656...   \n",
       "\n",
       "                                              model2  \\\n",
       "0  {'76561198170202362': [76561198045294417, 7656...   \n",
       "1  {'76561198027157401': [76561197973054167, 7656...   \n",
       "2  {'76561198072624976': [76561198015344681, 7656...   \n",
       "3  {'76561198093869777': [76561198176814243, 7656...   \n",
       "4  {'76561198212527244': [76561198062828779, 7656...   \n",
       "\n",
       "                                              friend  \n",
       "0  [76561197962264387, 76561197965106585, 7656119...  \n",
       "1  [76561197984366267, 76561197995381211, 7656119...  \n",
       "2  [76561197967333664, 76561197990384807, 7656119...  \n",
       "3  [76561197961787764, 76561197961859314, 7656119...  \n",
       "4  [76561197995153956, 76561198038068965, 7656119...  "
      ]
     },
     "execution_count": 412,
     "metadata": {},
     "output_type": "execute_result"
    }
   ],
   "source": [
    "df.head()"
   ]
  },
  {
   "cell_type": "code",
   "execution_count": 413,
   "metadata": {
    "collapsed": false
   },
   "outputs": [],
   "source": [
    "ids = df['Sample ID'].tolist()\n",
    "model1 = df['model1'].tolist()\n",
    "model1 = [literal_eval(x).values() for x in model1]\n",
    "df['model1'] = model1\n",
    "model2 = df['model2'].tolist()\n",
    "model2 = [literal_eval(x).values() for x in model2]\n",
    "df['model2'] = model2\n",
    "actual = df['friend'].tolist()\n",
    "length = [1 if len(l) >= 10 else 0 for l in actual]\n",
    "score1 = []\n",
    "score2 = []\n",
    "\n",
    "for i in xrange(len(actual)):\n",
    "    for item in actual[i]:\n",
    "        if item in model1[i][0]:\n",
    "            score1.append(1)\n",
    "            break\n",
    "    score1.append(0)\n",
    "\n",
    "for i in xrange(len(actual)):\n",
    "    for item in actual[i]:\n",
    "        if item in model2[i][0]:\n",
    "            score2.append(1)\n",
    "            break\n",
    "    score2.append(0)\n",
    "\n",
    "# df['score1'] = score1\n",
    "# df['score2'] = score2"
   ]
  },
  {
   "cell_type": "code",
   "execution_count": 416,
   "metadata": {
    "collapsed": false
   },
   "outputs": [
    {
     "data": {
      "text/plain": [
       "59"
      ]
     },
     "execution_count": 416,
     "metadata": {},
     "output_type": "execute_result"
    }
   ],
   "source": [
    "sum(score1)"
   ]
  },
  {
   "cell_type": "code",
   "execution_count": 417,
   "metadata": {
    "collapsed": false
   },
   "outputs": [
    {
     "data": {
      "text/plain": [
       "41"
      ]
     },
     "execution_count": 417,
     "metadata": {},
     "output_type": "execute_result"
    }
   ],
   "source": [
    "sum(score2)"
   ]
  },
  {
   "cell_type": "code",
   "execution_count": null,
   "metadata": {
    "collapsed": false
   },
   "outputs": [],
   "source": [
    "sum(df['score1'].tolist())"
   ]
  },
  {
   "cell_type": "code",
   "execution_count": null,
   "metadata": {
    "collapsed": false
   },
   "outputs": [],
   "source": [
    "sum(df['score2'].tolist())"
   ]
  },
  {
   "cell_type": "code",
   "execution_count": 278,
   "metadata": {
    "collapsed": false
   },
   "outputs": [],
   "source": [
    "model1 = df['model1'].tolist()\n",
    "model1 = [literal_eval(x) for x in model1]\n",
    "model2 = df['model2'].tolist()\n",
    "model2 = [literal_eval(x) for x in model2]"
   ]
  },
  {
   "cell_type": "code",
   "execution_count": null,
   "metadata": {
    "collapsed": true
   },
   "outputs": [],
   "source": [
    "final['model1']"
   ]
  }
 ],
 "metadata": {
  "anaconda-cloud": {},
  "kernelspec": {
   "display_name": "Python [conda root]",
   "language": "python",
   "name": "conda-root-py"
  },
  "language_info": {
   "codemirror_mode": {
    "name": "ipython",
    "version": 2
   },
   "file_extension": ".py",
   "mimetype": "text/x-python",
   "name": "python",
   "nbconvert_exporter": "python",
   "pygments_lexer": "ipython2",
   "version": "2.7.12"
  }
 },
 "nbformat": 4,
 "nbformat_minor": 1
}

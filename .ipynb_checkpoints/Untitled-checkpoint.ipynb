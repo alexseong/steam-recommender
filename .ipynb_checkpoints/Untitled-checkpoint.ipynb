{
 "cells": [
  {
   "cell_type": "code",
   "execution_count": 1,
   "metadata": {
    "collapsed": true
   },
   "outputs": [],
   "source": [
    "import pandas as pd"
   ]
  },
  {
   "cell_type": "code",
   "execution_count": 2,
   "metadata": {
    "collapsed": true
   },
   "outputs": [],
   "source": [
    "test1 = pd.read_csv('Data/game_info_112.csv')"
   ]
  },
  {
   "cell_type": "code",
   "execution_count": 3,
   "metadata": {
    "collapsed": true
   },
   "outputs": [],
   "source": [
    "test2 = pd.read_csv('Data/game_info_113.csv')"
   ]
  },
  {
   "cell_type": "code",
   "execution_count": 4,
   "metadata": {
    "collapsed": false
   },
   "outputs": [
    {
     "data": {
      "text/html": [
       "<div>\n",
       "<table border=\"1\" class=\"dataframe\">\n",
       "  <thead>\n",
       "    <tr style=\"text-align: right;\">\n",
       "      <th></th>\n",
       "      <th>Game ID</th>\n",
       "      <th>Game Title</th>\n",
       "      <th>Game Type</th>\n",
       "      <th>Game Desc</th>\n",
       "      <th>Initial Price</th>\n",
       "      <th>Final Price</th>\n",
       "      <th>Release Date</th>\n",
       "      <th>Game Free</th>\n",
       "      <th>Img URL</th>\n",
       "      <th>Game DLC</th>\n",
       "      <th>Metacritic Rating</th>\n",
       "      <th>Game Category</th>\n",
       "      <th>Game Genres</th>\n",
       "    </tr>\n",
       "  </thead>\n",
       "  <tbody>\n",
       "    <tr>\n",
       "      <th>4395</th>\n",
       "      <td>408450</td>\n",
       "      <td>Last Days of Spring Soundtrack</td>\n",
       "      <td>dlc</td>\n",
       "      <td>﻿The “Last Days of Spring” Official Soundtrack...</td>\n",
       "      <td>1.99</td>\n",
       "      <td>1.99</td>\n",
       "      <td>Oct 7, 2015</td>\n",
       "      <td>False</td>\n",
       "      <td>http://cdn.akamai.steamstatic.com/steam/apps/4...</td>\n",
       "      <td>[]</td>\n",
       "      <td>0</td>\n",
       "      <td>[Single-player, Downloadable Content]</td>\n",
       "      <td>[Simulation]</td>\n",
       "    </tr>\n",
       "    <tr>\n",
       "      <th>4396</th>\n",
       "      <td>408470</td>\n",
       "      <td>Shutter Demo</td>\n",
       "      <td>demo</td>\n",
       "      <td>﻿Re-live a dark and haunting tale in this fixe...</td>\n",
       "      <td>0.00</td>\n",
       "      <td>0.00</td>\n",
       "      <td>Oct 12, 2015</td>\n",
       "      <td>True</td>\n",
       "      <td>http://cdn.akamai.steamstatic.com/steam/apps/4...</td>\n",
       "      <td>[]</td>\n",
       "      <td>0</td>\n",
       "      <td>[Single-player, Game demo]</td>\n",
       "      <td>[Adventure, Indie]</td>\n",
       "    </tr>\n",
       "    <tr>\n",
       "      <th>4397</th>\n",
       "      <td>408500</td>\n",
       "      <td>SMITE - New Player Pack</td>\n",
       "      <td>NaN</td>\n",
       "      <td>NaN</td>\n",
       "      <td>0.00</td>\n",
       "      <td>0.00</td>\n",
       "      <td>NaN</td>\n",
       "      <td>NaN</td>\n",
       "      <td>NaN</td>\n",
       "      <td>[]</td>\n",
       "      <td>0</td>\n",
       "      <td>[]</td>\n",
       "      <td>[]</td>\n",
       "    </tr>\n",
       "    <tr>\n",
       "      <th>4398</th>\n",
       "      <td>408510</td>\n",
       "      <td>The Curious Expedition OST</td>\n",
       "      <td>dlc</td>\n",
       "      <td>﻿Original Soundtrack for the roguelike expedit...</td>\n",
       "      <td>8.99</td>\n",
       "      <td>8.99</td>\n",
       "      <td>Dec 7, 2015</td>\n",
       "      <td>False</td>\n",
       "      <td>http://cdn.akamai.steamstatic.com/steam/apps/4...</td>\n",
       "      <td>[]</td>\n",
       "      <td>0</td>\n",
       "      <td>[Downloadable Content]</td>\n",
       "      <td>[Adventure, Indie, RPG, Simulation, Strategy]</td>\n",
       "    </tr>\n",
       "    <tr>\n",
       "      <th>4399</th>\n",
       "      <td>408550</td>\n",
       "      <td>Puzzle Strike - Shadows Characters</td>\n",
       "      <td>dlc</td>\n",
       "      <td>﻿Unlock the 10 Shadows expansion characters in...</td>\n",
       "      <td>14.99</td>\n",
       "      <td>14.99</td>\n",
       "      <td>Dec 21, 2015</td>\n",
       "      <td>False</td>\n",
       "      <td>http://cdn.akamai.steamstatic.com/steam/apps/4...</td>\n",
       "      <td>[]</td>\n",
       "      <td>0</td>\n",
       "      <td>[Single-player, Multi-player, Cross-Platform M...</td>\n",
       "      <td>[Indie, Strategy]</td>\n",
       "    </tr>\n",
       "  </tbody>\n",
       "</table>\n",
       "</div>"
      ],
      "text/plain": [
       "      Game ID                          Game Title Game Type  \\\n",
       "4395   408450      Last Days of Spring Soundtrack       dlc   \n",
       "4396   408470                        Shutter Demo      demo   \n",
       "4397   408500             SMITE - New Player Pack       NaN   \n",
       "4398   408510          The Curious Expedition OST       dlc   \n",
       "4399   408550  Puzzle Strike - Shadows Characters       dlc   \n",
       "\n",
       "                                              Game Desc  Initial Price  \\\n",
       "4395  ﻿The “Last Days of Spring” Official Soundtrack...           1.99   \n",
       "4396  ﻿Re-live a dark and haunting tale in this fixe...           0.00   \n",
       "4397                                                NaN           0.00   \n",
       "4398  ﻿Original Soundtrack for the roguelike expedit...           8.99   \n",
       "4399  ﻿Unlock the 10 Shadows expansion characters in...          14.99   \n",
       "\n",
       "      Final Price  Release Date Game Free  \\\n",
       "4395         1.99   Oct 7, 2015     False   \n",
       "4396         0.00  Oct 12, 2015      True   \n",
       "4397         0.00           NaN       NaN   \n",
       "4398         8.99   Dec 7, 2015     False   \n",
       "4399        14.99  Dec 21, 2015     False   \n",
       "\n",
       "                                                Img URL Game DLC  \\\n",
       "4395  http://cdn.akamai.steamstatic.com/steam/apps/4...       []   \n",
       "4396  http://cdn.akamai.steamstatic.com/steam/apps/4...       []   \n",
       "4397                                                NaN       []   \n",
       "4398  http://cdn.akamai.steamstatic.com/steam/apps/4...       []   \n",
       "4399  http://cdn.akamai.steamstatic.com/steam/apps/4...       []   \n",
       "\n",
       "      Metacritic Rating                                      Game Category  \\\n",
       "4395                  0              [Single-player, Downloadable Content]   \n",
       "4396                  0                         [Single-player, Game demo]   \n",
       "4397                  0                                                 []   \n",
       "4398                  0                             [Downloadable Content]   \n",
       "4399                  0  [Single-player, Multi-player, Cross-Platform M...   \n",
       "\n",
       "                                        Game Genres  \n",
       "4395                                   [Simulation]  \n",
       "4396                             [Adventure, Indie]  \n",
       "4397                                             []  \n",
       "4398  [Adventure, Indie, RPG, Simulation, Strategy]  \n",
       "4399                              [Indie, Strategy]  "
      ]
     },
     "execution_count": 4,
     "metadata": {},
     "output_type": "execute_result"
    }
   ],
   "source": [
    "test1.tail()"
   ]
  },
  {
   "cell_type": "code",
   "execution_count": null,
   "metadata": {
    "collapsed": true
   },
   "outputs": [],
   "source": []
  }
 ],
 "metadata": {
  "anaconda-cloud": {},
  "kernelspec": {
   "display_name": "Python [conda root]",
   "language": "python",
   "name": "conda-root-py"
  },
  "language_info": {
   "codemirror_mode": {
    "name": "ipython",
    "version": 2
   },
   "file_extension": ".py",
   "mimetype": "text/x-python",
   "name": "python",
   "nbconvert_exporter": "python",
   "pygments_lexer": "ipython2",
   "version": "2.7.12"
  }
 },
 "nbformat": 4,
 "nbformat_minor": 1
}

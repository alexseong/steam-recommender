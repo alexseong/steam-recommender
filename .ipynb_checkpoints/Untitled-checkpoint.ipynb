{
 "cells": [
  {
   "cell_type": "code",
   "execution_count": 151,
   "metadata": {
    "collapsed": true
   },
   "outputs": [],
   "source": [
    "import json\n",
    "import pandas as pd\n",
    "import numpy as np\n",
    "from pandas.io.json import json_normalize\n",
    "from ast import literal_eval\n",
    "import os\n",
    "from glob2 import glob, iglob\n",
    "from math import ceil"
   ]
  },
  {
   "cell_type": "code",
   "execution_count": 199,
   "metadata": {
    "collapsed": true
   },
   "outputs": [],
   "source": [
    "def conv_json_to_df(filepath):\n",
    "    # json_dir_name = \"sample_json/\"\n",
    "    # json_dir_name = \"s3://steam-recommender/Data/json_batch1\"\n",
    "    json_pattern = os.path.join(filepath) + '*.json'\n",
    "    fileslist = glob(json_pattern)\n",
    "    i = 0\n",
    "    num_json = len(fileslist)\n",
    "    df = pd.DataFrame()\n",
    "    for files in fileslist:\n",
    "        with open(files) as f:\n",
    "            data = literal_eval(f.read())\n",
    "            i += 1\n",
    "            if data['response'] == {}:\n",
    "                continue\n",
    "            else:\n",
    "                df_temp = json_normalize(data['response'], 'games')\n",
    "                df_temp['userid'] = data['userid']\n",
    "                df_temp.rename(columns={'playtime_forever' : 'playhrs'}, inplace=True)\n",
    "                df_temp['playhrs'] = df_temp['playhrs'] / 60.0\n",
    "                df_temp = df_temp[['userid','appid','playhrs']]\n",
    "                if df.empty:\n",
    "                    df = pd.DataFrame(columns = df_temp.columns)\n",
    "                df = df.append(df_temp)\n",
    "        if i % 100000 == 0 or i == num_json:\n",
    "            df.to_csv(filepath + 'users_owned_games_{}.csv'.format(int(ceil(i/100000.0))), \\\n",
    "            index=False, float_format='%0.2f')\n",
    "#             df = df[0:0]\n",
    "    return df"
   ]
  },
  {
   "cell_type": "code",
   "execution_count": 211,
   "metadata": {
    "collapsed": false
   },
   "outputs": [],
   "source": [
    "def pivot_data(filepath, df):\n",
    "    json_pattern = os.path.join(filepath) + '*.csv'\n",
    "    fileslist = glob(json_pattern)\n",
    "    df = pd.DataFrame()\n",
    "    for files in fileslist:\n",
    "        df_temp = pd.read_csv(files)\n",
    "        if df.empty:\n",
    "            df = pd.DataFrame(columns = df_temp.columns)\n",
    "        df = df.append(df_temp)\n",
    "\n",
    "    df['has'] = 1\n",
    "    df = df[['userid','appid','has','playhrs']]\n",
    "    df = pd.pivot_table(df,index=['userid'], columns = ['appid'], \\\n",
    "         values=['playhrs','has'],aggfunc=np.sum)\n",
    "    df.columns =[s1 + '_' + str(int(s2)) for (s1,s2) in df.columns.tolist()]\n",
    "    df.reset_index('userid', inplace=True)\n",
    "    df.fillna(0, inplace=True)\n",
    "    return df"
   ]
  },
  {
   "cell_type": "code",
   "execution_count": 212,
   "metadata": {
    "collapsed": false
   },
   "outputs": [],
   "source": [
    "df = conv_json_to_df('sample_json/')"
   ]
  },
  {
   "cell_type": "code",
   "execution_count": 213,
   "metadata": {
    "collapsed": false,
    "scrolled": false
   },
   "outputs": [
    {
     "data": {
      "text/html": [
       "<div>\n",
       "<table border=\"1\" class=\"dataframe\">\n",
       "  <thead>\n",
       "    <tr style=\"text-align: right;\">\n",
       "      <th></th>\n",
       "      <th>userid</th>\n",
       "      <th>appid</th>\n",
       "      <th>playhrs</th>\n",
       "    </tr>\n",
       "  </thead>\n",
       "  <tbody>\n",
       "    <tr>\n",
       "      <th>0</th>\n",
       "      <td>76561197960272283</td>\n",
       "      <td>10.0</td>\n",
       "      <td>0.716667</td>\n",
       "    </tr>\n",
       "    <tr>\n",
       "      <th>1</th>\n",
       "      <td>76561197960272283</td>\n",
       "      <td>20.0</td>\n",
       "      <td>0.000000</td>\n",
       "    </tr>\n",
       "    <tr>\n",
       "      <th>2</th>\n",
       "      <td>76561197960272283</td>\n",
       "      <td>30.0</td>\n",
       "      <td>0.000000</td>\n",
       "    </tr>\n",
       "    <tr>\n",
       "      <th>3</th>\n",
       "      <td>76561197960272283</td>\n",
       "      <td>40.0</td>\n",
       "      <td>0.000000</td>\n",
       "    </tr>\n",
       "    <tr>\n",
       "      <th>4</th>\n",
       "      <td>76561197960272283</td>\n",
       "      <td>50.0</td>\n",
       "      <td>1.433333</td>\n",
       "    </tr>\n",
       "  </tbody>\n",
       "</table>\n",
       "</div>"
      ],
      "text/plain": [
       "              userid  appid   playhrs\n",
       "0  76561197960272283   10.0  0.716667\n",
       "1  76561197960272283   20.0  0.000000\n",
       "2  76561197960272283   30.0  0.000000\n",
       "3  76561197960272283   40.0  0.000000\n",
       "4  76561197960272283   50.0  1.433333"
      ]
     },
     "execution_count": 213,
     "metadata": {},
     "output_type": "execute_result"
    }
   ],
   "source": [
    "df.head()"
   ]
  },
  {
   "cell_type": "code",
   "execution_count": null,
   "metadata": {
    "collapsed": true
   },
   "outputs": [],
   "source": []
  },
  {
   "cell_type": "code",
   "execution_count": 214,
   "metadata": {
    "collapsed": false
   },
   "outputs": [],
   "source": [
    "df_T = pivot_data('sample_json/', df)"
   ]
  },
  {
   "cell_type": "code",
   "execution_count": 215,
   "metadata": {
    "collapsed": false
   },
   "outputs": [
    {
     "data": {
      "text/html": [
       "<div>\n",
       "<table border=\"1\" class=\"dataframe\">\n",
       "  <thead>\n",
       "    <tr style=\"text-align: right;\">\n",
       "      <th></th>\n",
       "      <th>userid</th>\n",
       "      <th>has_10</th>\n",
       "      <th>has_20</th>\n",
       "      <th>has_30</th>\n",
       "      <th>has_40</th>\n",
       "      <th>has_50</th>\n",
       "      <th>has_60</th>\n",
       "      <th>has_70</th>\n",
       "      <th>has_80</th>\n",
       "      <th>has_100</th>\n",
       "      <th>...</th>\n",
       "      <th>playhrs_497810</th>\n",
       "      <th>playhrs_497811</th>\n",
       "      <th>playhrs_497812</th>\n",
       "      <th>playhrs_497813</th>\n",
       "      <th>playhrs_500500</th>\n",
       "      <th>playhrs_515040</th>\n",
       "      <th>playhrs_524440</th>\n",
       "      <th>playhrs_539640</th>\n",
       "      <th>playhrs_550040</th>\n",
       "      <th>playhrs_585280</th>\n",
       "    </tr>\n",
       "  </thead>\n",
       "  <tbody>\n",
       "    <tr>\n",
       "      <th>0</th>\n",
       "      <td>7.656120e+16</td>\n",
       "      <td>1.0</td>\n",
       "      <td>1.0</td>\n",
       "      <td>1.0</td>\n",
       "      <td>1.0</td>\n",
       "      <td>1.0</td>\n",
       "      <td>1.0</td>\n",
       "      <td>1.0</td>\n",
       "      <td>1.0</td>\n",
       "      <td>1.0</td>\n",
       "      <td>...</td>\n",
       "      <td>0.0</td>\n",
       "      <td>0.0</td>\n",
       "      <td>0.0</td>\n",
       "      <td>0.0</td>\n",
       "      <td>0.00</td>\n",
       "      <td>0.00</td>\n",
       "      <td>0.0</td>\n",
       "      <td>0.00</td>\n",
       "      <td>0.0</td>\n",
       "      <td>0.0</td>\n",
       "    </tr>\n",
       "    <tr>\n",
       "      <th>1</th>\n",
       "      <td>7.656120e+16</td>\n",
       "      <td>1.0</td>\n",
       "      <td>1.0</td>\n",
       "      <td>1.0</td>\n",
       "      <td>1.0</td>\n",
       "      <td>1.0</td>\n",
       "      <td>1.0</td>\n",
       "      <td>1.0</td>\n",
       "      <td>1.0</td>\n",
       "      <td>1.0</td>\n",
       "      <td>...</td>\n",
       "      <td>0.0</td>\n",
       "      <td>0.0</td>\n",
       "      <td>0.0</td>\n",
       "      <td>0.0</td>\n",
       "      <td>0.00</td>\n",
       "      <td>0.15</td>\n",
       "      <td>0.0</td>\n",
       "      <td>0.02</td>\n",
       "      <td>0.0</td>\n",
       "      <td>0.0</td>\n",
       "    </tr>\n",
       "    <tr>\n",
       "      <th>2</th>\n",
       "      <td>7.656120e+16</td>\n",
       "      <td>1.0</td>\n",
       "      <td>1.0</td>\n",
       "      <td>1.0</td>\n",
       "      <td>1.0</td>\n",
       "      <td>1.0</td>\n",
       "      <td>1.0</td>\n",
       "      <td>1.0</td>\n",
       "      <td>0.0</td>\n",
       "      <td>0.0</td>\n",
       "      <td>...</td>\n",
       "      <td>0.0</td>\n",
       "      <td>0.0</td>\n",
       "      <td>0.0</td>\n",
       "      <td>0.0</td>\n",
       "      <td>0.00</td>\n",
       "      <td>0.00</td>\n",
       "      <td>0.0</td>\n",
       "      <td>0.00</td>\n",
       "      <td>0.0</td>\n",
       "      <td>0.0</td>\n",
       "    </tr>\n",
       "    <tr>\n",
       "      <th>3</th>\n",
       "      <td>7.656120e+16</td>\n",
       "      <td>1.0</td>\n",
       "      <td>1.0</td>\n",
       "      <td>1.0</td>\n",
       "      <td>1.0</td>\n",
       "      <td>1.0</td>\n",
       "      <td>1.0</td>\n",
       "      <td>1.0</td>\n",
       "      <td>0.0</td>\n",
       "      <td>0.0</td>\n",
       "      <td>...</td>\n",
       "      <td>0.0</td>\n",
       "      <td>0.0</td>\n",
       "      <td>0.0</td>\n",
       "      <td>0.0</td>\n",
       "      <td>8.65</td>\n",
       "      <td>0.00</td>\n",
       "      <td>0.0</td>\n",
       "      <td>0.00</td>\n",
       "      <td>0.0</td>\n",
       "      <td>0.0</td>\n",
       "    </tr>\n",
       "    <tr>\n",
       "      <th>4</th>\n",
       "      <td>7.656120e+16</td>\n",
       "      <td>1.0</td>\n",
       "      <td>1.0</td>\n",
       "      <td>1.0</td>\n",
       "      <td>1.0</td>\n",
       "      <td>1.0</td>\n",
       "      <td>1.0</td>\n",
       "      <td>1.0</td>\n",
       "      <td>1.0</td>\n",
       "      <td>1.0</td>\n",
       "      <td>...</td>\n",
       "      <td>0.0</td>\n",
       "      <td>0.0</td>\n",
       "      <td>0.0</td>\n",
       "      <td>0.0</td>\n",
       "      <td>0.00</td>\n",
       "      <td>0.00</td>\n",
       "      <td>0.0</td>\n",
       "      <td>0.00</td>\n",
       "      <td>0.0</td>\n",
       "      <td>0.0</td>\n",
       "    </tr>\n",
       "  </tbody>\n",
       "</table>\n",
       "<p>5 rows × 1203 columns</p>\n",
       "</div>"
      ],
      "text/plain": [
       "         userid  has_10  has_20  has_30  has_40  has_50  has_60  has_70  \\\n",
       "0  7.656120e+16     1.0     1.0     1.0     1.0     1.0     1.0     1.0   \n",
       "1  7.656120e+16     1.0     1.0     1.0     1.0     1.0     1.0     1.0   \n",
       "2  7.656120e+16     1.0     1.0     1.0     1.0     1.0     1.0     1.0   \n",
       "3  7.656120e+16     1.0     1.0     1.0     1.0     1.0     1.0     1.0   \n",
       "4  7.656120e+16     1.0     1.0     1.0     1.0     1.0     1.0     1.0   \n",
       "\n",
       "   has_80  has_100       ...        playhrs_497810  playhrs_497811  \\\n",
       "0     1.0      1.0       ...                   0.0             0.0   \n",
       "1     1.0      1.0       ...                   0.0             0.0   \n",
       "2     0.0      0.0       ...                   0.0             0.0   \n",
       "3     0.0      0.0       ...                   0.0             0.0   \n",
       "4     1.0      1.0       ...                   0.0             0.0   \n",
       "\n",
       "   playhrs_497812  playhrs_497813  playhrs_500500  playhrs_515040  \\\n",
       "0             0.0             0.0            0.00            0.00   \n",
       "1             0.0             0.0            0.00            0.15   \n",
       "2             0.0             0.0            0.00            0.00   \n",
       "3             0.0             0.0            8.65            0.00   \n",
       "4             0.0             0.0            0.00            0.00   \n",
       "\n",
       "   playhrs_524440  playhrs_539640  playhrs_550040  playhrs_585280  \n",
       "0             0.0            0.00             0.0             0.0  \n",
       "1             0.0            0.02             0.0             0.0  \n",
       "2             0.0            0.00             0.0             0.0  \n",
       "3             0.0            0.00             0.0             0.0  \n",
       "4             0.0            0.00             0.0             0.0  \n",
       "\n",
       "[5 rows x 1203 columns]"
      ]
     },
     "execution_count": 215,
     "metadata": {},
     "output_type": "execute_result"
    }
   ],
   "source": [
    "df_T"
   ]
  },
  {
   "cell_type": "code",
   "execution_count": null,
   "metadata": {
    "collapsed": true
   },
   "outputs": [],
   "source": []
  },
  {
   "cell_type": "code",
   "execution_count": null,
   "metadata": {
    "collapsed": true
   },
   "outputs": [],
   "source": []
  }
 ],
 "metadata": {
  "anaconda-cloud": {},
  "kernelspec": {
   "display_name": "Python [conda root]",
   "language": "python",
   "name": "conda-root-py"
  },
  "language_info": {
   "codemirror_mode": {
    "name": "ipython",
    "version": 2
   },
   "file_extension": ".py",
   "mimetype": "text/x-python",
   "name": "python",
   "nbconvert_exporter": "python",
   "pygments_lexer": "ipython2",
   "version": "2.7.12"
  }
 },
 "nbformat": 4,
 "nbformat_minor": 1
}
